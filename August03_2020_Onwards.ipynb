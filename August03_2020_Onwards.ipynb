{
 "cells": [
  {
   "cell_type": "markdown",
   "metadata": {},
   "source": [
    "# Conditional Statements and Loops."
   ]
  },
  {
   "cell_type": "code",
   "execution_count": 1,
   "metadata": {},
   "outputs": [],
   "source": [
    "#Conditional Statments are used to control the flow of the program.\n",
    "#We will start with IF and ELSE\n",
    "# if, elif, else are the conditional statements\n",
    "#"
   ]
  },
  {
   "cell_type": "code",
   "execution_count": null,
   "metadata": {},
   "outputs": [],
   "source": [
    "# so far, we learnt programs executive one after other\n",
    "# statement 1\n",
    "# statement 2\n",
    "# statement 3\n",
    "# statement 4\n",
    "# statement 5\n",
    "# statement 6\n",
    "# statement 7\n",
    "# statement 8\n",
    "# statement 9\n",
    "# statement 10"
   ]
  },
  {
   "cell_type": "code",
   "execution_count": null,
   "metadata": {},
   "outputs": [],
   "source": [
    "#Nested if statements:\n",
    "\n",
    "# statement 1\n",
    "# statement 2\n",
    "if expression:\n",
    "    # statement 3\n",
    "    # statement 4\n",
    "    if expression 2:\n",
    "        #statement 4\n",
    "        #statement 5\n",
    "        #statement 6\n",
    "else: #else will always be linked to the if right before the else at the same level as else\n",
    "    #statement 7\n",
    "    #statement 8\n",
    "    #statement 9\n",
    "#statement 10"
   ]
  },
  {
   "cell_type": "code",
   "execution_count": null,
   "metadata": {},
   "outputs": [],
   "source": [
    "# else statement in if-else is completely optional\n",
    "# you cannot have multiple else for a single if"
   ]
  },
  {
   "cell_type": "code",
   "execution_count": null,
   "metadata": {},
   "outputs": [],
   "source": [
    "#Multi Condition if statement\n",
    "\n",
    "\n",
    "# statement 1\n",
    "# statement 2\n",
    "if expression:\n",
    "    # statement 3\n",
    "    # statement 4\n",
    "if expression:\n",
    "    # statement 11\n",
    "    # statement 12\n",
    "if expression:\n",
    "    # statement 21\n",
    "    # statement 22 \n",
    "else: #else will always be linked to the if right before the else at the same level as else\n",
    "    #statement 7\n",
    "    #statement 8\n",
    "    #statement 9\n",
    "#statement 10"
   ]
  },
  {
   "cell_type": "code",
   "execution_count": null,
   "metadata": {},
   "outputs": [],
   "source": [
    "#Multi Condition elif statement\n",
    "\n",
    "# statement 1\n",
    "# statement 2\n",
    "if expression:\n",
    "    # statement 3\n",
    "    # statement 4\n",
    "elif expression:\n",
    "    # statement 11\n",
    "    # statement 12\n",
    "elif expression:\n",
    "    # statement 21\n",
    "    # statement 22 \n",
    "else: #else will always be linked to the if right before the else at the same level as else\n",
    "    #statement 7\n",
    "    #statement 8\n",
    "    #statement 9\n",
    "#statement 10"
   ]
  },
  {
   "cell_type": "code",
   "execution_count": 3,
   "metadata": {},
   "outputs": [
    {
     "name": "stdout",
     "output_type": "stream",
     "text": [
      "Enter 1st number200\n",
      "Enter 2nd number100\n",
      "Enter 3rd number20\n",
      "num1 is greater than num2\n",
      "100\n",
      "200\n",
      "100\n",
      "num1 is greater than num2\n",
      "180\n",
      "20\n"
     ]
    }
   ],
   "source": [
    "num1=int(input('Enter 1st number'))\n",
    "num2=int(input('Enter 2nd number'))\n",
    "num3=int(input('Enter 3rd number'))\n",
    "if (num1>num2):\n",
    "    print('num1 is greater than num2')\n",
    "    print(num1-num2)\n",
    "    print(num1)\n",
    "    print(num2)\n",
    "    if (num1>num3):\n",
    "        print('num1 is greater than num2')\n",
    "        print(num1-num3)\n",
    "        print(num3)"
   ]
  },
  {
   "cell_type": "code",
   "execution_count": 1,
   "metadata": {},
   "outputs": [
    {
     "name": "stdout",
     "output_type": "stream",
     "text": [
      "Enter 1st number4723498237\n",
      "Enter 2nd number2342342342434234234\n",
      "Enter 3rd number3434\n",
      "num1 is lesser than num2\n",
      "2342342337710735997\n",
      "4723498237\n",
      "2342342342434234234\n"
     ]
    }
   ],
   "source": [
    "num1=int(input('Enter 1st number'))\n",
    "num2=int(input('Enter 2nd number'))\n",
    "num3=int(input('Enter 3rd number'))\n",
    "if (num1>num2):\n",
    "    print('num1 is greater than num2')\n",
    "    print(num1-num2)\n",
    "    print(num1)\n",
    "    print(num2)\n",
    "else:\n",
    "    print('num1 is lesser than num2')\n",
    "    print(num2-num1)\n",
    "    print(num1)\n",
    "    print(num2)"
   ]
  },
  {
   "cell_type": "code",
   "execution_count": 3,
   "metadata": {},
   "outputs": [
    {
     "name": "stdout",
     "output_type": "stream",
     "text": [
      "Enter 1st number2121\n",
      "Enter 2nd number221312\n",
      "Enter 3rd number2321\n",
      "num1 is lesser than num2\n",
      "-219191\n",
      "2121\n",
      "221312\n"
     ]
    }
   ],
   "source": [
    "num1=int(input('Enter 1st number'))\n",
    "num2=int(input('Enter 2nd number'))\n",
    "num3=int(input('Enter 3rd number'))\n",
    "if (num1>num2):\n",
    "    print('num1 is greater than num2')\n",
    "else:\n",
    "    print('num1 is lesser than num2')\n",
    "print(num1-num2)\n",
    "print(num1)\n",
    "print(num2)"
   ]
  },
  {
   "cell_type": "code",
   "execution_count": 4,
   "metadata": {},
   "outputs": [
    {
     "name": "stdout",
     "output_type": "stream",
     "text": [
      "Enter 1st number100\n",
      "Enter 2nd number20\n",
      "Enter 3rd number30\n",
      "num1 is greater than num2 and num3\n",
      "num3 is greater than num1 and num2\n"
     ]
    }
   ],
   "source": [
    "num1=int(input('Enter 1st number'))\n",
    "num2=int(input('Enter 2nd number'))\n",
    "num3=int(input('Enter 3rd number'))\n",
    "if (num1>num2) and (num1>num3):\n",
    "    print('num1 is greater than num2 and num3')\n",
    "if (num2>num3):\n",
    "    print('num2 is greater than num1 and num3')\n",
    "else:\n",
    "    print('num3 is greater than num1 and num2') #this else belongs to previous if"
   ]
  },
  {
   "cell_type": "code",
   "execution_count": 5,
   "metadata": {},
   "outputs": [
    {
     "name": "stdout",
     "output_type": "stream",
     "text": [
      "Enter 1st number100\n",
      "Enter 2nd number20\n",
      "Enter 3rd number30\n",
      "num1 is greater than num2 and num3\n"
     ]
    }
   ],
   "source": [
    "num1=int(input('Enter 1st number'))\n",
    "num2=int(input('Enter 2nd number'))\n",
    "num3=int(input('Enter 3rd number'))\n",
    "if (num1>num2) and (num1>num3):\n",
    "    print('num1 is greater than num2 and num3')\n",
    "elif (num2>num3): #### Same as above statement else elif\n",
    "    print('num2 is greater than num1 and num3')\n",
    "else:\n",
    "    print('num3 is greater than num1 and num2')"
   ]
  },
  {
   "cell_type": "code",
   "execution_count": null,
   "metadata": {},
   "outputs": [],
   "source": [
    "#Use else to provide alternate path for if condition\n",
    "#If there are multiple \"if\"s and only one \"else\", the \"else\" applies only to the \"if\" immediately above the else"
   ]
  },
  {
   "cell_type": "code",
   "execution_count": null,
   "metadata": {},
   "outputs": [],
   "source": [
    "#Input function converts everything into string"
   ]
  },
  {
   "cell_type": "code",
   "execution_count": 6,
   "metadata": {},
   "outputs": [
    {
     "name": "stdout",
     "output_type": "stream",
     "text": [
      "Enter 1st Number5\n",
      "Enter 2nd Number76\n",
      "<class 'str'>\n",
      "<class 'str'>\n"
     ]
    },
    {
     "ename": "TypeError",
     "evalue": "unsupported operand type(s) for /: 'str' and 'str'",
     "output_type": "error",
     "traceback": [
      "\u001b[0;31m---------------------------------------------------------------------------\u001b[0m",
      "\u001b[0;31mTypeError\u001b[0m                                 Traceback (most recent call last)",
      "\u001b[0;32m<ipython-input-6-c5d784bd0589>\u001b[0m in \u001b[0;36m<module>\u001b[0;34m\u001b[0m\n\u001b[1;32m      3\u001b[0m \u001b[0mprint\u001b[0m\u001b[0;34m(\u001b[0m\u001b[0mtype\u001b[0m\u001b[0;34m(\u001b[0m\u001b[0ma\u001b[0m\u001b[0;34m)\u001b[0m\u001b[0;34m)\u001b[0m\u001b[0;34m\u001b[0m\u001b[0;34m\u001b[0m\u001b[0m\n\u001b[1;32m      4\u001b[0m \u001b[0mprint\u001b[0m\u001b[0;34m(\u001b[0m\u001b[0mtype\u001b[0m\u001b[0;34m(\u001b[0m\u001b[0mb\u001b[0m\u001b[0;34m)\u001b[0m\u001b[0;34m)\u001b[0m\u001b[0;34m\u001b[0m\u001b[0;34m\u001b[0m\u001b[0m\n\u001b[0;32m----> 5\u001b[0;31m \u001b[0mprint\u001b[0m\u001b[0;34m(\u001b[0m\u001b[0ma\u001b[0m\u001b[0;34m/\u001b[0m\u001b[0mb\u001b[0m\u001b[0;34m)\u001b[0m\u001b[0;34m\u001b[0m\u001b[0;34m\u001b[0m\u001b[0m\n\u001b[0m",
      "\u001b[0;31mTypeError\u001b[0m: unsupported operand type(s) for /: 'str' and 'str'"
     ]
    }
   ],
   "source": [
    "a=input('Enter 1st Number')\n",
    "b=input('Enter 2nd Number')\n",
    "print(type(a))\n",
    "print(type(b))\n",
    "print(a/b)"
   ]
  },
  {
   "cell_type": "code",
   "execution_count": 7,
   "metadata": {},
   "outputs": [
    {
     "name": "stdout",
     "output_type": "stream",
     "text": [
      "Enter 1st Number23\n",
      "Enter 2nd Number322\n",
      "23 322.0\n",
      "0.07142857142857142\n",
      "<class 'int'>\n",
      "<class 'float'>\n"
     ]
    }
   ],
   "source": [
    "a=int(input('Enter 1st Number')) #this is called typecasting. Typecasting is possible only for fundamental datatypes\n",
    "#for derived datatypes you should be eval() function to do typecasting\n",
    "b=float(input('Enter 2nd Number'))\n",
    "print(a,b)\n",
    "print(a/b)\n",
    "print(type(a))\n",
    "print(type(b))"
   ]
  },
  {
   "cell_type": "code",
   "execution_count": 12,
   "metadata": {},
   "outputs": [
    {
     "name": "stdout",
     "output_type": "stream",
     "text": [
      "enter year: 2004\n",
      "year is a leap year\n"
     ]
    }
   ],
   "source": [
    "#To fine whether year is lead year or not\n",
    "\n",
    "# Logic:\n",
    "#     If year is divisible by 4 leap year\n",
    "#     If year is divisible by 4 and 100, check whether divisible by 400 - if yes, leap year, else non leap year\n",
    "#     if not divisible by 4 not a leap year\n",
    "\n",
    "year = int(input('enter year: '))\n",
    "if year % 4 == 0:\n",
    "    if year % 100 == 0:\n",
    "        if year % 400 == 0:\n",
    "            print('year is leap year')\n",
    "        else:\n",
    "            print('year is not a leap year')\n",
    "    else:\n",
    "        print('year is a leap year')\n",
    "else:\n",
    "    print('year is not leap year')\n",
    "    "
   ]
  },
  {
   "cell_type": "code",
   "execution_count": 15,
   "metadata": {},
   "outputs": [
    {
     "name": "stdout",
     "output_type": "stream",
     "text": [
      "enter year: 1700\n",
      "1700 is not leap year\n"
     ]
    }
   ],
   "source": [
    "#To fine whethere year is lead year or not\n",
    "\n",
    "# Logic:\n",
    "#     If year is divisible by 4 leap year\n",
    "#     If year is divisible by 4 and 100, check whether divisible by 400 - if yes, leap year, else non leap year\n",
    "#     if not divisible by 4 not a leap year\n",
    "\n",
    "#Leap year - 1200, 1600, 2000, 2004, 2020\n",
    "#Not Leap Year - 1967, 1700, 1900\n",
    "\n",
    "#My code\n",
    "year = int(input('enter year: '))\n",
    "if (year % 400 == 0) or (year%4 == 0 and year%100 != 0):\n",
    "    print('%d is a leap year' %year) #%d is output formatting\n",
    "else:\n",
    "    print('%d is not leap year'%year)\n",
    "    "
   ]
  },
  {
   "cell_type": "code",
   "execution_count": 22,
   "metadata": {},
   "outputs": [
    {
     "name": "stdout",
     "output_type": "stream",
     "text": [
      "enter year: 2000\n",
      "2000 is a leap year\n",
      "year 2000 is a leap year\n"
     ]
    }
   ],
   "source": [
    "year = int(input('enter year: '))\n",
    "if (year % 400 == 0) or (year%4 == 0 and year%100 != 0):\n",
    "    print('%d is a leap year' %year) #%d is output formatting\n",
    "    print('year {} is a leap year'.format(year)) #Another way\n",
    "else:\n",
    "    print(f'{year} is not leap year') #This is the easiest way to format than %d. Was introduced in Python 3\n",
    "    print('year {} is not leap year'.format(year)) #Another way"
   ]
  },
  {
   "cell_type": "code",
   "execution_count": null,
   "metadata": {},
   "outputs": [],
   "source": []
  },
  {
   "cell_type": "code",
   "execution_count": 19,
   "metadata": {},
   "outputs": [
    {
     "name": "stdout",
     "output_type": "stream",
     "text": [
      "10\n",
      "20\n",
      "30\n",
      "40\n",
      "\n",
      "\n",
      "10\n",
      "20\n",
      "30\n",
      "40\n",
      "\n",
      "\n",
      "10\t20\t30\t40\t"
     ]
    }
   ],
   "source": [
    "#Output formatting \n",
    "print(10)\n",
    "print(20)\n",
    "print(30)\n",
    "print(40)\n",
    "print('\\n')\n",
    "print(10, end = '\\n')\n",
    "print(20, end = '\\n')\n",
    "print(30, end = '\\n')\n",
    "print(40, end = '\\n')\n",
    "print('\\n')\n",
    "print(10, end = '\\t')\n",
    "print(20, end = '\\t')\n",
    "print(30, end = '\\t')\n",
    "print(40, end = '\\t')"
   ]
  },
  {
   "cell_type": "code",
   "execution_count": 17,
   "metadata": {},
   "outputs": [
    {
     "name": "stdout",
     "output_type": "stream",
     "text": [
      "Enter a random integrer: 53455\n",
      "53455 is Divisible by 5\n"
     ]
    }
   ],
   "source": [
    "#Write a program to check if a number is divisible by 5 and 11\n",
    "num = int(input('Enter a random integer: '))\n",
    "if num%5 == 0 and num%11 == 0:\n",
    "    print(f'{num} is Divisible by 5 and 11')\n",
    "elif num%5==0:\n",
    "    print(f'{num} is Divisible by 5')\n",
    "elif num%11==0:\n",
    "    print(f'{num} is Divisible by 11')\n",
    "else:\n",
    "    print(f'{num} is not Divisible by 5 or 11')"
   ]
  },
  {
   "cell_type": "code",
   "execution_count": 28,
   "metadata": {
    "scrolled": true
   },
   "outputs": [
    {
     "name": "stdout",
     "output_type": "stream",
     "text": [
      "Enter any character: A\n",
      "A is an Alphabet\n"
     ]
    }
   ],
   "source": [
    "#Write a program to check if character is alphabet or not\n",
    "ch = input(\"Enter any character: \")\n",
    "if((ch>='a' and ch<= 'z') or (ch>='A' and ch<='Z')):\n",
    "    print(ch, \"is an Alphabet\")\n",
    "else:\n",
    "    print(ch, \"is not an Alphabet\")"
   ]
  },
  {
   "cell_type": "code",
   "execution_count": 33,
   "metadata": {},
   "outputs": [
    {
     "name": "stdout",
     "output_type": "stream",
     "text": [
      "Enter any character: !\n",
      "! is not a character\n"
     ]
    }
   ],
   "source": [
    "#Write a program to check if character is vowel or consonant\n",
    "ch = input(\"Enter any character: \")\n",
    "if (ch=='a' or ch == 'e'or ch == 'i'or ch == 'o'or ch == 'u' or ch=='A' or ch == 'E'or ch == 'I'or ch == 'O'or ch == 'U'):\n",
    "    print(ch, \"is an Vowel\")\n",
    "elif ((ch >= 'a' and ch <= 'z') or (ch>='A' and ch<='Z')):\n",
    "    print(ch, \"is a consonant\")\n",
    "else:\n",
    "    print(ch, \"is not a character\")"
   ]
  },
  {
   "cell_type": "code",
   "execution_count": 34,
   "metadata": {},
   "outputs": [
    {
     "name": "stdout",
     "output_type": "stream",
     "text": [
      "enter char983247\n"
     ]
    },
    {
     "ename": "TypeError",
     "evalue": "ord() expected a character, but string of length 6 found",
     "output_type": "error",
     "traceback": [
      "\u001b[0;31m---------------------------------------------------------------------------\u001b[0m",
      "\u001b[0;31mTypeError\u001b[0m                                 Traceback (most recent call last)",
      "\u001b[0;32m<ipython-input-34-f2a91ba8ffe2>\u001b[0m in \u001b[0;36m<module>\u001b[0;34m\u001b[0m\n\u001b[1;32m      1\u001b[0m \u001b[0mch\u001b[0m\u001b[0;34m=\u001b[0m\u001b[0minput\u001b[0m\u001b[0;34m(\u001b[0m\u001b[0;34m'enter char'\u001b[0m\u001b[0;34m)\u001b[0m\u001b[0;34m\u001b[0m\u001b[0;34m\u001b[0m\u001b[0m\n\u001b[1;32m      2\u001b[0m \u001b[0;34m\u001b[0m\u001b[0m\n\u001b[0;32m----> 3\u001b[0;31m \u001b[0;32mif\u001b[0m \u001b[0;34m(\u001b[0m\u001b[0;34m(\u001b[0m\u001b[0mord\u001b[0m\u001b[0;34m(\u001b[0m\u001b[0mch\u001b[0m\u001b[0;34m)\u001b[0m \u001b[0;34m>=\u001b[0m \u001b[0;36m97\u001b[0m \u001b[0;32mand\u001b[0m \u001b[0mord\u001b[0m\u001b[0;34m(\u001b[0m\u001b[0mch\u001b[0m\u001b[0;34m)\u001b[0m \u001b[0;34m<=\u001b[0m \u001b[0;36m122\u001b[0m\u001b[0;34m)\u001b[0m \u001b[0;32mor\u001b[0m \u001b[0;34m(\u001b[0m\u001b[0mord\u001b[0m\u001b[0;34m(\u001b[0m\u001b[0mch\u001b[0m\u001b[0;34m)\u001b[0m \u001b[0;34m>=\u001b[0m \u001b[0;36m65\u001b[0m \u001b[0;32mand\u001b[0m \u001b[0mord\u001b[0m\u001b[0;34m(\u001b[0m\u001b[0mch\u001b[0m\u001b[0;34m)\u001b[0m \u001b[0;34m<=\u001b[0m \u001b[0;36m90\u001b[0m\u001b[0;34m)\u001b[0m\u001b[0;34m)\u001b[0m\u001b[0;34m:\u001b[0m\u001b[0;34m\u001b[0m\u001b[0;34m\u001b[0m\u001b[0m\n\u001b[0m\u001b[1;32m      4\u001b[0m     \u001b[0mprint\u001b[0m\u001b[0;34m(\u001b[0m\u001b[0mch\u001b[0m\u001b[0;34m,\u001b[0m \u001b[0;34m\" is alphabet\"\u001b[0m\u001b[0;34m)\u001b[0m\u001b[0;34m\u001b[0m\u001b[0;34m\u001b[0m\u001b[0m\n\u001b[1;32m      5\u001b[0m \u001b[0;32melse\u001b[0m\u001b[0;34m:\u001b[0m\u001b[0;34m\u001b[0m\u001b[0;34m\u001b[0m\u001b[0m\n",
      "\u001b[0;31mTypeError\u001b[0m: ord() expected a character, but string of length 6 found"
     ]
    }
   ],
   "source": [
    "ch=input('enter char') \n",
    " \n",
    "if ((ord(ch) >= 97 and ord(ch) <= 122) or (ord(ch) >= 65 and ord(ch) <= 90)):\n",
    "    print(ch, \" is alphabet\") \n",
    "else: \n",
    "    print(ch, \" is not alphabet\")"
   ]
  },
  {
   "cell_type": "code",
   "execution_count": null,
   "metadata": {},
   "outputs": [],
   "source": [
    "# Write a program to find all roots of a quadratic equation.\n",
    "import math \n",
    "a = int(input('enter the first value a '))\n",
    "b = int(input('enter the second value b '))\n",
    "c = int(input('enter the third constant c '))\n",
    "sqrt_val = math.sqrt((b**2)-(4*a*c))\n",
    "root1 = (-b + sqrt_val)/2*a\n",
    "root2 = (-b - sqrt_val)/2*a\n",
    "print('roots are :',root1)\n",
    "print('roots are :',root2)"
   ]
  },
  {
   "cell_type": "code",
   "execution_count": 1,
   "metadata": {},
   "outputs": [
    {
     "name": "stdout",
     "output_type": "stream",
     "text": [
      "Enter a list: 1,2,3\n",
      "1,2,3 <class 'str'>\n"
     ]
    }
   ],
   "source": [
    "lst = input(\"Enter a list: \")\n",
    "print(lst, type(lst))"
   ]
  },
  {
   "cell_type": "code",
   "execution_count": 3,
   "metadata": {},
   "outputs": [
    {
     "name": "stdout",
     "output_type": "stream",
     "text": [
      "Enter a list: [1,2,3,4,5]\n",
      "['[', '1', ',', '2', ',', '3', ',', '4', ',', '5', ']'] <class 'list'>\n"
     ]
    }
   ],
   "source": [
    "lst = list(input(\"Enter a list: \"))\n",
    "print(lst, type(lst))"
   ]
  },
  {
   "cell_type": "code",
   "execution_count": 4,
   "metadata": {},
   "outputs": [
    {
     "name": "stdout",
     "output_type": "stream",
     "text": [
      "Enter a list: [1,2,3,4,5,6,7]\n",
      "[1, 2, 3, 4, 5, 6, 7] <class 'list'>\n"
     ]
    }
   ],
   "source": [
    "lst = eval(input(\"Enter a list: \")) #Input function gets data as string\n",
    "#For standard datatypes you can the datatype to typecast\n",
    "#But for derived datatype, use the eval function. Python evaluates the function and assigns the correct datatype\n",
    "print(lst, type(lst))"
   ]
  },
  {
   "cell_type": "code",
   "execution_count": 6,
   "metadata": {},
   "outputs": [
    {
     "name": "stdout",
     "output_type": "stream",
     "text": [
      "60 <class 'int'>\n"
     ]
    }
   ],
   "source": [
    "num = eval('10+20+30') # even if the input is in quotes Python evaluates to a string\n",
    "print(num, type(num))"
   ]
  },
  {
   "cell_type": "markdown",
   "metadata": {},
   "source": [
    "# Loop, iteration, iterables"
   ]
  },
  {
   "cell_type": "code",
   "execution_count": 12,
   "metadata": {},
   "outputs": [
    {
     "name": "stdout",
     "output_type": "stream",
     "text": [
      "P\n",
      "y\n",
      "t\n",
      "h\n",
      "o\n",
      "n\n",
      "20 <class 'int'>\n",
      "\n",
      "40 <class 'int'>\n",
      "\n",
      "60.4 <class 'float'>\n",
      "\n",
      "(70+90j) <class 'complex'>\n",
      "\n",
      "None <class 'NoneType'>\n",
      "\n",
      "True <class 'bool'>\n",
      "\n"
     ]
    }
   ],
   "source": [
    "#Types of loops - For and while\n",
    "#If you know the number of iterations in advance go for \"for\" loop\n",
    "#If you don't know the number of iterations or if you want to execute a statement till condition is satisfied then use while loop\n",
    "\n",
    "#For loop syntax\n",
    "\n",
    "# for var in seq/map:\n",
    "#     logic\n",
    "\n",
    "for i in 'Python': #i can take any iterable input - string, list, tuple, \n",
    "    print(i)\n",
    "    \n",
    "#Examples of iterables include all sequence types (such as list , str , and tuple )  \n",
    "#and some non-sequence types like dict , file objects, \n",
    "# and objects of any classes you define with an __iter__() method \n",
    "# or with a __getitem__() method that implements Sequence semantics.\n",
    "\n",
    "lst = [20,40,60.4,70+90j, None, True]\n",
    "for var in lst:\n",
    "    print(var, type(var))\n",
    "    print()\n",
    "\n"
   ]
  },
  {
   "cell_type": "code",
   "execution_count": 13,
   "metadata": {},
   "outputs": [
    {
     "name": "stdout",
     "output_type": "stream",
     "text": [
      "20 <class 'int'>\n",
      "\n",
      "40 <class 'int'>\n",
      "\n",
      "60.4 <class 'float'>\n",
      "\n",
      "(70+90j) <class 'complex'>\n",
      "\n",
      "None <class 'NoneType'>\n",
      "\n",
      "True <class 'bool'>\n",
      "\n"
     ]
    }
   ],
   "source": [
    "s = {20,40,60.4,70+90j, None, True} #s is set\n",
    "for s in lst:\n",
    "    print(s, type(s))\n",
    "    print()"
   ]
  },
  {
   "cell_type": "code",
   "execution_count": 19,
   "metadata": {},
   "outputs": [
    {
     "name": "stdout",
     "output_type": "stream",
     "text": [
      "1 100\n",
      "\n",
      "2 200\n",
      "\n",
      "3 300\n",
      "\n",
      "a Python\n",
      "\n"
     ]
    }
   ],
   "source": [
    "d = {1:100,2:200,3:300,'a':'Python'} #d is dictionary\n",
    "for k in d:\n",
    "    print(k, d[k])\n",
    "    print()"
   ]
  },
  {
   "cell_type": "code",
   "execution_count": 22,
   "metadata": {},
   "outputs": [
    {
     "name": "stdout",
     "output_type": "stream",
     "text": [
      "index = 0, value = T\n",
      "index = 1, value = h\n",
      "index = 2, value = i\n",
      "index = 3, value = s\n",
      "index = 4, value =  \n",
      "index = 5, value = i\n",
      "index = 6, value = s\n",
      "index = 7, value =  \n",
      "index = 8, value = P\n",
      "index = 9, value = y\n",
      "index = 10, value = t\n",
      "index = 11, value = h\n",
      "index = 12, value = o\n",
      "index = 13, value = n\n",
      "index = 14, value =  \n",
      "index = 15, value = c\n",
      "index = 16, value = l\n",
      "index = 17, value = a\n",
      "index = 18, value = s\n",
      "index = 19, value = s\n"
     ]
    }
   ],
   "source": [
    "s='This is Python class'\n",
    "for i in range(len(s)):\n",
    "    print(f'index = {i}, value = {s[i]}')"
   ]
  },
  {
   "cell_type": "code",
   "execution_count": 29,
   "metadata": {},
   "outputs": [
    {
     "name": "stdout",
     "output_type": "stream",
     "text": [
      "index = 0, value = T\n",
      "index = 1, value = h\n",
      "index = 2, value = i\n",
      "index = 3, value = s\n"
     ]
    }
   ],
   "source": [
    "s='This is Python class'\n",
    "for i in range(len(s[1:5])):\n",
    "    print(f'index = {i}, value = {s[i]}')"
   ]
  },
  {
   "cell_type": "code",
   "execution_count": 23,
   "metadata": {},
   "outputs": [
    {
     "name": "stdout",
     "output_type": "stream",
     "text": [
      "[(0, 'T'), (1, 'h'), (2, 'i'), (3, 's'), (4, ' '), (5, 'i'), (6, 's'), (7, ' '), (8, 'P'), (9, 'y'), (10, 't'), (11, 'h'), (12, 'o'), (13, 'n'), (14, ' '), (15, 'c'), (16, 'l'), (17, 'a'), (18, 's'), (19, 's')]\n"
     ]
    }
   ],
   "source": [
    "print(list(enumerate(s)))"
   ]
  },
  {
   "cell_type": "code",
   "execution_count": 25,
   "metadata": {},
   "outputs": [
    {
     "name": "stdout",
     "output_type": "stream",
     "text": [
      "0 T\n",
      "\n",
      "1 h\n",
      "\n",
      "2 i\n",
      "\n",
      "3 s\n",
      "\n",
      "4  \n",
      "\n",
      "5 i\n",
      "\n",
      "6 s\n",
      "\n",
      "7  \n",
      "\n",
      "8 P\n",
      "\n",
      "9 y\n",
      "\n",
      "10 t\n",
      "\n",
      "11 h\n",
      "\n",
      "12 o\n",
      "\n",
      "13 n\n",
      "\n",
      "14  \n",
      "\n",
      "15 c\n",
      "\n",
      "16 l\n",
      "\n",
      "17 a\n",
      "\n",
      "18 s\n",
      "\n",
      "19 s\n",
      "\n"
     ]
    }
   ],
   "source": [
    "for ind, val in enumerate(s):\n",
    "    print(ind, val)\n",
    "#     print()"
   ]
  },
  {
   "cell_type": "code",
   "execution_count": 31,
   "metadata": {},
   "outputs": [
    {
     "name": "stdout",
     "output_type": "stream",
     "text": [
      "{1: 100, 2: 200, 3: 300, 'a': 'Python'}\n",
      "[(0, 1), (1, 2), (2, 3), (3, 'a')]\n"
     ]
    }
   ],
   "source": [
    "print(d)\n",
    "print(list(enumerate(d))) #shows only keys for dictionary"
   ]
  },
  {
   "cell_type": "code",
   "execution_count": 37,
   "metadata": {},
   "outputs": [
    {
     "name": "stdout",
     "output_type": "stream",
     "text": [
      "This is Python class\n",
      "[(0, 'h'), (1, 'i'), (2, 's'), (3, ' ')]\n",
      "0 T\n",
      "1 h\n",
      "2 i\n",
      "3 s\n",
      "4  \n"
     ]
    }
   ],
   "source": [
    "print(s)\n",
    "print(list(enumerate(s[1:5]))) #shows only keys for dictionary\n",
    "for ind, val in enumerate(s[0:5]):\n",
    "    print(ind, val)"
   ]
  },
  {
   "cell_type": "code",
   "execution_count": 40,
   "metadata": {},
   "outputs": [
    {
     "ename": "SyntaxError",
     "evalue": "EOL while scanning string literal (<ipython-input-40-7ed6665a2b15>, line 5)",
     "output_type": "error",
     "traceback": [
      "\u001b[0;36m  File \u001b[0;32m\"<ipython-input-40-7ed6665a2b15>\"\u001b[0;36m, line \u001b[0;32m5\u001b[0m\n\u001b[0;31m    print(f'Salary for {var[1]} is {sal[var[0]]})\u001b[0m\n\u001b[0m                                                 ^\u001b[0m\n\u001b[0;31mSyntaxError\u001b[0m\u001b[0;31m:\u001b[0m EOL while scanning string literal\n"
     ]
    }
   ],
   "source": [
    "name = ['a', 'b', 'c', 'd']\n",
    "sal = [1000, 2000, 3000, 4000]\n",
    "for val in enumerate(name):\n",
    "    print(val)\n",
    "    print(f'Salary for {var[1]} is {sal[var[0]]})"
   ]
  },
  {
   "cell_type": "code",
   "execution_count": null,
   "metadata": {},
   "outputs": [],
   "source": []
  },
  {
   "cell_type": "code",
   "execution_count": null,
   "metadata": {},
   "outputs": [],
   "source": []
  },
  {
   "cell_type": "code",
   "execution_count": null,
   "metadata": {},
   "outputs": [],
   "source": []
  },
  {
   "cell_type": "markdown",
   "metadata": {},
   "source": [
    "# Transfer statements - break, continue, pass"
   ]
  },
  {
   "cell_type": "code",
   "execution_count": null,
   "metadata": {},
   "outputs": [],
   "source": [
    "#break statement"
   ]
  },
  {
   "cell_type": "code",
   "execution_count": 43,
   "metadata": {},
   "outputs": [
    {
     "name": "stdout",
     "output_type": "stream",
     "text": [
      "the value of i is:  0\n",
      "the value of j is:  0\n",
      "the value of j is:  1\n",
      "the value of j is:  2\n",
      "the value of j is:  3\n",
      "the value of j is:  4\n",
      "the value of j is:  5\n",
      "the value of j is:  6\n",
      "\n",
      "the value of i is:  1\n",
      "the value of j is:  0\n",
      "the value of j is:  1\n",
      "the value of j is:  2\n",
      "the value of j is:  3\n",
      "the value of j is:  4\n",
      "the value of j is:  5\n",
      "the value of j is:  6\n",
      "\n",
      "the value of i is:  2\n",
      "the value of j is:  0\n",
      "the value of j is:  1\n",
      "the value of j is:  2\n",
      "the value of j is:  3\n",
      "the value of j is:  4\n",
      "the value of j is:  5\n",
      "the value of j is:  6\n",
      "\n",
      "the value of i is:  3\n",
      "the value of j is:  0\n",
      "the value of j is:  1\n",
      "the value of j is:  2\n",
      "the value of j is:  3\n",
      "the value of j is:  4\n",
      "the value of j is:  5\n",
      "the value of j is:  6\n",
      "\n",
      "the value of i is:  4\n",
      "the value of j is:  0\n",
      "the value of j is:  1\n",
      "the value of j is:  2\n",
      "the value of j is:  3\n",
      "the value of j is:  4\n",
      "the value of j is:  5\n",
      "the value of j is:  6\n",
      "\n",
      "the value of i is:  5\n",
      "the value of j is:  0\n",
      "the value of j is:  1\n",
      "the value of j is:  2\n",
      "the value of j is:  3\n",
      "the value of j is:  4\n",
      "the value of j is:  5\n",
      "the value of j is:  6\n",
      "\n",
      "the value of i is:  6\n",
      "the value of j is:  0\n",
      "the value of j is:  1\n",
      "the value of j is:  2\n",
      "the value of j is:  3\n",
      "the value of j is:  4\n",
      "the value of j is:  5\n",
      "the value of j is:  6\n",
      "\n",
      "the value of i is:  7\n",
      "the value of j is:  0\n",
      "the value of j is:  1\n",
      "the value of j is:  2\n",
      "the value of j is:  3\n",
      "the value of j is:  4\n",
      "the value of j is:  5\n",
      "the value of j is:  6\n",
      "\n",
      "the value of i is:  8\n",
      "the value of j is:  0\n",
      "the value of j is:  1\n",
      "the value of j is:  2\n",
      "the value of j is:  3\n",
      "the value of j is:  4\n",
      "the value of j is:  5\n",
      "the value of j is:  6\n",
      "\n",
      "the value of i is:  9\n",
      "the value of j is:  0\n",
      "the value of j is:  1\n",
      "the value of j is:  2\n",
      "the value of j is:  3\n",
      "the value of j is:  4\n",
      "the value of j is:  5\n",
      "the value of j is:  6\n",
      "\n"
     ]
    }
   ],
   "source": [
    "for i in range(10):\n",
    "    print('the value of i is: ',i)\n",
    "    for j in range(10):\n",
    "        if j==7:\n",
    "            break\n",
    "        else:\n",
    "            print('the value of j is: ',j)\n",
    "    print()"
   ]
  },
  {
   "cell_type": "code",
   "execution_count": 45,
   "metadata": {},
   "outputs": [
    {
     "name": "stdout",
     "output_type": "stream",
     "text": [
      "the value of i is:  0\n",
      "\n",
      "the value of i is:  1\n",
      "\n",
      "the value of i is:  2\n",
      "\n",
      "the value of i is:  3\n",
      "\n",
      "the value of i is:  5\n",
      "\n",
      "the value of i is:  6\n",
      "\n",
      "the value of i is:  8\n",
      "\n",
      "the value of i is:  9\n",
      "\n"
     ]
    }
   ],
   "source": [
    "#continue statement\n",
    "\n",
    "for i in range(10):\n",
    "    if i==7 or i==4:\n",
    "        continue\n",
    "    else:\n",
    "        print('the value of i is: ',i)\n",
    "    print()"
   ]
  },
  {
   "cell_type": "code",
   "execution_count": null,
   "metadata": {},
   "outputs": [],
   "source": [
    "# #pass statement - broilerplate code\n",
    "# In computer programming, boilerplate code or boilerplate refers to sections of code that have to be \n",
    "# included in many places with little or no alteration."
   ]
  },
  {
   "cell_type": "code",
   "execution_count": 54,
   "metadata": {},
   "outputs": [
    {
     "name": "stdout",
     "output_type": "stream",
     "text": [
      "1\n",
      "1\n",
      "100\n",
      "20\n",
      "2\n",
      "200\n",
      "2\n",
      "100\n"
     ]
    }
   ],
   "source": [
    "x = [1,2]\n",
    "y = [10, 100]\n",
    "for i in x:\n",
    "    for j in y:\n",
    "        if i % 2 == 0:\n",
    "            print(i * j)\n",
    "        print(i)\n",
    "        #break\n",
    "    print(j)"
   ]
  },
  {
   "cell_type": "code",
   "execution_count": 55,
   "metadata": {},
   "outputs": [
    {
     "name": "stdout",
     "output_type": "stream",
     "text": [
      "1\n",
      "1\n",
      "100\n",
      "20\n",
      "2\n",
      "200\n",
      "2\n",
      "100\n"
     ]
    }
   ],
   "source": [
    "x = [1,2]\n",
    "y = [10, 100]\n",
    "for i in x:\n",
    "    for j in y:\n",
    "        if i % 2 == 0:\n",
    "            #break\n",
    "            print(i * j)\n",
    "        print(i)\n",
    "    print(j)"
   ]
  },
  {
   "cell_type": "code",
   "execution_count": 57,
   "metadata": {},
   "outputs": [
    {
     "name": "stdout",
     "output_type": "stream",
     "text": [
      "1\n",
      "1\n",
      "20\n",
      "2\n",
      "200\n",
      "2\n"
     ]
    }
   ],
   "source": [
    "x = [1,2]\n",
    "y = [10, 100]\n",
    "for i in x:\n",
    "    for j in y:\n",
    "        if i % 2 == 0:\n",
    "            #break\n",
    "            print(i * j)\n",
    "        print(i)\n",
    "    print(j)"
   ]
  },
  {
   "cell_type": "code",
   "execution_count": 67,
   "metadata": {},
   "outputs": [
    {
     "ename": "SyntaxError",
     "evalue": "invalid syntax (<ipython-input-67-c0b827d29886>, line 10)",
     "output_type": "error",
     "traceback": [
      "\u001b[0;36m  File \u001b[0;32m\"<ipython-input-67-c0b827d29886>\"\u001b[0;36m, line \u001b[0;32m10\u001b[0m\n\u001b[0;31m    if(eval(s[i])==' '):\u001b[0m\n\u001b[0m                       ^\u001b[0m\n\u001b[0;31mSyntaxError\u001b[0m\u001b[0;31m:\u001b[0m invalid syntax\n"
     ]
    }
   ],
   "source": [
    "#Write a python program to find below output using loop:-\n",
    "#Input:- 'peter piper picked a peck of pickled peppers.'\n",
    "\n",
    "#Output:- ['peter', 'piper', 'picked', 'a', 'peck', 'of', 'pickled', 'peppers']\n",
    "\n",
    "s = 'peter piper picked a peck of pickled peppers'\n",
    "for i in s[len(s)-1]:\n",
    "    print(i)\n",
    "    print(eval(s[i])\n",
    "    if(eval(s[i])==' '):\n",
    "        print(\",\")"
   ]
  },
  {
   "cell_type": "code",
   "execution_count": 71,
   "metadata": {},
   "outputs": [
    {
     "name": "stdout",
     "output_type": "stream",
     "text": [
      "y\n",
      "y\n"
     ]
    }
   ],
   "source": [
    "#Ternary Operator - chaining multiple if statements\n",
    "# [on_true] if [expression] else [on_false] \n",
    "\n",
    "#Using python if-else statement -\n",
    "\n",
    "x, y = 5, 6\n",
    "if x>y:\n",
    "   print(\"x\")\n",
    "else:\n",
    "   print(\"y\")\n",
    "\n",
    "#Using Ternary operator\n",
    "\n",
    "x, y = 5, 6\n",
    "print(\"x\" if x> y else \"y\")\n",
    "\n",
    "# Reference Material: https://www.tutorialspoint.com/ternary-operator-in-python\n"
   ]
  },
  {
   "cell_type": "code",
   "execution_count": 75,
   "metadata": {},
   "outputs": [
    {
     "name": "stdout",
     "output_type": "stream",
     "text": [
      "Line 1 - Value of c is  12\n",
      "Line 2 - Value of c is  61\n",
      "Line 3 - Value of c is  49\n",
      "Line 4 - Value of c is  -61\n",
      "Line 5 - Value of c is  240\n",
      "Line 6 - Value of c is  15\n"
     ]
    }
   ],
   "source": [
    "#bitwise operator\n",
    "# they operate on numbers (normally), but instead of treating that number as if it were a single value, \n",
    "#they treat it as if it were a string of bits, written in twos-complement binary. \n",
    "\n",
    "\n",
    "a = 60            # 60 = 0011 1100 \n",
    "b = 13            # 13 = 0000 1101 \n",
    "c = 0\n",
    "\n",
    "c = a & b;        # 12 = 0000 1100\n",
    "print(\"Line 1 - Value of c is \", c)\n",
    "\n",
    "c = a | b;        # 61 = 0011 1101 \n",
    "print(\"Line 2 - Value of c is \", c)\n",
    "\n",
    "c = a ^ b;        # 49 = 0011 0001\n",
    "print(\"Line 3 - Value of c is \", c)\n",
    "\n",
    "c = ~a;           # -61 = 1100 0011\n",
    "print(\"Line 4 - Value of c is \", c)\n",
    "\n",
    "c = a << 2;       # 240 = 1111 0000\n",
    "print(\"Line 5 - Value of c is \", c)\n",
    "\n",
    "c = a >> 2;       # 15 = 0000 1111\n",
    "print(\"Line 6 - Value of c is \", c)"
   ]
  },
  {
   "cell_type": "code",
   "execution_count": null,
   "metadata": {},
   "outputs": [],
   "source": [
    "#enumerate()\n",
    "#range()"
   ]
  },
  {
   "cell_type": "code",
   "execution_count": null,
   "metadata": {},
   "outputs": [],
   "source": [
    "### important modules to remember ###\n",
    "# math\n",
    "# functools\n",
    "# os\n",
    "# sys\n",
    "# future\n",
    "# random\n",
    "# datetime\n",
    "# time"
   ]
  },
  {
   "cell_type": "markdown",
   "metadata": {},
   "source": [
    "# String Methods"
   ]
  },
  {
   "cell_type": "code",
   "execution_count": 76,
   "metadata": {},
   "outputs": [
    {
     "name": "stdout",
     "output_type": "stream",
     "text": [
      "['__add__', '__class__', '__contains__', '__delattr__', '__dir__', '__doc__', '__eq__', '__format__', '__ge__', '__getattribute__', '__getitem__', '__getnewargs__', '__gt__', '__hash__', '__init__', '__init_subclass__', '__iter__', '__le__', '__len__', '__lt__', '__mod__', '__mul__', '__ne__', '__new__', '__reduce__', '__reduce_ex__', '__repr__', '__rmod__', '__rmul__', '__setattr__', '__sizeof__', '__str__', '__subclasshook__', 'capitalize', 'casefold', 'center', 'count', 'encode', 'endswith', 'expandtabs', 'find', 'format', 'format_map', 'index', 'isalnum', 'isalpha', 'isascii', 'isdecimal', 'isdigit', 'isidentifier', 'islower', 'isnumeric', 'isprintable', 'isspace', 'istitle', 'isupper', 'join', 'ljust', 'lower', 'lstrip', 'maketrans', 'partition', 'replace', 'rfind', 'rindex', 'rjust', 'rpartition', 'rsplit', 'rstrip', 'split', 'splitlines', 'startswith', 'strip', 'swapcase', 'title', 'translate', 'upper', 'zfill']\n"
     ]
    }
   ],
   "source": [
    "print(dir(str))"
   ]
  },
  {
   "cell_type": "code",
   "execution_count": 82,
   "metadata": {},
   "outputs": [
    {
     "name": "stdout",
     "output_type": "stream",
     "text": [
      "This is python class\n",
      "This Is Python Class\n",
      "THIS IS PYTHON CLASS\n",
      "this is python class\n",
      "this is python class\n",
      "True\n",
      "False\n"
     ]
    }
   ],
   "source": [
    "#anything __xxx__ is used internally by Python. We can't use it explicity. We will look at the ones below\n",
    "# capitalize, casefold, upper, lower, title, swapcase, startswith, endswith\n",
    "\n",
    "s = 'This is Python Class'\n",
    "print(s.capitalize()) # only the first letter of the entire sentence\n",
    "print(s.title()) # capitalized first letter of every word in a sentence\n",
    "print(s.upper()) # every letter is capitalized\n",
    "print(s.lower()) # every letter is converted to lower case\n",
    "print(s.casefold()) # casefold is same as lower method but casefold is more aggressive\n",
    "print(s.startswith('T'))#startswith and endswith returns boolean value\n",
    "print(s.startswith('P'))#startswith and endswith returns boolean value"
   ]
  },
  {
   "cell_type": "code",
   "execution_count": null,
   "metadata": {},
   "outputs": [],
   "source": []
  },
  {
   "cell_type": "code",
   "execution_count": null,
   "metadata": {},
   "outputs": [],
   "source": []
  },
  {
   "cell_type": "code",
   "execution_count": null,
   "metadata": {},
   "outputs": [],
   "source": []
  },
  {
   "cell_type": "code",
   "execution_count": null,
   "metadata": {},
   "outputs": [],
   "source": []
  },
  {
   "cell_type": "code",
   "execution_count": null,
   "metadata": {},
   "outputs": [],
   "source": []
  },
  {
   "cell_type": "code",
   "execution_count": null,
   "metadata": {},
   "outputs": [],
   "source": []
  },
  {
   "cell_type": "code",
   "execution_count": 18,
   "metadata": {},
   "outputs": [
    {
     "name": "stdout",
     "output_type": "stream",
     "text": [
      "80\n",
      "121\n",
      "116\n",
      "104\n",
      "111\n",
      "110\n",
      "\n",
      "\n",
      "P\n",
      "y\n",
      "t\n",
      "h\n",
      "o\n",
      "n\n",
      "\n",
      "\n",
      "P\n",
      "Y\n",
      "T\n",
      "H\n",
      "O\n",
      "N\n"
     ]
    }
   ],
   "source": [
    "#08/09/2020 Class\n",
    "\n",
    "'Python' < 'python'\n",
    "# 'A' < 66\n",
    "\n",
    "#ascii value of each alphabet\n",
    "print(ord('P'))\n",
    "print(ord('y'))\n",
    "print(ord('t'))\n",
    "print(ord('h'))\n",
    "print(ord('o'))\n",
    "print(ord('n'))\n",
    "print('\\n')\n",
    "\n",
    "#ord stands for ordinal value\n",
    "#ord function gives the ascii value of any character\n",
    "\n",
    "print(chr(ord('P')))\n",
    "print(chr(ord('y')))\n",
    "print(chr(ord('t')))\n",
    "print(chr(ord('h')))\n",
    "print(chr(ord('o')))\n",
    "print(chr(ord('n')))\n",
    "print('\\n')\n",
    "\n",
    "print(chr(ord('p')-32))\n",
    "print(chr(ord('y')-32))\n",
    "print(chr(ord('t')-32))\n",
    "print(chr(ord('h')-32))\n",
    "print(chr(ord('o')-32))\n",
    "print(chr(ord('n')-32))"
   ]
  },
  {
   "cell_type": "code",
   "execution_count": null,
   "metadata": {},
   "outputs": [],
   "source": [
    "s = 'Python'\n",
    "out_str = ''\n",
    "for i in len(s):\n",
    "    "
   ]
  },
  {
   "cell_type": "code",
   "execution_count": null,
   "metadata": {},
   "outputs": [],
   "source": []
  },
  {
   "cell_type": "code",
   "execution_count": 26,
   "metadata": {},
   "outputs": [
    {
     "name": "stdout",
     "output_type": "stream",
     "text": [
      " Peter Piper Picked A Peck Of Pickled Peppers\n"
     ]
    }
   ],
   "source": [
    "s1 = 'peter piper picked a peck of pickled peppers.'\n",
    "out_lst = []\n",
    "out_str = ''\n",
    "for i in s1:\n",
    "    if i == ' ' or i == '.':\n",
    "        out_str = chr(ord(out_str[0])-32) + out_str[1:]\n",
    "        #print('First print', chr(ord(out_str[0])-32))\n",
    "        #print('2nd print', out_str[1:])\n",
    "        #print(out_str)\n",
    "        out_lst.append(out_str)\n",
    "        out_str = ''\n",
    "    else:\n",
    "        out_str += i\n",
    "res_str = ''\n",
    "for j in out_lst:\n",
    "    res_str = res_str + ' ' + j\n",
    "print(res_str)"
   ]
  },
  {
   "cell_type": "code",
   "execution_count": 13,
   "metadata": {},
   "outputs": [
    {
     "name": "stdout",
     "output_type": "stream",
     "text": [
      "p\n",
      "e\n",
      "t\n",
      "e\n",
      "r\n",
      " \n",
      "p\n",
      "i\n",
      "p\n",
      "e\n",
      "r\n",
      " \n",
      "p\n",
      "i\n",
      "c\n",
      "k\n",
      "e\n",
      "d\n",
      " \n",
      "a\n",
      " \n",
      "p\n",
      "e\n",
      "c\n",
      "k\n",
      " \n",
      "o\n",
      "f\n",
      " \n",
      "p\n",
      "i\n",
      "c\n",
      "k\n",
      "l\n",
      "e\n",
      "d\n",
      " \n",
      "p\n",
      "e\n",
      "p\n",
      "p\n",
      "e\n",
      "r\n",
      "s\n",
      ".\n"
     ]
    }
   ],
   "source": [
    "s1 = 'peter piper picked a peck of pickled peppers.'\n",
    "for i in s1:\n",
    "    print(i)"
   ]
  },
  {
   "cell_type": "code",
   "execution_count": 21,
   "metadata": {},
   "outputs": [
    {
     "name": "stdout",
     "output_type": "stream",
     "text": [
      "[(0, 10), (1, 20), (2, 30)]\n",
      "{0: 10, 1: 20, 2: 30}\n"
     ]
    }
   ],
   "source": [
    "print(list(enumerate([10,20,30])))\n",
    "print(dict(enumerate([10,20,30])))"
   ]
  },
  {
   "cell_type": "code",
   "execution_count": null,
   "metadata": {},
   "outputs": [],
   "source": [
    "#list comprehension, tuple comprehension, dictionary comprehension\n"
   ]
  },
  {
   "cell_type": "code",
   "execution_count": null,
   "metadata": {},
   "outputs": [],
   "source": []
  },
  {
   "cell_type": "code",
   "execution_count": null,
   "metadata": {},
   "outputs": [],
   "source": []
  },
  {
   "cell_type": "code",
   "execution_count": null,
   "metadata": {},
   "outputs": [],
   "source": []
  },
  {
   "cell_type": "code",
   "execution_count": null,
   "metadata": {},
   "outputs": [],
   "source": []
  },
  {
   "cell_type": "code",
   "execution_count": null,
   "metadata": {},
   "outputs": [],
   "source": []
  },
  {
   "cell_type": "code",
   "execution_count": null,
   "metadata": {},
   "outputs": [],
   "source": []
  },
  {
   "cell_type": "code",
   "execution_count": null,
   "metadata": {},
   "outputs": [],
   "source": []
  },
  {
   "cell_type": "code",
   "execution_count": 27,
   "metadata": {},
   "outputs": [
    {
     "name": "stdout",
     "output_type": "stream",
     "text": [
      "30\n"
     ]
    }
   ],
   "source": [
    "##08-09-2020 Class\n",
    "#Today's class is on Function\n",
    "#Functions are used to combine a block of code\n",
    "#It helps with reusing the\n",
    "\n",
    "a=10\n",
    "b=20\n",
    "c=a+b\n",
    "print(c)"
   ]
  },
  {
   "cell_type": "code",
   "execution_count": null,
   "metadata": {},
   "outputs": [],
   "source": [
    "#Function definition is not function execution.\n",
    "\n",
    "#in function way\n",
    "def add():\n",
    "    a=10\n",
    "    b=20\n",
    "    c=a+b\n",
    "    print(c)"
   ]
  },
  {
   "cell_type": "code",
   "execution_count": null,
   "metadata": {},
   "outputs": [],
   "source": [
    "def func_name(params):\n",
    "    logic1\n",
    "    logic2\n",
    "    logic3\n",
    "    return statement"
   ]
  },
  {
   "cell_type": "code",
   "execution_count": 29,
   "metadata": {},
   "outputs": [
    {
     "data": {
      "text/plain": [
       "5"
      ]
     },
     "execution_count": 29,
     "metadata": {},
     "output_type": "execute_result"
    }
   ],
   "source": [
    "def add(a,b):\n",
    "    return a+b\n",
    "    \n",
    "add(3,2)"
   ]
  },
  {
   "cell_type": "code",
   "execution_count": null,
   "metadata": {},
   "outputs": [],
   "source": [
    "#function defined in a class is called a method"
   ]
  },
  {
   "cell_type": "code",
   "execution_count": 1,
   "metadata": {},
   "outputs": [
    {
     "name": "stdout",
     "output_type": "stream",
     "text": [
      "aVar"
     ]
    },
    {
     "ename": "NameError",
     "evalue": "name 'var' is not defined",
     "output_type": "error",
     "traceback": [
      "\u001b[0;31m---------------------------------------------------------------------------\u001b[0m",
      "\u001b[0;31mNameError\u001b[0m                                 Traceback (most recent call last)",
      "\u001b[0;32m<ipython-input-1-5729f11f61e1>\u001b[0m in \u001b[0;36m<module>\u001b[0;34m\u001b[0m\n\u001b[1;32m      3\u001b[0m     \u001b[0mprint\u001b[0m\u001b[0;34m(\u001b[0m\u001b[0mvar\u001b[0m\u001b[0;34m,\u001b[0m\u001b[0mend\u001b[0m\u001b[0;34m=\u001b[0m\u001b[0;34m\"\"\u001b[0m\u001b[0;34m)\u001b[0m\u001b[0;34m\u001b[0m\u001b[0;34m\u001b[0m\u001b[0m\n\u001b[1;32m      4\u001b[0m \u001b[0maFun\u001b[0m\u001b[0;34m(\u001b[0m\u001b[0;34m)\u001b[0m\u001b[0;34m\u001b[0m\u001b[0;34m\u001b[0m\u001b[0m\n\u001b[0;32m----> 5\u001b[0;31m \u001b[0mprint\u001b[0m\u001b[0;34m(\u001b[0m\u001b[0mvar\u001b[0m\u001b[0;34m)\u001b[0m\u001b[0;34m\u001b[0m\u001b[0;34m\u001b[0m\u001b[0m\n\u001b[0m",
      "\u001b[0;31mNameError\u001b[0m: name 'var' is not defined"
     ]
    }
   ],
   "source": [
    "#Quiz question\n",
    "def aFun():\n",
    "    var = \"aVar\"\n",
    "    print(var,end=\"\")\n",
    "aFun()\n",
    "print(var)"
   ]
  },
  {
   "cell_type": "code",
   "execution_count": null,
   "metadata": {},
   "outputs": [],
   "source": []
  }
 ],
 "metadata": {
  "kernelspec": {
   "display_name": "Python 3",
   "language": "python",
   "name": "python3"
  },
  "language_info": {
   "codemirror_mode": {
    "name": "ipython",
    "version": 3
   },
   "file_extension": ".py",
   "mimetype": "text/x-python",
   "name": "python",
   "nbconvert_exporter": "python",
   "pygments_lexer": "ipython3",
   "version": "3.7.1"
  }
 },
 "nbformat": 4,
 "nbformat_minor": 2
}
