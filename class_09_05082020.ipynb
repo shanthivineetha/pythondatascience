{
 "cells": [
  {
   "cell_type": "code",
   "execution_count": null,
   "metadata": {},
   "outputs": [],
   "source": [
    "# input function, Loops"
   ]
  },
  {
   "cell_type": "code",
   "execution_count": 2,
   "metadata": {},
   "outputs": [
    {
     "name": "stdout",
     "output_type": "stream",
     "text": [
      "Enter a list: [10,20,30]\n",
      "['[', '1', '0', ',', '2', '0', ',', '3', '0', ']'] <class 'list'>\n"
     ]
    }
   ],
   "source": [
    "# Type casting is allowed using builtin function for fundamenta data types\n",
    "# eval() takes the input in the string format\n",
    "\n",
    "lst = eval(input('Enter a list: '))\n",
    "print(lst, type(lst))\n"
   ]
  },
  {
   "cell_type": "code",
   "execution_count": 3,
   "metadata": {},
   "outputs": [
    {
     "data": {
      "text/plain": [
       "['P', 'y', 't', 'h', 'o', 'n']"
      ]
     },
     "execution_count": 3,
     "metadata": {},
     "output_type": "execute_result"
    }
   ],
   "source": [
    "list('Python')"
   ]
  },
  {
   "cell_type": "code",
   "execution_count": 7,
   "metadata": {},
   "outputs": [
    {
     "data": {
      "text/plain": [
       "list"
      ]
     },
     "execution_count": 7,
     "metadata": {},
     "output_type": "execute_result"
    }
   ],
   "source": [
    "# type(eval('10+20'))\n",
    "# type(eval('[10,20,30]'))"
   ]
  },
  {
   "cell_type": "markdown",
   "metadata": {},
   "source": [
    "# Loop, Iteration, Iterables"
   ]
  },
  {
   "cell_type": "code",
   "execution_count": null,
   "metadata": {},
   "outputs": [],
   "source": [
    "# loop for 10 times:\n",
    "#     print('Hi')\n",
    "\n",
    "# Types of loop - for, while"
   ]
  },
  {
   "cell_type": "code",
   "execution_count": 30,
   "metadata": {},
   "outputs": [
    {
     "name": "stdout",
     "output_type": "stream",
     "text": [
      "[(0, 'T'), (1, 'h'), (2, 'i'), (3, 's'), (4, ' '), (5, 'i'), (6, 's'), (7, ' '), (8, 'P'), (9, 'y'), (10, 't'), (11, 'h'), (12, 'o'), (13, 'n'), (14, ' '), (15, 'c'), (16, 'l'), (17, 'a'), (18, 's'), (19, 's')]\n",
      "0 T\n",
      "\n",
      "1 h\n",
      "\n",
      "2 i\n",
      "\n",
      "3 s\n",
      "\n",
      "4  \n",
      "\n",
      "5 i\n",
      "\n",
      "6 s\n",
      "\n",
      "7  \n",
      "\n",
      "8 P\n",
      "\n",
      "9 y\n",
      "\n",
      "10 t\n",
      "\n",
      "11 h\n",
      "\n",
      "12 o\n",
      "\n",
      "13 n\n",
      "\n",
      "14  \n",
      "\n",
      "15 c\n",
      "\n",
      "16 l\n",
      "\n",
      "17 a\n",
      "\n",
      "18 s\n",
      "\n",
      "19 s\n",
      "\n"
     ]
    }
   ],
   "source": [
    "# If you know the number of iteration in advance then go for loop\n",
    "# If you do not know the number of iteration or if you want to execute a group of statements till a condition is satistfied - while loop\n",
    "\n",
    "# Syntax for loop:- \n",
    "# for var in seq/map:\n",
    "#     logic\n",
    "\n",
    "# for var in 'Python':\n",
    "#     print(var)\n",
    "\n",
    "# lst = [10,10.20,10+20j,'Python', None, True]\n",
    "# for var in lst:\n",
    "#     print(var,type(var))\n",
    "#     print()\n",
    "\n",
    "s = {10,10.20,10+20j,'Python', None, True}\n",
    "# for var in s:\n",
    "#     print(var)\n",
    "#     print()\n",
    "\n",
    "d = {1:100, 2:200, 3:300, 'a':'Python'}\n",
    "# for k in d:\n",
    "#     print(k, d[k])\n",
    "# \n",
    "s = 'This is Python class'\n",
    "# for var in range(len(s)):\n",
    "#     print(f'index = {var}, value = {s[var]}')\n",
    "\n",
    "# print(list(enumerate(s)))\n",
    "# for ind,val in enumerate(s):\n",
    "#     print(ind,val)\n",
    "#     print()\n"
   ]
  },
  {
   "cell_type": "code",
   "execution_count": 33,
   "metadata": {},
   "outputs": [
    {
     "name": "stdout",
     "output_type": "stream",
     "text": [
      "(0, 'a')\n",
      "Salary for a is 1000\n",
      "(1, 'b')\n",
      "Salary for b is 2000\n",
      "(2, 'c')\n",
      "Salary for c is 3000\n",
      "(3, 'd')\n",
      "Salary for d is 4000\n"
     ]
    }
   ],
   "source": [
    "# name = ['a', 'b','c', 'd']\n",
    "# sal = [1000,2000,3000,4000]\n",
    "# for var in enumerate(name):\n",
    "#     print(var)\n",
    "#     print(f'Salary for {var[1]} is {sal[var[0]]}')\n"
   ]
  },
  {
   "cell_type": "code",
   "execution_count": 47,
   "metadata": {},
   "outputs": [
    {
     "name": "stdout",
     "output_type": "stream",
     "text": [
      "n\n",
      "oo\n",
      "hhh\n",
      "tttt\n",
      "yyyyy\n",
      "PPPPPP\n"
     ]
    }
   ],
   "source": [
    "# While loop - To execute a block of code till a condition is satisfied\n",
    "# Syntax:-\n",
    "#     initialization\n",
    "#     condition checking\n",
    "#     increment/decrement\n",
    "\n",
    "# Output:-\n",
    "# P\n",
    "# yy\n",
    "# ttt\n",
    "# hhhh\n",
    "# ooooo\n",
    "# nnnnnn\n",
    "s = 'Python'\n",
    "# var = 1\n",
    "# while var<len(s):\n",
    "#     print(s[var] * (var+1))\n",
    "#     var += 1\n",
    "\n",
    "var = -1\n",
    "while var >= -len(s):\n",
    "    print(s[var] * abs(var))\n",
    "    var -= 1\n"
   ]
  },
  {
   "cell_type": "code",
   "execution_count": 44,
   "metadata": {},
   "outputs": [
    {
     "name": "stdout",
     "output_type": "stream",
     "text": [
      "22.360679774997898\n"
     ]
    }
   ],
   "source": [
    "# abs()  -> Absolute - gives the absolute value - modulous\n",
    "\n",
    "# abs(-10)\n",
    "# print(abs(10+20j))\n",
    "\n",
    "# Mod of a+bj = sqrt(a^2 + b^2)\n"
   ]
  },
  {
   "cell_type": "markdown",
   "metadata": {},
   "source": [
    "# Transfer statements - break, continue, pass"
   ]
  },
  {
   "cell_type": "code",
   "execution_count": null,
   "metadata": {},
   "outputs": [],
   "source": [
    "# Running the loop 10 times and want to exit the loop after 7th iteration - break\n",
    "# Running the loop 10 times and want to skip the  7th iteration - continue"
   ]
  },
  {
   "cell_type": "code",
   "execution_count": 49,
   "metadata": {},
   "outputs": [
    {
     "name": "stdout",
     "output_type": "stream",
     "text": [
      "0\n",
      "1\n",
      "2\n",
      "3\n",
      "4\n",
      "5\n",
      "6\n"
     ]
    }
   ],
   "source": [
    "for i in range(10):\n",
    "    if i == 7:\n",
    "        break\n",
    "    else:\n",
    "        print(i)"
   ]
  },
  {
   "cell_type": "code",
   "execution_count": 56,
   "metadata": {},
   "outputs": [],
   "source": [
    "# for i in range(10):\n",
    "#     print('The value of i is ',i)\n",
    "#     for j in range(10):\n",
    "#         if j == 7:\n",
    "#             break\n",
    "#         else:\n",
    "#             print('the value of j is ',j)\n",
    "#     if i == 7:\n",
    "#         break\n",
    "#     print()"
   ]
  },
  {
   "cell_type": "code",
   "execution_count": 58,
   "metadata": {},
   "outputs": [
    {
     "name": "stdout",
     "output_type": "stream",
     "text": [
      "0\n",
      "1\n",
      "2\n",
      "3\n",
      "5\n",
      "6\n",
      "8\n",
      "9\n"
     ]
    }
   ],
   "source": [
    "for i in range(10):\n",
    "    if i ==7 or i == 4:\n",
    "        continue\n",
    "    else:\n",
    "        print(i)"
   ]
  },
  {
   "cell_type": "code",
   "execution_count": 60,
   "metadata": {},
   "outputs": [],
   "source": [
    "# pass - boilerplate code\n",
    "# for i in range(10):\n",
    "#     pass\n",
    "\n",
    "# def f1():\n",
    "#     pass\n",
    "\n",
    "# var = 0\n",
    "# while var < 100:\n",
    "#     pass\n",
    "#     var += 1\n",
    "\n",
    "\n",
    "\n"
   ]
  },
  {
   "cell_type": "code",
   "execution_count": 64,
   "metadata": {},
   "outputs": [
    {
     "name": "stdout",
     "output_type": "stream",
     "text": [
      "1\n",
      "10\n",
      "20\n",
      "2\n",
      "10\n"
     ]
    }
   ],
   "source": [
    "#Q. Use break statement properly. The code is:\n",
    "x = [1, 2]\n",
    "y = [10, 100]\n",
    "for i in x: \n",
    "    for j in y: \n",
    "        if i % 2 == 0: \n",
    "            print(i * j)\n",
    "        print(i)\n",
    "        break\n",
    "    print(j)\n",
    "    \n",
    "\n",
    "# Output is:-\n",
    "# 1\n",
    "# 10\n",
    "# 20\n",
    "# 2\n",
    "# 10"
   ]
  },
  {
   "cell_type": "code",
   "execution_count": 65,
   "metadata": {},
   "outputs": [
    {
     "name": "stdout",
     "output_type": "stream",
     "text": [
      "1\n",
      "1\n",
      "100\n",
      "10\n"
     ]
    }
   ],
   "source": [
    "x = [1, 2]\n",
    "y = [10, 100]\n",
    "for i in x: \n",
    "    for j in y: \n",
    "        if i % 2 == 0: \n",
    "            break\n",
    "            print(i * j)\n",
    "        print(i)\n",
    "    print(j)\n",
    "\n",
    "# Output is:-\n",
    "# 1\n",
    "# 1\n",
    "# 100\n",
    "# 10"
   ]
  },
  {
   "cell_type": "code",
   "execution_count": 66,
   "metadata": {},
   "outputs": [
    {
     "name": "stdout",
     "output_type": "stream",
     "text": [
      "1\n",
      "1\n",
      "100\n",
      "20\n",
      "2\n",
      "200\n",
      "2\n",
      "100\n"
     ]
    }
   ],
   "source": [
    "x = [1, 2]\n",
    "y = [10, 100]\n",
    "\n",
    "for i in x:\n",
    "    for j in y:\n",
    "        if i % 2 == 0:\n",
    "            print(i * j)\n",
    "        print(i)\n",
    "    print(j)\n",
    "\n",
    "# Output is:-\n",
    "# 1\n",
    "# 1\n",
    "# 100\n",
    "# 20\n",
    "# 200\n",
    "# 100"
   ]
  },
  {
   "cell_type": "code",
   "execution_count": 70,
   "metadata": {},
   "outputs": [
    {
     "name": "stdout",
     "output_type": "stream",
     "text": [
      "['peter', 'piper', 'picked', 'a', 'peck', 'of', 'pickled', 'peppers']\n"
     ]
    }
   ],
   "source": [
    "#Write a python program to find below output using loop:-\n",
    "\n",
    "#Input:- 'peter piper picked a peck of pickled peppers.'\n",
    "#Output:- ['peter', 'piper', 'picked', 'a', 'peck', 'of', 'pickled', 'peppers']\n",
    "\n",
    "inp_str = 'peter piper picked a peck of pickled peppers.'\n",
    "out_str = ''\n",
    "out_lst = []\n",
    "for i in inp_str:\n",
    "    if i == ' ' or i == '.':\n",
    "        out_lst.append(out_str)\n",
    "        out_str = ''\n",
    "    else:\n",
    "        out_str = out_str + i\n",
    "print(out_lst)       \n",
    "\n",
    "\n"
   ]
  },
  {
   "cell_type": "code",
   "execution_count": 74,
   "metadata": {},
   "outputs": [
    {
     "name": "stdout",
     "output_type": "stream",
     "text": [
      "['peter', 'piper', 'picked', 'a', 'peck', 'of', 'pickled', 'peppers']\n",
      " peppers pickled of peck a picked piper peter\n"
     ]
    }
   ],
   "source": [
    "#Write a python program to find below output using loop:-\n",
    "\n",
    "#Input:- 'peter piper picked a peck of pickled peppers.'\n",
    "#Output:- 'peppers pickled of peck a picked piper peter'\n",
    "inp_str = 'peter piper picked a peck of pickled peppers.'\n",
    "out_str = ''\n",
    "out_lst = []\n",
    "for i in inp_str:\n",
    "    if i == ' ' or i == '.':\n",
    "        out_lst.append(out_str)\n",
    "        out_str = ''\n",
    "    else:\n",
    "        out_str = out_str + i\n",
    "print(out_lst)\n",
    "res = ''\n",
    "for i in range(-1, -len(out_lst)-1, -1):\n",
    "    res = res + ' '+ out_lst[i]\n",
    "print(res)"
   ]
  },
  {
   "cell_type": "code",
   "execution_count": null,
   "metadata": {},
   "outputs": [],
   "source": [
    "# Write a program to find all roots of a quadratic equation.\n",
    "import math \n",
    "a = int(input('enter the first value a '))\n",
    "b = int(input('enter the second value b '))\n",
    "c = int(input('enter the third constant c '))\n",
    "sqrt_val = math.sqrt((b**2)-(4*a*c))\n",
    "root1 = (-b + sqrt_val)/2*a\n",
    "root2 = (-b - sqrt_val)/2*a\n",
    "print('roots are :',root1)\n",
    "print('roots are :',root2)"
   ]
  },
  {
   "cell_type": "code",
   "execution_count": null,
   "metadata": {},
   "outputs": [],
   "source": []
  },
  {
   "cell_type": "code",
   "execution_count": null,
   "metadata": {},
   "outputs": [],
   "source": []
  },
  {
   "cell_type": "code",
   "execution_count": null,
   "metadata": {},
   "outputs": [],
   "source": []
  },
  {
   "cell_type": "code",
   "execution_count": null,
   "metadata": {},
   "outputs": [],
   "source": []
  },
  {
   "cell_type": "code",
   "execution_count": null,
   "metadata": {},
   "outputs": [],
   "source": []
  },
  {
   "cell_type": "code",
   "execution_count": null,
   "metadata": {},
   "outputs": [],
   "source": []
  },
  {
   "cell_type": "code",
   "execution_count": null,
   "metadata": {},
   "outputs": [],
   "source": []
  },
  {
   "cell_type": "code",
   "execution_count": null,
   "metadata": {},
   "outputs": [],
   "source": []
  },
  {
   "cell_type": "code",
   "execution_count": null,
   "metadata": {},
   "outputs": [],
   "source": []
  },
  {
   "cell_type": "code",
   "execution_count": null,
   "metadata": {},
   "outputs": [],
   "source": []
  },
  {
   "cell_type": "code",
   "execution_count": null,
   "metadata": {},
   "outputs": [],
   "source": []
  },
  {
   "cell_type": "code",
   "execution_count": null,
   "metadata": {},
   "outputs": [],
   "source": []
  },
  {
   "cell_type": "code",
   "execution_count": null,
   "metadata": {},
   "outputs": [],
   "source": []
  },
  {
   "cell_type": "code",
   "execution_count": null,
   "metadata": {},
   "outputs": [],
   "source": []
  },
  {
   "cell_type": "code",
   "execution_count": null,
   "metadata": {},
   "outputs": [],
   "source": []
  },
  {
   "cell_type": "code",
   "execution_count": null,
   "metadata": {},
   "outputs": [],
   "source": []
  }
 ],
 "metadata": {
  "kernelspec": {
   "display_name": "Python 3",
   "language": "python",
   "name": "python3"
  },
  "language_info": {
   "codemirror_mode": {
    "name": "ipython",
    "version": 3
   },
   "file_extension": ".py",
   "mimetype": "text/x-python",
   "name": "python",
   "nbconvert_exporter": "python",
   "pygments_lexer": "ipython3",
   "version": "3.7.1"
  }
 },
 "nbformat": 4,
 "nbformat_minor": 2
}
