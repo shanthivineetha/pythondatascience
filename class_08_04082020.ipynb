{
 "cells": [
  {
   "cell_type": "code",
   "execution_count": null,
   "metadata": {},
   "outputs": [],
   "source": [
    "# Operator Precedence\n",
    "# ()\n",
    "# **\n",
    "# ~,- Bitwise complement and unary Minus\n",
    "# *,/,%,//\n",
    "# +,-\n",
    "# <<,>>\n",
    "# &\n",
    "# ^\n",
    "# |\n",
    "# >,>=,<,<=,==,!=\n",
    "# =,+=,-=...\n",
    "# is, is not\n",
    "# in, not in\n",
    "# not\n",
    "# and\n",
    "# or\n",
    "\n",
    "# Conditional statements, loop,"
   ]
  },
  {
   "cell_type": "code",
   "execution_count": null,
   "metadata": {},
   "outputs": [],
   "source": [
    "# if, elif,else\n",
    "\n",
    "if expression(True/False):\n",
    "    logic"
   ]
  },
  {
   "cell_type": "code",
   "execution_count": null,
   "metadata": {},
   "outputs": [],
   "source": [
    "stat1\n",
    "stat2\n",
    "stat3\n",
    "stat4\n",
    "stat5\n",
    "stat6\n",
    "stat7\n",
    "stat8\n",
    "stat9\n",
    "\n"
   ]
  },
  {
   "cell_type": "code",
   "execution_count": 8,
   "metadata": {},
   "outputs": [
    {
     "name": "stdout",
     "output_type": "stream",
     "text": [
      "Enter 1st number: 100\n",
      "Enter 2nd number: 200\n",
      "Enter 3rd number: 300\n",
      "num1 is greater than num2\n",
      "-100\n",
      "100\n",
      "200\n"
     ]
    }
   ],
   "source": [
    "# if statement and nested if statement\n",
    "# stat1\n",
    "# stat2\n",
    "# if expression:\n",
    "#     stat3\n",
    "#     stat4\n",
    "#     stat5\n",
    "#     if expression:\n",
    "#         stat6\n",
    "#         stat7\n",
    "# stat8\n",
    "# stat9\n",
    "\n",
    "num1 = int(input('Enter 1st number: '))\n",
    "num2 = int(input('Enter 2nd number: '))\n",
    "num3 = int(input('Enter 3rd number: '))\n",
    "if 100:\n",
    "    print('num1 is greater than num2')\n",
    "    print(num1-num2)\n",
    "    print(num1)\n",
    "    print(num2)\n",
    "    if num1>num3:\n",
    "        print('num1 is greater than num3')\n",
    "        print(num1-num3)\n",
    "        print(num3)\n",
    "    else:\n",
    "        print('num1 is not greater than num3')"
   ]
  },
  {
   "cell_type": "code",
   "execution_count": 14,
   "metadata": {},
   "outputs": [
    {
     "ename": "SyntaxError",
     "evalue": "invalid syntax (<ipython-input-14-48267b10f6ca>, line 19)",
     "output_type": "error",
     "traceback": [
      "\u001b[0;36m  File \u001b[0;32m\"<ipython-input-14-48267b10f6ca>\"\u001b[0;36m, line \u001b[0;32m19\u001b[0m\n\u001b[0;31m    else:\u001b[0m\n\u001b[0m       ^\u001b[0m\n\u001b[0;31mSyntaxError\u001b[0m\u001b[0;31m:\u001b[0m invalid syntax\n"
     ]
    }
   ],
   "source": [
    "# If - else and else is completely optional\n",
    "# stat1\n",
    "# stat2\n",
    "# if expression:\n",
    "#     stat3\n",
    "#     stat4\n",
    "#     stat5\n",
    "# else:    \n",
    "#     stat6\n",
    "#     stat7\n",
    "#     stat8\n",
    "# stat9\n",
    "\n",
    "# num1 = int(input('Enter 1st number: '))\n",
    "# num2 = int(input('Enter 2nd number: '))\n",
    "# if num1>num2:\n",
    "#     print('num1 is greater than num2')\n",
    "\n",
    "# else:\n",
    "#     print('num1 is not greater than num2')\n",
    "#     print(num2-num1)\n",
    "#     print(num1)\n",
    "#     print(num2)\n",
    "# print(num1-num2)\n",
    "# print(num1)\n",
    "# print(num2)\n",
    "# else:\n",
    "#     print('Hi')\n"
   ]
  },
  {
   "cell_type": "code",
   "execution_count": 16,
   "metadata": {},
   "outputs": [],
   "source": [
    "# Multi condition if statment - if elif\n",
    "# stat1\n",
    "# stat2\n",
    "# if expression:\n",
    "#     stat3\n",
    "#     stat4\n",
    "#     stat5\n",
    "# elif expression:\n",
    "#     stat11\n",
    "#     stat12\n",
    "#     stat13\n",
    "# elif expression:\n",
    "#     stat21\n",
    "#     stat22\n",
    "#     stat23   \n",
    "# else:    \n",
    "#     stat6\n",
    "#     stat7\n",
    "#     stat8\n",
    "# stat9\n",
    "\n",
    "\n",
    "# num1 = int(input('Enter 1st number: '))\n",
    "# num2 = int(input('Enter 2nd number: '))\n",
    "# num3 = int(input('Enter 3rd number: '))\n",
    "# if num1>num2 and num1>num3:\n",
    "#     print('num1 is greater than num2 and num3')\n",
    "#     print(num1)\n",
    "#     print(num2)\n",
    "#     print(num3)\n",
    "# elif num2>num3:\n",
    "#     print('num2 is greater than num1 and num3')\n",
    "# else:\n",
    "#     print('num3 is greater than num1 and num2')\n",
    "\n",
    "\n",
    "\n",
    "\n"
   ]
  },
  {
   "cell_type": "code",
   "execution_count": 23,
   "metadata": {},
   "outputs": [
    {
     "name": "stdout",
     "output_type": "stream",
     "text": [
      "100\n",
      "Enter some number20\n",
      "100 <class 'int'>\n",
      "5.0\n"
     ]
    }
   ],
   "source": [
    "a = int(input())\n",
    "b = float(input('Enter some number'))\n",
    "print(a, type(a))\n",
    "print(a/b)\n",
    "\n",
    "# Type casting using built in function is possible only for fundamental data type\n",
    "# For derived data type - eval()  to do the type casting"
   ]
  },
  {
   "cell_type": "code",
   "execution_count": 42,
   "metadata": {},
   "outputs": [
    {
     "name": "stdout",
     "output_type": "stream",
     "text": [
      "Enter an year: 2004\n",
      "2004 is a Leap Year\n"
     ]
    }
   ],
   "source": [
    "# Write a code to find whether an year is leap year\n",
    "# leap year:- 1200,1600,2000,2004,2020\n",
    "# Non Leap year - 1967, 1700,1900\n",
    "\n",
    "# If yesr is divisible by 4 - leap year\n",
    "# If year is divisible by 4 and 100 - check whether divisible by 400 - If True - Leap year and if False - Non leap year\n",
    "# if not divisible by 4 then non leap year\n",
    "\n",
    "year = int(input('Enter an year: '))\n",
    "# if year % 4 == 0:\n",
    "#     if year % 100 == 0:\n",
    "#         if year % 400 == 0:\n",
    "#             print('Year is leap year')\n",
    "#         else:\n",
    "#             print('Year is not leap year')\n",
    "#     else:\n",
    "#         print('Year is leap year')\n",
    "# else:\n",
    "#     print('Year is not leap year')\n",
    "\n",
    "\n",
    "if (year%400 == 0 or ( year%4 == 0  and  year%100 != 0)):\n",
    "#     print(\"%d is a Leap Year\" %year)\n",
    "# else:\n",
    "#     print(\"%d is Not the Leap Year\" %year)\n",
    "\n",
    "    print(\"{} is a Leap Year\".format(year))\n",
    "else:\n",
    "    print(\"{} is Not the Leap Year\".format(year))\n"
   ]
  },
  {
   "cell_type": "code",
   "execution_count": 41,
   "metadata": {},
   "outputs": [
    {
     "name": "stdout",
     "output_type": "stream",
     "text": [
      "10\t20\t30\t40\t"
     ]
    }
   ],
   "source": [
    "# Output formatting\n",
    "# print(10,20,30,40)\n",
    "# print(10,20,30,40, sep = ' ')\n",
    "\n",
    "# print(10, end = '\\t')\n",
    "# print(20, end = '\\t')\n",
    "# print(30, end = '\\t')\n",
    "# print(40, end = '\\t')\n"
   ]
  },
  {
   "cell_type": "code",
   "execution_count": 45,
   "metadata": {},
   "outputs": [
    {
     "name": "stdout",
     "output_type": "stream",
     "text": [
      "Enter 1st number: 100\n",
      "Enter 2nd number: 200\n",
      "Enter 3rd number: 30\n",
      "num2 -> 200 is greater than num1 -> 100 and num3 -> 30\n"
     ]
    }
   ],
   "source": [
    "num1 = int(input('Enter 1st number: '))\n",
    "num2 = int(input('Enter 2nd number: '))\n",
    "num3 = int(input('Enter 3rd number: '))\n",
    "if num1>num2 and num1>num3:\n",
    "    print('num1 -> {} is greater than num2 -> {} and num3 -> {}'.format(num1, num2,num3))\n",
    "    print(num1)\n",
    "    print(num2)\n",
    "    print(num3)\n",
    "elif num2>num3:\n",
    "    print('num2 -> {} is greater than num1 -> {} and num3 -> {}'.format(num2, num1,num3))\n",
    "else:\n",
    "    print('num3 -> {} is greater than num2 -> {} and num1 -> {}'.format(num3, num2,num1))"
   ]
  },
  {
   "cell_type": "code",
   "execution_count": 46,
   "metadata": {},
   "outputs": [
    {
     "name": "stdout",
     "output_type": "stream",
     "text": [
      "Enter 1st number: 100\n",
      "Enter 2nd number: 20\n",
      "Enter 3rd number: 300\n",
      "num3 -> 300 is greater than num2 -> 20 and num1 -> 100\n"
     ]
    }
   ],
   "source": [
    "num1 = int(input('Enter 1st number: '))\n",
    "num2 = int(input('Enter 2nd number: '))\n",
    "num3 = int(input('Enter 3rd number: '))\n",
    "if num1>num2 and num1>num3:\n",
    "    print(f'num1 -> {num1} is greater than num2 -> {num2} and num3 -> {num}')\n",
    "    print(num1)\n",
    "    print(num2)\n",
    "    print(num3)\n",
    "elif num2>num3:\n",
    "    print(f'num2 -> {num2} is greater than num1 -> {num1} and num3 -> {num3}')\n",
    "else:\n",
    "    print(f'num3 -> {num3} is greater than num2 -> {num2} and num1 -> {num1}')"
   ]
  },
  {
   "cell_type": "code",
   "execution_count": null,
   "metadata": {},
   "outputs": [],
   "source": [
    "# WAP to check whether a number is divisible by 5 and 11\n",
    "\n",
    "num"
   ]
  },
  {
   "cell_type": "code",
   "execution_count": null,
   "metadata": {},
   "outputs": [],
   "source": [
    "# Write a program to check whether a character is alphabet or not."
   ]
  },
  {
   "cell_type": "code",
   "execution_count": null,
   "metadata": {},
   "outputs": [],
   "source": [
    "# Write a program to check whether a number is even or odd."
   ]
  },
  {
   "cell_type": "code",
   "execution_count": null,
   "metadata": {},
   "outputs": [],
   "source": [
    "# Write a program to input any alphabet and check whether it is vowel or consonant."
   ]
  },
  {
   "cell_type": "code",
   "execution_count": null,
   "metadata": {},
   "outputs": [],
   "source": [
    "# Write a program to input any character and check whether it is alphabet, digit or special character."
   ]
  },
  {
   "cell_type": "code",
   "execution_count": null,
   "metadata": {},
   "outputs": [],
   "source": [
    "# Write a  program to check whether a character is uppercase or lowercase alphabet."
   ]
  },
  {
   "cell_type": "code",
   "execution_count": null,
   "metadata": {},
   "outputs": [],
   "source": [
    "# Write a program to input week number and print week day."
   ]
  },
  {
   "cell_type": "code",
   "execution_count": null,
   "metadata": {},
   "outputs": [],
   "source": [
    "# Write a program to input month number and print number of days in that month."
   ]
  },
  {
   "cell_type": "code",
   "execution_count": null,
   "metadata": {},
   "outputs": [],
   "source": [
    "# Write a program to input angles of a triangle and check whether triangle is valid or not."
   ]
  },
  {
   "cell_type": "code",
   "execution_count": null,
   "metadata": {},
   "outputs": [],
   "source": [
    "# Write a program to find all roots of a quadratic equation."
   ]
  }
 ],
 "metadata": {
  "kernelspec": {
   "display_name": "Python 3",
   "language": "python",
   "name": "python3"
  },
  "language_info": {
   "codemirror_mode": {
    "name": "ipython",
    "version": 3
   },
   "file_extension": ".py",
   "mimetype": "text/x-python",
   "name": "python",
   "nbconvert_exporter": "python",
   "pygments_lexer": "ipython3",
   "version": "3.7.3"
  }
 },
 "nbformat": 4,
 "nbformat_minor": 2
}
