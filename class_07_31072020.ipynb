{
 "cells": [
  {
   "cell_type": "markdown",
   "metadata": {},
   "source": [
    "# Bytes and byte array, range"
   ]
  },
  {
   "cell_type": "code",
   "execution_count": 7,
   "metadata": {},
   "outputs": [
    {
     "name": "stdout",
     "output_type": "stream",
     "text": [
      "b'\\n\\x14\\x1e'\n",
      "bytearray(b'\\xff\\x14\\x1e')\n"
     ]
    }
   ],
   "source": [
    "# Bytes and bytearray - images, videos, pdf file\n",
    "# they are the sequence and store the content in hexadecimal format\n",
    "# Bytes is immuitable and bytearray are mutable\n",
    "# They allow only 0-256\n",
    "# lst = [10,20,30]\n",
    "# b = bytes(lst)\n",
    "# print(b)\n",
    "# ba = bytearray(lst)\n",
    "# ba\n",
    "\n",
    "# # b[0] = 20\n",
    "# ba[0] = 255\n",
    "# print(ba)\n"
   ]
  },
  {
   "cell_type": "code",
   "execution_count": 12,
   "metadata": {},
   "outputs": [
    {
     "name": "stdout",
     "output_type": "stream",
     "text": [
      "[0, 1, 2, 3, 4, 5, 6, 7, 8, 9]\n"
     ]
    }
   ],
   "source": [
    "# range() - used to generate a seq of numbers based on some pattern\n",
    "# Syntax - range(start, stop, step)\n",
    "# range(stop)\n",
    "# range is a generator - raneg(10)\n",
    "print(list(range(10)))\n",
    "\n",
    "# Used to generate the sequence of integers\n",
    "\n",
    "\n",
    "# Default value of start is 0\n",
    "# default value of step is 1\n",
    "#                                                     +1,+2,+3\n",
    "# ---------------------------------------------------------------------------------------------------------------> +ve\n",
    "# -inf ----------------------------------------------------0----------------------------------------------------+inf\n",
    "# <--------------------------------------------------------------------------------------------------------------- -ve\n",
    "\n",
    "# list(range(30))"
   ]
  },
  {
   "cell_type": "code",
   "execution_count": null,
   "metadata": {},
   "outputs": [],
   "source": [
    "# Operators\n",
    "# Artithmetic\n",
    "# comparison\n",
    "# logical\n",
    "# equality\n",
    "# assignment\n",
    "# Bitwise\n",
    "# identity\n",
    "# membership"
   ]
  },
  {
   "cell_type": "markdown",
   "metadata": {},
   "source": [
    "# Arithmetic"
   ]
  },
  {
   "cell_type": "code",
   "execution_count": null,
   "metadata": {},
   "outputs": [],
   "source": [
    "# Addition = +\n",
    "# Subtraction = - \n",
    "# Multiplication = *\n",
    "# True/Float Division = /\n",
    "# Floor Division = //\n",
    "# Modulo = %\n",
    "# Exponent = **"
   ]
  },
  {
   "cell_type": "code",
   "execution_count": 54,
   "metadata": {},
   "outputs": [
    {
     "name": "stdout",
     "output_type": "stream",
     "text": [
      "3.3333333333333335\n",
      "3\n",
      "1\n",
      "0.300\n",
      "8\n",
      "3.33\n",
      "0.300\n"
     ]
    },
    {
     "ename": "TypeError",
     "evalue": "unsupported operand type(s) for +: 'range' and 'range'",
     "output_type": "error",
     "traceback": [
      "\u001b[0;31m---------------------------------------------------------------------------\u001b[0m",
      "\u001b[0;31mTypeError\u001b[0m                                 Traceback (most recent call last)",
      "\u001b[0;32m<ipython-input-54-c8a776a82ade>\u001b[0m in \u001b[0;36m<module>\u001b[0;34m\u001b[0m\n\u001b[1;32m     27\u001b[0m \u001b[0;31m# Concatenation(+) and repetiton(*)\u001b[0m\u001b[0;34m\u001b[0m\u001b[0;34m\u001b[0m\u001b[0;34m\u001b[0m\u001b[0m\n\u001b[1;32m     28\u001b[0m \u001b[0;31m# Concatenation (string + string), (list + List), (Tuple +Tuple,) (Byts + Bytes), (Bytearray + Bytearray)\u001b[0m\u001b[0;34m\u001b[0m\u001b[0;34m\u001b[0m\u001b[0;34m\u001b[0m\u001b[0m\n\u001b[0;32m---> 29\u001b[0;31m \u001b[0mrange\u001b[0m\u001b[0;34m(\u001b[0m\u001b[0;36m10\u001b[0m\u001b[0;34m)\u001b[0m \u001b[0;34m+\u001b[0m \u001b[0mrange\u001b[0m\u001b[0;34m(\u001b[0m\u001b[0;36m5\u001b[0m\u001b[0;34m)\u001b[0m\u001b[0;34m\u001b[0m\u001b[0;34m\u001b[0m\u001b[0m\n\u001b[0m\u001b[1;32m     30\u001b[0m \u001b[0;34m\u001b[0m\u001b[0m\n\u001b[1;32m     31\u001b[0m \u001b[0;34m\u001b[0m\u001b[0m\n",
      "\u001b[0;31mTypeError\u001b[0m: unsupported operand type(s) for +: 'range' and 'range'"
     ]
    }
   ],
   "source": [
    "a = 10\n",
    "b = 3\n",
    "# print(a+b)\n",
    "# print(a-b)\n",
    "# print(a*b)\n",
    "print(a/b)\n",
    "print(a//b)   # => Floor value of True Division\n",
    "print(a%b)   # Remainder\n",
    "\n",
    "# res = 0.1+0.2\n",
    "print('{0:.3f}'.format(0.1+0.2))\n",
    "\n",
    "# print(dir(float))\n",
    "\n",
    "print(2**3)\n",
    "\n",
    "\n",
    "# print(dir(str))\n",
    "# print(dir(float))\n",
    "\n",
    "print(round(3.3333,2))\n",
    "print(\"%.3f\" % res)\n",
    "\n",
    "\n",
    "# All the mathemetical operators are going to work on numbers, exception on complex numbers only modulo operator will not work\n",
    "\n",
    "# Concatenation(+) and repetiton(*)\n",
    "# Concatenation (string + string), (list + List), (Tuple +Tuple,) (Byts + Bytes), (Bytearray + Bytearray)\n",
    "# range(10) + range(5)\n",
    "\n",
    "# Repetition - *\n",
    "\n",
    "# Complex number - remainder for a complex number\n"
   ]
  },
  {
   "cell_type": "code",
   "execution_count": 53,
   "metadata": {},
   "outputs": [
    {
     "name": "stdout",
     "output_type": "stream",
     "text": [
      "2\n",
      "3\n"
     ]
    }
   ],
   "source": [
    "import math\n",
    "\n",
    "# Floor value - nearest minimum whole number\n",
    "# Ceil value - nearest maximum whole number\n",
    "print(math.floor(2.98799999))\n",
    "print(math.ceil(2.000000001))"
   ]
  },
  {
   "cell_type": "markdown",
   "metadata": {},
   "source": [
    "# Comaprison operator\n"
   ]
  },
  {
   "cell_type": "code",
   "execution_count": 68,
   "metadata": {},
   "outputs": [
    {
     "name": "stdout",
     "output_type": "stream",
     "text": [
      "True\n",
      "True\n",
      "True\n"
     ]
    },
    {
     "data": {
      "text/plain": [
       "'P'"
      ]
     },
     "execution_count": 68,
     "metadata": {},
     "output_type": "execute_result"
    }
   ],
   "source": [
    "# <,>,<=,>= - used to compare the values\n",
    "# Compariosn operator does not work between different data types except int and float\n",
    "print(10<20)\n",
    "print(10<10.20)\n",
    "# print(10<10+20j)\n",
    "# print(10+20j<20-30j)\n",
    "# print(10<[10,20,30])\n",
    "print([10,20,30]<[100,2,3])\n",
    "\n",
    "# Based on length - conten should be similar\n",
    "# As per ASCII\n",
    "# print('Pytho'<'Python')\n",
    "# print('python'<'Python')\n",
    "\n",
    "\n",
    "# TO get the ASCII value\n",
    "# print(ord('P'))\n",
    "# print(ord('p'))\n",
    "\n",
    "# print('P'<=80)\n",
    "# ASCII to character\n",
    "chr(80)"
   ]
  },
  {
   "cell_type": "code",
   "execution_count": 71,
   "metadata": {},
   "outputs": [
    {
     "name": "stdout",
     "output_type": "stream",
     "text": [
      "False\n",
      "True\n",
      "False\n"
     ]
    }
   ],
   "source": [
    "# Equality operator - ==, !=\n",
    "# Always compares the content\n",
    "# It works between different data types\n",
    "\n",
    "print('Python' == 'python')\n",
    "print(10 != 100)\n",
    "print('P' == 80)\n",
    "\n",
    "\n",
    "\n"
   ]
  },
  {
   "cell_type": "code",
   "execution_count": 77,
   "metadata": {},
   "outputs": [
    {
     "data": {
      "text/plain": [
       "12"
      ]
     },
     "execution_count": 77,
     "metadata": {},
     "output_type": "execute_result"
    }
   ],
   "source": [
    "# Assignment Operator - =\n",
    "a = 10\n",
    "\n",
    "# Compound assignment - +=, -=, *=, /=, //=, %=, **=, &=, |=, ^=, ~=, <<=, >>=\n",
    "a += 2     #a = a+2\n",
    "a"
   ]
  },
  {
   "cell_type": "code",
   "execution_count": 80,
   "metadata": {},
   "outputs": [
    {
     "name": "stdout",
     "output_type": "stream",
     "text": [
      "True\n",
      "False\n",
      "True\n"
     ]
    }
   ],
   "source": [
    "# Identity operator - is, is not - returns True if ids are same for both the operands else False\n",
    "# a = 10\n",
    "# b = 10\n",
    "# print(a is b)\n",
    "\n",
    "# a = 1000\n",
    "# b = 1000\n",
    "# print(a is b)\n",
    "# print(a is not b)\n",
    "\n",
    "# Object reusability  - fundamental data type except int float\n",
    "int - 0-256\n",
    "string - A to Z a to z 0 to 9\n",
    "True and False\n",
    "None\n"
   ]
  },
  {
   "cell_type": "code",
   "execution_count": 88,
   "metadata": {},
   "outputs": [
    {
     "name": "stdout",
     "output_type": "stream",
     "text": [
      "True\n"
     ]
    }
   ],
   "source": [
    "# Membership operator - in, not in\n",
    "# lst = [10,20,30,[1,2,3]]\n",
    "# s = 'Python'\n",
    "# d = {1:100, 2:200, 'a':'Python'}\n",
    "# print(10 in lst)\n",
    "# print(1 in lst)\n",
    "# print('P' in s)\n",
    "# print('Pyt' in s)\n",
    "# print('Pn' in s)\n",
    "\n",
    "# # In the case of dictionary it always check the key not value\n",
    "\n",
    "# print('a' in d)\n",
    "# print('Python' in d)\n",
    "# print(1 in lst[-1])\n",
    "\n",
    "\n",
    "# s1 = 'This is Python class'\n",
    "# print('Python' in s1)\n",
    "# Regulr epression, index()\n",
    "\n",
    "lst = [10,20,30,[1,2,3]]\n",
    "for i in lst:\n",
    "    if type(i) == int:\n",
    "        continue\n",
    "    else:\n",
    "        print(1 in i)\n",
    "    \n",
    "\n"
   ]
  },
  {
   "cell_type": "code",
   "execution_count": 102,
   "metadata": {},
   "outputs": [
    {
     "data": {
      "text/plain": [
       "True"
      ]
     },
     "execution_count": 102,
     "metadata": {},
     "output_type": "execute_result"
    }
   ],
   "source": [
    "# Logical - and , or, not, works on the logic - True or False\n",
    "# and table - False  - A and B where A and B are not Boolean - return A if A is False else B\n",
    "# True and True = True\n",
    "# True and False = False\n",
    "# False and True = False\n",
    "# False and False = False\n",
    "\n",
    "# e.g \n",
    "# 10 and 20\n",
    "# 10 and 0\n",
    "# 0 and 10\n",
    "# 0 and 0.0\n",
    "\n",
    "# or table - True  - A or B where A and B are not Boolean - return A if A is True else B\n",
    "# True or True = True\n",
    "# True or False = True\n",
    "# False or True = True\n",
    "# False or False = False\n",
    "\n",
    "# e.g \n",
    "# 10 or 20\n",
    "# 10 or 0\n",
    "# 0 or 10\n",
    "# 0 or 0.0\n",
    "\n",
    "# When you have the combination of operator at the same precedence level then the expression will be evaluated fro Right to ledt\n",
    "# 10<20 and 10>100 or 10==10\n",
    "\n",
    "# not True = False\n",
    "# not False = True\n"
   ]
  },
  {
   "cell_type": "code",
   "execution_count": 120,
   "metadata": {},
   "outputs": [
    {
     "data": {
      "text/plain": [
       "2"
      ]
     },
     "execution_count": 120,
     "metadata": {},
     "output_type": "execute_result"
    }
   ],
   "source": [
    "# Bitwise operator - &, |, ^, ~, <<, >>\n",
    "# These operator works on the bits \n",
    "# These operator works only on integer\n",
    "\n",
    "# &\n",
    "# 1 & 1 = 1\n",
    "# 1 & 0 = 0\n",
    "# 0 & 1 = 0\n",
    "# 0 & 0 = 0\n",
    "\n",
    "# |\n",
    "# 1 | 1 = 1\n",
    "# 1 | 0 = 1\n",
    "# 0 | 1 = 1\n",
    "# 0 | 0 = 0\n",
    "\n",
    "# ^\n",
    "# 1 | 1 = 0\n",
    "# 1 | 0 = 1\n",
    "# 0 | 1 = 1\n",
    "# 0 | 0 = 0\n",
    "\n",
    "# print(34 & 35)\n",
    "# print(34 | 35)\n",
    "# print(34 ^ 35)\n",
    "\n",
    "# print(bin(35))\n",
    "# 34 = 100010\n",
    "# 35 = 100011\n",
    "# -------------\n",
    "# # &  = 100010\n",
    "# | =  100011\n",
    "# ^ = 000001\n",
    "\n",
    "# ~num = -(num+1)\n",
    "# num = 10\n",
    "# print(~10)\n",
    "\n",
    "# print(~True)\n",
    "\n",
    "\n",
    "# Bitwise left shift - << and right shift - >>\n",
    "\n",
    "10 << 2 #-> 00000000000000000000000000101000\n",
    "# print(0b101000)\n",
    "\n",
    "10 >> 2 # 00000000000000000000000000000010"
   ]
  },
  {
   "cell_type": "code",
   "execution_count": null,
   "metadata": {},
   "outputs": [],
   "source": []
  },
  {
   "cell_type": "code",
   "execution_count": null,
   "metadata": {},
   "outputs": [],
   "source": []
  },
  {
   "cell_type": "code",
   "execution_count": null,
   "metadata": {},
   "outputs": [],
   "source": []
  },
  {
   "cell_type": "code",
   "execution_count": null,
   "metadata": {},
   "outputs": [],
   "source": []
  },
  {
   "cell_type": "code",
   "execution_count": null,
   "metadata": {},
   "outputs": [],
   "source": []
  }
 ],
 "metadata": {
  "kernelspec": {
   "display_name": "Python 3",
   "language": "python",
   "name": "python3"
  },
  "language_info": {
   "codemirror_mode": {
    "name": "ipython",
    "version": 3
   },
   "file_extension": ".py",
   "mimetype": "text/x-python",
   "name": "python",
   "nbconvert_exporter": "python",
   "pygments_lexer": "ipython3",
   "version": "3.7.3"
  }
 },
 "nbformat": 4,
 "nbformat_minor": 2
}
