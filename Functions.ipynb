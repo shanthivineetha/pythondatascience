{
 "cells": [
  {
   "cell_type": "code",
   "execution_count": 2,
   "metadata": {},
   "outputs": [
    {
     "name": "stdout",
     "output_type": "stream",
     "text": [
      "300\n",
      "400\n",
      "100\n",
      "200\n"
     ]
    }
   ],
   "source": [
    "#Nested Functions\n",
    "\n",
    "a=100\n",
    "b=200\n",
    "def f1():\n",
    "    print(a)\n",
    "    print(b)\n",
    "def my_func():\n",
    "    c=300\n",
    "    d=400\n",
    "    print(c)\n",
    "    print(d)\n",
    "    def nested_func():\n",
    "        e=500\n",
    "        print(e)\n",
    "        print(c)\n",
    "        print(a)\n",
    "        f1()\n",
    "\n",
    "my_func()\n",
    "#nested_func()\n",
    "print(a)\n",
    "print(b)"
   ]
  },
  {
   "cell_type": "code",
   "execution_count": 6,
   "metadata": {},
   "outputs": [
    {
     "name": "stdout",
     "output_type": "stream",
     "text": [
      "This is f1 function\n",
      "This is f2 function\n"
     ]
    }
   ],
   "source": [
    "def f1():\n",
    "    print('This is f1 function')\n",
    "    def f2():\n",
    "        print('This is f2 function')\n",
    "    f2()\n",
    "\n",
    "f1()"
   ]
  },
  {
   "cell_type": "code",
   "execution_count": 7,
   "metadata": {},
   "outputs": [
    {
     "name": "stdout",
     "output_type": "stream",
     "text": [
      "This is f1 function\n"
     ]
    },
    {
     "ename": "NameError",
     "evalue": "name 'f2' is not defined",
     "output_type": "error",
     "traceback": [
      "\u001b[0;31m---------------------------------------------------------------------------\u001b[0m",
      "\u001b[0;31mNameError\u001b[0m                                 Traceback (most recent call last)",
      "\u001b[0;32m<ipython-input-7-24c64fecce10>\u001b[0m in \u001b[0;36m<module>\u001b[0;34m\u001b[0m\n\u001b[1;32m      5\u001b[0m \u001b[0;34m\u001b[0m\u001b[0m\n\u001b[1;32m      6\u001b[0m \u001b[0mf1\u001b[0m\u001b[0;34m(\u001b[0m\u001b[0;34m)\u001b[0m\u001b[0;34m\u001b[0m\u001b[0;34m\u001b[0m\u001b[0m\n\u001b[0;32m----> 7\u001b[0;31m \u001b[0mf2\u001b[0m\u001b[0;34m(\u001b[0m\u001b[0;34m)\u001b[0m\u001b[0;34m\u001b[0m\u001b[0;34m\u001b[0m\u001b[0m\n\u001b[0m",
      "\u001b[0;31mNameError\u001b[0m: name 'f2' is not defined"
     ]
    }
   ],
   "source": [
    "def f1():\n",
    "    print('This is f1 function')\n",
    "    def f2(): #f2 is an inner function and it is in the local namespace (aka extended namespace of f1)\n",
    "        print('This is f2 function')\n",
    "\n",
    "f1()\n",
    "f2() # will give name error. f2 cannot be accessed from global"
   ]
  },
  {
   "cell_type": "code",
   "execution_count": 9,
   "metadata": {},
   "outputs": [
    {
     "name": "stdout",
     "output_type": "stream",
     "text": [
      "This is f1 function\n"
     ]
    },
    {
     "data": {
      "text/plain": [
       "<function __main__.f1.<locals>.f2()>"
      ]
     },
     "execution_count": 9,
     "metadata": {},
     "output_type": "execute_result"
    }
   ],
   "source": [
    "#Closure - is a function which returns another function (or its nested function) as output\n",
    "\n",
    "def f1():\n",
    "    print('This is f1 function')\n",
    "    def f2(): #f2 is an inner function and it is in the local namespace (aka extended namespace of f1)\n",
    "        print('This is f2 function')\n",
    "    return f2\n",
    "\n",
    "f1()"
   ]
  },
  {
   "cell_type": "code",
   "execution_count": 10,
   "metadata": {},
   "outputs": [
    {
     "name": "stdout",
     "output_type": "stream",
     "text": [
      "This is f1 function\n",
      "<function f1.<locals>.f2 at 0x10bcc8488>\n"
     ]
    }
   ],
   "source": [
    "def f1():\n",
    "    print('This is f1 function')\n",
    "    def f2(): #f2 is an inner function and it is in the local namespace (aka extended namespace of f1)\n",
    "        print('This is f2 function')\n",
    "    return f2\n",
    "\n",
    "a=f1()\n",
    "print(a)"
   ]
  },
  {
   "cell_type": "code",
   "execution_count": 18,
   "metadata": {},
   "outputs": [
    {
     "name": "stdout",
     "output_type": "stream",
     "text": [
      "This is f1 function\n",
      "This is f2 function\n"
     ]
    }
   ],
   "source": [
    "def f1():\n",
    "    print('This is f1 function')\n",
    "    def f2(): #f2 is an inner function (aka nested function) and it is in the local namespace (aka extended namespace of f1)\n",
    "        print('This is f2 function')\n",
    "    return f2\n",
    "\n",
    "#f1()\n",
    "\n",
    "a=f1()\n",
    "#print(a)\n",
    "a() # a contains print and the reference of f2. So when u put p with () it executed f2"
   ]
  },
  {
   "cell_type": "code",
   "execution_count": 23,
   "metadata": {},
   "outputs": [
    {
     "name": "stdout",
     "output_type": "stream",
     "text": [
      "This is f1 function\n",
      "This is f2 function\n"
     ]
    }
   ],
   "source": [
    "def f1():\n",
    "    print('This is f1 function')\n",
    "    def f2(): #f2 is an inner function (aka nested function) and it is in the local namespace (aka extended namespace of f1)\n",
    "        print('This is f2 function')\n",
    "    return f2() # Here instead of returning reference of function, we are returning function itself\n",
    "\n",
    "f1()"
   ]
  },
  {
   "cell_type": "code",
   "execution_count": 28,
   "metadata": {},
   "outputs": [
    {
     "name": "stdout",
     "output_type": "stream",
     "text": [
      "This is f1 function\n",
      "10\n"
     ]
    }
   ],
   "source": [
    "def f1():\n",
    "    print('This is f1 function')\n",
    "    def f2(): #f2 is an inner function (aka nested function) and it is in the local namespace (aka extended namespace of f1)\n",
    "        print('This is f2 function')\n",
    "    return 10\n",
    "\n",
    "#f1()\n",
    "\n",
    "a=f1()\n",
    "print(a)"
   ]
  },
  {
   "cell_type": "code",
   "execution_count": 31,
   "metadata": {},
   "outputs": [
    {
     "data": {
      "text/plain": [
       "False"
      ]
     },
     "execution_count": 31,
     "metadata": {},
     "output_type": "execute_result"
    }
   ],
   "source": [
    "#is_even(num) returns True if number is even else return False\n",
    "\n",
    "# seq = range(11, 21)\n",
    "# def my_func(func, seq): #return one output seq of numbers after returning given sequence\n",
    "# my_func(is_even, seq)\n",
    "\n",
    "#my attempt\n",
    "\n",
    "def is_even(num):\n",
    "    if num%2==0:\n",
    "        return True\n",
    "    else:\n",
    "        return False\n",
    "\n",
    "# def my_func(is_even(),*args):\n",
    "    "
   ]
  },
  {
   "cell_type": "code",
   "execution_count": 40,
   "metadata": {},
   "outputs": [
    {
     "data": {
      "text/plain": [
       "[4, 6, 8, 10, 12, 14, 16, 18, 20]"
      ]
     },
     "execution_count": 40,
     "metadata": {},
     "output_type": "execute_result"
    }
   ],
   "source": [
    "#is_even(num) returns True if number is even else return False\n",
    "\n",
    "# seq = range(11, 21)\n",
    "# def my_func(func, seq): #return one output seq of numbers after filtering out even numbers\n",
    "# my_func(is_even, seq)\n",
    "\n",
    "\n",
    "#CHECK THIS WITH PYTHON TUTOR\n",
    "\n",
    "def is_even(num): return True if num%2==0 else False ##WRITING IN SINGLE LINE LIKE THIS IS TERNARY OPERATOR\n",
    "seq = range(3,21)\n",
    "out_lst = []\n",
    "\n",
    "def my_func(func,seq):\n",
    "    for i in seq:\n",
    "        if func(i) == True:\n",
    "            out_lst.append(i)\n",
    "    return out_lst\n",
    "\n",
    "my_func(is_even, seq)\n"
   ]
  },
  {
   "cell_type": "code",
   "execution_count": 41,
   "metadata": {},
   "outputs": [
    {
     "name": "stdout",
     "output_type": "stream",
     "text": [
      "30\n"
     ]
    }
   ],
   "source": [
    "def f1(a,b):\n",
    "    print(a+b)\n",
    "\n",
    "f1(10,20)"
   ]
  },
  {
   "cell_type": "code",
   "execution_count": null,
   "metadata": {},
   "outputs": [],
   "source": [
    "#Lamba, map, filter and reduce functions\n",
    "#They are aggregate function. Used to map a sequence or filter a sequence\n",
    "# They use the same concept of taking one function as an argument to map or filter\n",
    "# Decorators - also uses the concept of using function as an argument"
   ]
  },
  {
   "cell_type": "code",
   "execution_count": 43,
   "metadata": {},
   "outputs": [
    {
     "name": "stdout",
     "output_type": "stream",
     "text": [
      "400\n"
     ]
    }
   ],
   "source": [
    "# Lamba function - anonymous function - function without a name\n",
    "# They are used instaneously with map, reduce, or sequence\n",
    "# can be used in user defined functions\n",
    "# used in places where u have instaneous use and don't want in later part of code. It will have small logic\n",
    "\n",
    "# Lamda function - return statement is not required.\n",
    "# the expression you write will be the output of the function\n",
    "\n",
    "#Syntax: lambda num:expr\n",
    "\n",
    "# Example: Find sqr of a num\n",
    "\n",
    "def sqr(num):\n",
    "    return(num*num)\n",
    "\n",
    "sqr(10)\n",
    "\n",
    "s = lambda num:num*num  #this function doesn't have a name and cannot be used anywhere else\n",
    "print(s(20))\n",
    "\n",
    "#lamba function can be used as a argument in other functions"
   ]
  },
  {
   "cell_type": "code",
   "execution_count": 53,
   "metadata": {},
   "outputs": [
    {
     "data": {
      "text/plain": [
       "[4, 6, 8, 10, 12, 14, 16, 18, 20]"
      ]
     },
     "execution_count": 53,
     "metadata": {},
     "output_type": "execute_result"
    }
   ],
   "source": [
    "#Using lambda in below example\n",
    "\n",
    "# seq = range(11, 21)\n",
    "# def my_func(func, seq): #return one output seq of numbers after filtering out even numbers\n",
    "# my_func(is_even, seq)\n",
    "\n",
    "\n",
    "seq = range(3,21)\n",
    "out_lst = []\n",
    "\n",
    "# def my_func(func,seq):\n",
    "#     for i in seq:\n",
    "#         if func(i) == True:\n",
    "#             out_lst.append(i)\n",
    "#     return out_lst\n",
    "\n",
    "# my_func(is_even, seq)\n",
    "\n",
    "def my_func(seq):\n",
    "    for i in seq:\n",
    "        a = lambda i:i%2  #lambda is a function. a is referencing to that lambda function\n",
    "        if bool(a(i) == False): #if there is no remainder then append, else don't append\n",
    "            out_lst.append(i)\n",
    "    return out_lst\n",
    "    \n",
    "my_func(seq)\n",
    "\n"
   ]
  },
  {
   "cell_type": "code",
   "execution_count": 58,
   "metadata": {},
   "outputs": [
    {
     "name": "stdout",
     "output_type": "stream",
     "text": [
      "<filter object at 0x10bcf0b38>\n",
      "[3, 5, 7, 9, 11, 13, 15, 17, 19]\n",
      "[4, 6, 8, 10, 12, 14, 16, 18, 20]\n"
     ]
    }
   ],
   "source": [
    "## FILTER FUNCTION ##\n",
    "#filter function is used to filter sequence\n",
    "#print(dir(__builtins__))\n",
    "\n",
    "# filter(func,seq) # return type is filter object - wrap it around list function\n",
    "\n",
    "print(filter(lambda num:num%2, seq))\n",
    "print(list(filter(lambda num:num%2, seq)))\n",
    "\n",
    "print(list(filter(lambda num:num%2==0, seq)))"
   ]
  },
  {
   "cell_type": "code",
   "execution_count": 61,
   "metadata": {},
   "outputs": [
    {
     "name": "stdout",
     "output_type": "stream",
     "text": [
      "['y', 'h', 'n']\n"
     ]
    },
    {
     "data": {
      "text/plain": [
       "'yhn'"
      ]
     },
     "execution_count": 61,
     "metadata": {},
     "output_type": "execute_result"
    }
   ],
   "source": [
    "s='Python'\n",
    "print(list((filter(lambda char:(s.find(char))%2,s))))\n",
    "#but we don't want list. we want the characters one after other. use join function\n",
    "\"\".join(filter(lambda char:(s.find(char))%2,s))\n",
    "#takes each value, checks if it is odd index"
   ]
  },
  {
   "cell_type": "code",
   "execution_count": 65,
   "metadata": {},
   "outputs": [
    {
     "name": "stdout",
     "output_type": "stream",
     "text": [
      "['P', 't', 'o']\n"
     ]
    },
    {
     "data": {
      "text/plain": [
       "'Pto'"
      ]
     },
     "execution_count": 65,
     "metadata": {},
     "output_type": "execute_result"
    }
   ],
   "source": [
    "s='Python'\n",
    "print(list((filter(lambda x:(s.find(x))%2==0,s))))\n",
    "#but we don't want list. we want the characters one after other. use join function\n",
    "\"\".join(filter(lambda x:(s.find(x))%2==0,s))\n",
    "#takes each value, checks if it is odd index"
   ]
  },
  {
   "cell_type": "code",
   "execution_count": 83,
   "metadata": {},
   "outputs": [
    {
     "name": "stdout",
     "output_type": "stream",
     "text": [
      "<map object at 0x10bd090f0>\n",
      "[1, 0, 1, 0, 1, 0, 1, 0, 1, 0]\n",
      "[False, True, False, True, False, True, False, True, False, True]\n",
      "[True, False, True, False, True, False, True, False, True, False]\n",
      "[22, 24, 26, 28, 30, 32, 34, 36, 38, 40]\n"
     ]
    }
   ],
   "source": [
    "# map function\n",
    "# syntax: map(func,seq) - it's return type is a map function\n",
    "seq = range(11,21)\n",
    "#map(lamba num:num%2,seq)\n",
    "\n",
    "print(map(lambda num:num%2,seq)) #map means - for every value in the sequence, a value will be mapped as the output\n",
    "print(list(map(lambda num:num%2,seq)))\n",
    "print(list(map(lambda num:num%2==0,seq)))\n",
    "print(list(map(lambda num:num%2!=0,seq)))\n",
    "\n",
    "print(list(map(lambda num:num*2,seq))) # for every value of the sequence, twice the value will be returned"
   ]
  },
  {
   "cell_type": "code",
   "execution_count": 91,
   "metadata": {},
   "outputs": [
    {
     "name": "stdout",
     "output_type": "stream",
     "text": [
      "range(11, 21)\n",
      "[22, 24, 26, 28, 30, 32, 34, 36, 38, 40] \n",
      " [12, 14, 16, 18, 20]\n"
     ]
    }
   ],
   "source": [
    "# Difference between map() anf filter()\n",
    "#  Map function takes all elements and allows you to apply a function on it and\n",
    "#  passes the output of the function which can have same as well as different values .\n",
    "\n",
    "# Filter takes all objects in a list and runs that through a function \n",
    "# to create a new list with all objects that evaluated True in that function\n",
    "\n",
    "#Example below\n",
    "\n",
    "print(seq)\n",
    "print(list(map(lambda num:num*2,seq)), '\\n', list(filter(lambda num:num%2==0,seq)))"
   ]
  },
  {
   "cell_type": "code",
   "execution_count": null,
   "metadata": {},
   "outputs": [],
   "source": [
    "# filter, map, reduce, eversed, sorted, range - they all returns generator sequence"
   ]
  },
  {
   "cell_type": "code",
   "execution_count": 92,
   "metadata": {},
   "outputs": [
    {
     "name": "stdout",
     "output_type": "stream",
     "text": [
      "['ArithmeticError', 'AssertionError', 'AttributeError', 'BaseException', 'BlockingIOError', 'BrokenPipeError', 'BufferError', 'BytesWarning', 'ChildProcessError', 'ConnectionAbortedError', 'ConnectionError', 'ConnectionRefusedError', 'ConnectionResetError', 'DeprecationWarning', 'EOFError', 'Ellipsis', 'EnvironmentError', 'Exception', 'False', 'FileExistsError', 'FileNotFoundError', 'FloatingPointError', 'FutureWarning', 'GeneratorExit', 'IOError', 'ImportError', 'ImportWarning', 'IndentationError', 'IndexError', 'InterruptedError', 'IsADirectoryError', 'KeyError', 'KeyboardInterrupt', 'LookupError', 'MemoryError', 'ModuleNotFoundError', 'NameError', 'None', 'NotADirectoryError', 'NotImplemented', 'NotImplementedError', 'OSError', 'OverflowError', 'PendingDeprecationWarning', 'PermissionError', 'ProcessLookupError', 'RecursionError', 'ReferenceError', 'ResourceWarning', 'RuntimeError', 'RuntimeWarning', 'StopAsyncIteration', 'StopIteration', 'SyntaxError', 'SyntaxWarning', 'SystemError', 'SystemExit', 'TabError', 'TimeoutError', 'True', 'TypeError', 'UnboundLocalError', 'UnicodeDecodeError', 'UnicodeEncodeError', 'UnicodeError', 'UnicodeTranslateError', 'UnicodeWarning', 'UserWarning', 'ValueError', 'Warning', 'ZeroDivisionError', '__IPYTHON__', '__build_class__', '__debug__', '__doc__', '__import__', '__loader__', '__name__', '__package__', '__spec__', 'abs', 'all', 'any', 'ascii', 'bin', 'bool', 'breakpoint', 'bytearray', 'bytes', 'callable', 'chr', 'classmethod', 'compile', 'complex', 'copyright', 'credits', 'delattr', 'dict', 'dir', 'display', 'divmod', 'enumerate', 'eval', 'exec', 'filter', 'float', 'format', 'frozenset', 'get_ipython', 'getattr', 'globals', 'hasattr', 'hash', 'help', 'hex', 'id', 'input', 'int', 'isinstance', 'issubclass', 'iter', 'len', 'license', 'list', 'locals', 'map', 'max', 'memoryview', 'min', 'next', 'object', 'oct', 'open', 'ord', 'pow', 'print', 'property', 'range', 'repr', 'reversed', 'round', 'set', 'setattr', 'slice', 'sorted', 'staticmethod', 'str', 'sum', 'super', 'tuple', 'type', 'vars', 'zip']\n"
     ]
    }
   ],
   "source": [
    "# reduce function - it reduces the whole sequence into a single value\n",
    "# for example - if you want sum of all numbers in a sequence, or product, or find max value, or find min value of  sequence, then use reduce function\n",
    "\n",
    "#map and filter functions are part of python's builtin function. But reduce you have to import it separately\n",
    "\n",
    "print(dir(__builtins__))\n"
   ]
  },
  {
   "cell_type": "code",
   "execution_count": 94,
   "metadata": {},
   "outputs": [
    {
     "name": "stdout",
     "output_type": "stream",
     "text": [
      "range(11, 21)\n",
      "155\n"
     ]
    }
   ],
   "source": [
    "# to use reduce function, import it like below\n",
    "\n",
    "from functools import reduce\n",
    "\n",
    "#syntax: reduce(func, seq)\n",
    "print(seq)\n",
    "print(reduce(lambda x,y:x+y,seq))\n",
    "\n",
    "#How does it work:\n",
    "#first two values will be assigned to x and y. Then x+y will be computed and assigned to x. Then y will be takes as next number. So on and so forth"
   ]
  },
  {
   "cell_type": "code",
   "execution_count": null,
   "metadata": {},
   "outputs": [],
   "source": []
  },
  {
   "cell_type": "code",
   "execution_count": null,
   "metadata": {},
   "outputs": [],
   "source": []
  },
  {
   "cell_type": "code",
   "execution_count": null,
   "metadata": {},
   "outputs": [],
   "source": []
  },
  {
   "cell_type": "code",
   "execution_count": 108,
   "metadata": {},
   "outputs": [
    {
     "name": "stdout",
     "output_type": "stream",
     "text": [
      "5\n",
      "None\n",
      "Number cannot be divided by 0\n",
      "None\n"
     ]
    }
   ],
   "source": [
    "#Decorator - a function takes one function as an input and returns a modified function as an output\n",
    "# It is used to modify an existing function or an existing class\n",
    "#Requires lot of practice but is rarely used. It is good to know\n",
    "\n",
    "### CHECK IN PYTHON TUTOR TO SEE EXECUTION ###\n",
    "### Very important to see how it works to understand the logic\n",
    "\n",
    "def decorator(func):\n",
    "    def wrapper(x,y):\n",
    "        if y==0:\n",
    "            print(\"Number cannot be divided by 0\")\n",
    "        else:\n",
    "            print(func(x,y))\n",
    "    return wrapper\n",
    "\n",
    "@decorator\n",
    "def existing_func(a,b):\n",
    "    return a//b\n",
    "\n",
    "print(existing_func(10,2))\n",
    "print(existing_func(10,0))"
   ]
  },
  {
   "cell_type": "code",
   "execution_count": 111,
   "metadata": {},
   "outputs": [
    {
     "name": "stdout",
     "output_type": "stream",
     "text": [
      "5\n",
      "None\n",
      "Number cannot be divided by 0\n",
      "None\n"
     ]
    }
   ],
   "source": [
    "#Another way to write it\n",
    "\n",
    "### CHECK IN PYTHON TUTOR TO SEE EXECUTION ###\n",
    "\n",
    "def decorator(func):\n",
    "    def wrapper(x,y):\n",
    "        if y==0:\n",
    "            print(\"Number cannot be divided by 0\")\n",
    "        else:\n",
    "            print(func(x,y))\n",
    "    return wrapper\n",
    "\n",
    "\n",
    "def existing_func(a,b):\n",
    "    return a//b\n",
    "\n",
    "existing_func = decorator(existing_func)\n",
    "\n",
    "print(existing_func(10,2))\n",
    "print(existing_func(10,0))"
   ]
  },
  {
   "cell_type": "code",
   "execution_count": null,
   "metadata": {},
   "outputs": [],
   "source": []
  },
  {
   "cell_type": "code",
   "execution_count": null,
   "metadata": {},
   "outputs": [],
   "source": [
    "#Generators"
   ]
  },
  {
   "cell_type": "code",
   "execution_count": null,
   "metadata": {},
   "outputs": [],
   "source": []
  },
  {
   "cell_type": "code",
   "execution_count": null,
   "metadata": {},
   "outputs": [],
   "source": []
  },
  {
   "cell_type": "code",
   "execution_count": null,
   "metadata": {},
   "outputs": [],
   "source": []
  },
  {
   "cell_type": "code",
   "execution_count": null,
   "metadata": {},
   "outputs": [],
   "source": []
  },
  {
   "cell_type": "code",
   "execution_count": 66,
   "metadata": {},
   "outputs": [
    {
     "name": "stdout",
     "output_type": "stream",
     "text": [
      "-10\n",
      "-9\n",
      "-8\n",
      "-7\n",
      "-6\n",
      "-5\n",
      "-4\n",
      "-3\n",
      "-2\n",
      "-1\n",
      "0\n",
      "1\n",
      "2\n",
      "3\n",
      "4\n",
      "5\n",
      "6\n",
      "7\n",
      "8\n",
      "9\n",
      "10\n"
     ]
    }
   ],
   "source": [
    "#Generator to generate a sequence of numbers from 10 to 10\n",
    "\n",
    "def my_gen():\n",
    "    num=-10\n",
    "    while(num<=10):\n",
    "        yield num\n",
    "        num+=1\n",
    "a=my_gen()\n",
    "\n",
    "for i in a:\n",
    "    print(i)"
   ]
  },
  {
   "cell_type": "code",
   "execution_count": 71,
   "metadata": {},
   "outputs": [
    {
     "name": "stdout",
     "output_type": "stream",
     "text": [
      "0\n",
      "1\n",
      "2\n",
      "4\n",
      "8\n",
      "16\n",
      "32\n",
      "64\n"
     ]
    }
   ],
   "source": [
    "#Generator to generate fibonacci series - 0,1,1,2,3,5,8,...\n",
    "\n",
    "# #my attempt (was wrong)\n",
    "# def my_fibo_gen():\n",
    "#     i=0\n",
    "#     num=0\n",
    "#     while(num<=100):\n",
    "#         yield num\n",
    "#         num=num+i\n",
    "#         i=num\n",
    "#         num=num+1\n",
    "# a=my_fibo_gen()\n",
    "\n",
    "# for i in a:\n",
    "#     print(i)"
   ]
  },
  {
   "cell_type": "code",
   "execution_count": 73,
   "metadata": {},
   "outputs": [
    {
     "name": "stdout",
     "output_type": "stream",
     "text": [
      "1\n",
      "2\n",
      "3\n",
      "5\n",
      "8\n",
      "13\n",
      "21\n",
      "34\n",
      "55\n",
      "89\n"
     ]
    }
   ],
   "source": [
    "#Generator to generate fibonacci series - 0,1,1,2,3,5,8,...\n",
    "\n",
    "\n",
    "\n",
    "def fib():\n",
    "    a = 0\n",
    "    b = 1\n",
    "    c = a+b\n",
    "    while (c < 100):\n",
    "        yield c\n",
    "        a = b\n",
    "        b = c\n",
    "        c = a+b\n",
    "        \n",
    "        \n",
    "a = fib()\n",
    "for i in a:\n",
    "    print(i)"
   ]
  },
  {
   "cell_type": "code",
   "execution_count": null,
   "metadata": {},
   "outputs": [],
   "source": []
  },
  {
   "cell_type": "code",
   "execution_count": null,
   "metadata": {},
   "outputs": [],
   "source": []
  },
  {
   "cell_type": "code",
   "execution_count": null,
   "metadata": {},
   "outputs": [],
   "source": []
  },
  {
   "cell_type": "code",
   "execution_count": null,
   "metadata": {},
   "outputs": [],
   "source": []
  },
  {
   "cell_type": "code",
   "execution_count": null,
   "metadata": {},
   "outputs": [],
   "source": []
  },
  {
   "cell_type": "code",
   "execution_count": null,
   "metadata": {},
   "outputs": [],
   "source": []
  },
  {
   "cell_type": "code",
   "execution_count": null,
   "metadata": {},
   "outputs": [],
   "source": [
    "#Modules - a module is any python file you write"
   ]
  },
  {
   "cell_type": "code",
   "execution_count": null,
   "metadata": {},
   "outputs": [],
   "source": [
    "n1=100\n",
    "n2=200"
   ]
  }
 ],
 "metadata": {
  "kernelspec": {
   "display_name": "Python 3",
   "language": "python",
   "name": "python3"
  },
  "language_info": {
   "codemirror_mode": {
    "name": "ipython",
    "version": 3
   },
   "file_extension": ".py",
   "mimetype": "text/x-python",
   "name": "python",
   "nbconvert_exporter": "python",
   "pygments_lexer": "ipython3",
   "version": "3.7.1"
  }
 },
 "nbformat": 4,
 "nbformat_minor": 2
}
