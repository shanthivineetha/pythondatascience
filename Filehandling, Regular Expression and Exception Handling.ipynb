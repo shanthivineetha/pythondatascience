{
 "cells": [
  {
   "cell_type": "code",
   "execution_count": 9,
   "metadata": {},
   "outputs": [
    {
     "name": "stdout",
     "output_type": "stream",
     "text": [
      "10\n",
      "20\n",
      "20\n",
      "30\n"
     ]
    }
   ],
   "source": [
    "#Generator example\n",
    "\n",
    "def my_gen():\n",
    "    yield(10)\n",
    "    yield(20)\n",
    "    yield(20)\n",
    "    yield(30)\n",
    "for i in my_gen():\n",
    "        print(i)"
   ]
  },
  {
   "cell_type": "code",
   "execution_count": null,
   "metadata": {},
   "outputs": [],
   "source": [
    "#Filehandling functions\n",
    "# read()\n",
    "# read(number of char)\n",
    "# readline()\n",
    "# readlines()"
   ]
  },
  {
   "cell_type": "markdown",
   "metadata": {},
   "source": [
    "# File Handling in Pythin - Binary and Text files"
   ]
  },
  {
   "cell_type": "code",
   "execution_count": null,
   "metadata": {},
   "outputs": [],
   "source": [
    "# Open a file\n",
    "# Read a file\n",
    "# Write into a file\n",
    "# close a file # close file is mandatory"
   ]
  },
  {
   "cell_type": "code",
   "execution_count": null,
   "metadata": {},
   "outputs": [],
   "source": [
    "# f=open('file_name.extension','mode')\n",
    "# f.read()\n",
    "# f.close()\n",
    "\n",
    "# Different type of modes:\n",
    "# Text file:\n",
    "# Read Mode (r)\n",
    "# write mode (w)\n",
    "# append mode (a)\n",
    "# read and write mode (r+)\n",
    "# write and read mode (w+)\n",
    "# append and read mode (a+)\n",
    "\n",
    "# Binary File\n",
    "# Read Mode (rb)\n",
    "# write mode (wb)\n",
    "# append mode (ab)\n",
    "# read and write mode (r+b, rb+)\n",
    "# write and read mode (w+b,wb+)\n",
    "# append and read mode (a+b,ab+)"
   ]
  },
  {
   "cell_type": "code",
   "execution_count": 16,
   "metadata": {},
   "outputs": [
    {
     "name": "stdout",
     "output_type": "stream",
     "text": [
      "I would love to try or hear the sample audio your app can produce. I do not want to purchase, because I've purchased so many apps that say they do something and do not deliver.  \n",
      "\n",
      "Can you please add audio samples with text you've converted? I'd love to see the end results.\n",
      "\n",
      "Thanks!\n",
      "\n",
      "\n",
      "Winston Churchill quotes:\n",
      "\n",
      "Of all the talents bestowed upon men, none is so precious as the gift of oratory. He who enjoys it wields a power more durable than that of a great king. He is an independent force in the world. Abandoned by his party, betrayed by his friends, stripped of his offices, whoever can command this power is still formidable.\n"
     ]
    }
   ],
   "source": [
    "#Read mode (To read a file) - r\n",
    "# If you open a file in read mode and if file exists, then it will open the file and place the cursor at the beginning\n",
    "# If you open a file in read mode and if file does not exists, then it will give FileNotFoundError\n",
    "# Only reading is allowed, writing is unsupported\n",
    "\n",
    "# Read and Write mode (r+b or rb+)\n",
    "# If you open a file in read mode and if file exists, then it will open the file and place the cursor at the beginning\n",
    "# If you open a file in read mode and if file does not exists, then it will give FileNotFoundError\n",
    "# reading and writing is allowed\n",
    "\n",
    "# f1=open(\"/Users/sravi1/Downloads/abc.txt\",\"r\") # FileNotFoundError since there is a no file named abc.txt\n",
    "# print(f1.read())\n",
    "# f1.close()\n",
    "\n",
    "f2=open(\"/Users/sravi1/Downloads/sample.txt\",\"r\")\n",
    "print(f2.read())\n",
    "f2.close()"
   ]
  },
  {
   "cell_type": "code",
   "execution_count": 17,
   "metadata": {},
   "outputs": [
    {
     "name": "stdout",
     "output_type": "stream",
     "text": [
      "I would love to try or hear the sample audio your app can produce. I do not want to purchase, because I've purchased so many apps that say they do something and do not deliver.  \n",
      "\n",
      "Can you please add audio samples with text you've converted? I'd love to see the end results.\n",
      "\n",
      "Thanks!\n",
      "\n",
      "\n",
      "Winston Churchill quotes:\n",
      "\n",
      "Of all the talents bestowed upon men, none is so precious as the gift of oratory. He who enjoys it wields a power more durable than that of a great king. He is an independent force in the world. Abandoned by his party, betrayed by his friends, stripped of his offices, whoever can command this power is still formidable.\n"
     ]
    },
    {
     "ename": "UnsupportedOperation",
     "evalue": "not writable",
     "output_type": "error",
     "traceback": [
      "\u001b[0;31m---------------------------------------------------------------------------\u001b[0m",
      "\u001b[0;31mUnsupportedOperation\u001b[0m                      Traceback (most recent call last)",
      "\u001b[0;32m<ipython-input-17-7e42a7c0d090>\u001b[0m in \u001b[0;36m<module>\u001b[0;34m\u001b[0m\n\u001b[1;32m      2\u001b[0m \u001b[0mf2\u001b[0m\u001b[0;34m=\u001b[0m\u001b[0mopen\u001b[0m\u001b[0;34m(\u001b[0m\u001b[0;34m\"/Users/sravi1/Downloads/sample.txt\"\u001b[0m\u001b[0;34m,\u001b[0m\u001b[0;34m\"r\"\u001b[0m\u001b[0;34m)\u001b[0m\u001b[0;34m\u001b[0m\u001b[0;34m\u001b[0m\u001b[0m\n\u001b[1;32m      3\u001b[0m \u001b[0mprint\u001b[0m\u001b[0;34m(\u001b[0m\u001b[0mf2\u001b[0m\u001b[0;34m.\u001b[0m\u001b[0mread\u001b[0m\u001b[0;34m(\u001b[0m\u001b[0;34m)\u001b[0m\u001b[0;34m)\u001b[0m\u001b[0;34m\u001b[0m\u001b[0;34m\u001b[0m\u001b[0m\n\u001b[0;32m----> 4\u001b[0;31m \u001b[0mf2\u001b[0m\u001b[0;34m.\u001b[0m\u001b[0mwrite\u001b[0m\u001b[0;34m(\u001b[0m\u001b[0;34m'Hello'\u001b[0m\u001b[0;34m)\u001b[0m\u001b[0;34m\u001b[0m\u001b[0;34m\u001b[0m\u001b[0m\n\u001b[0m\u001b[1;32m      5\u001b[0m \u001b[0mf2\u001b[0m\u001b[0;34m.\u001b[0m\u001b[0mclose\u001b[0m\u001b[0;34m(\u001b[0m\u001b[0;34m)\u001b[0m\u001b[0;34m\u001b[0m\u001b[0;34m\u001b[0m\u001b[0m\n",
      "\u001b[0;31mUnsupportedOperation\u001b[0m: not writable"
     ]
    }
   ],
   "source": [
    "#Writing into file\n",
    "f2=open(\"/Users/sravi1/Downloads/sample.txt\",\"r\")\n",
    "print(f2.read())\n",
    "f2.write('Hello') # not writable\n",
    "f2.close()"
   ]
  },
  {
   "cell_type": "code",
   "execution_count": 31,
   "metadata": {},
   "outputs": [
    {
     "name": "stdout",
     "output_type": "stream",
     "text": [
      "THE POSITION OF THE CURSON IS 0\n",
      "Hellold love to try n3=300r the sample audio your app can produce. I do not want to purchase, because I've purchased so many apps that say they do something and do not deliver.  \n",
      "\n",
      "Can you please add audio samples with text you've converted? I'd love to see the end results.\n",
      "\n",
      "Thanks!\n",
      "\n",
      "\n",
      "Winston Churchill quotes:\n",
      "\n",
      "Of all the talents bestowed upon men, none is so precious as the gift of oratory. He who enjoys it wields a power more durable than that of a great king. He is an independent force in the world. Abandoned by his party, betrayed by his friends, stripped of his offices, whoever can command this power is still formidable.HelloHelloHelloHelloHelloHelloHelloHello\n",
      "THE POSITION OF THE CURSON IS 672\n",
      "THE POSITION OF THE CURSON IS 677\n",
      "THE POSITION OF THE CURSON IS 20\n",
      "r the sample audio your app can produce. I do not want to purchase, because I've purchased so many apps that say they do something and do not deliver.  \n",
      "\n",
      "Can you please add audio samples with text you've converted? I'd love to see the end results.\n",
      "\n",
      "Thanks!\n",
      "\n",
      "\n",
      "Winston Churchill quotes:\n",
      "\n",
      "Of all the talents bestowed upon men, none is so precious as the gift of oratory. He who enjoys it wields a power more durable than that of a great king. He is an independent force in the world. Abandoned by his party, betrayed by his friends, stripped of his offices, whoever can command this power is still formidable.HelloHelloHelloHelloHelloHelloHelloHelloHello\n"
     ]
    }
   ],
   "source": [
    "#Writing into file\n",
    "f2=open(\"/Users/sravi1/Downloads/sample.txt\",\"r+\")\n",
    "print('THE POSITION OF THE CURSON IS', f2.tell()) # tells the position of the cursor\n",
    "print(f2.read()) \n",
    "print('THE POSITION OF THE CURSON IS', f2.tell()) # tells the position of the cursor\n",
    "f2.write('Hello') # not writable\n",
    "print('THE POSITION OF THE CURSON IS', f2.tell()) # tells the position of the cursor\n",
    "f2.seek(20) #Moves the position of the cursor wherever u want in the file\n",
    "print('THE POSITION OF THE CURSON IS', f2.tell()) # tells the position of the cursor\n",
    "f2.write('n3=300') # not writable\n",
    "print(f2.read()) # tells the position of the cursor\n",
    "f2.close()\n",
    "# if you don't close the file, the changes will not be saved\n",
    "# f2.seek(20) # you can't write seek of tell after your close the file"
   ]
  },
  {
   "cell_type": "code",
   "execution_count": 29,
   "metadata": {},
   "outputs": [
    {
     "name": "stdout",
     "output_type": "stream",
     "text": [
      "Hellold love to try n3=300r the sample audio your app can produce. I do not want to purchase, because I've purchased so many apps that say they do something and do not deliver.  \n",
      "\n",
      "Can you please add audio samples with text you've converted? I'd love to see the end results.\n",
      "\n",
      "Thanks!\n",
      "\n",
      "\n",
      "Winston Churchill quotes:\n",
      "\n",
      "Of all the talents bestowed upon men, none is so precious as the gift of oratory. He who enjoys it wields a power more durable than that of a great king. He is an independent force in the world. Abandoned by his party, betrayed by his friends, stripped of his offices, whoever can command this power is still formidable.HelloHelloHelloHelloHelloHelloHello\n"
     ]
    }
   ],
   "source": [
    "# You can also open a file using \"with\" statement\n",
    "#if you open the file with \"with\" statement, you don't need to close the file.\n",
    "\n",
    "##### IT IS RECOMMENDED TO USE WITH STATEMENT COMPARED TO OPEN STATEMENT ###\n",
    "\n",
    "with open(\"/Users/sravi1/Downloads/sample.txt\",\"r+\") as f:\n",
    "    print(f.read())"
   ]
  },
  {
   "cell_type": "code",
   "execution_count": 35,
   "metadata": {},
   "outputs": [
    {
     "name": "stdout",
     "output_type": "stream",
     "text": [
      "0\n",
      "11\n",
      "11\n"
     ]
    },
    {
     "ename": "UnsupportedOperation",
     "evalue": "not readable",
     "output_type": "error",
     "traceback": [
      "\u001b[0;31m---------------------------------------------------------------------------\u001b[0m",
      "\u001b[0;31mUnsupportedOperation\u001b[0m                      Traceback (most recent call last)",
      "\u001b[0;32m<ipython-input-35-5ebde90d0ddf>\u001b[0m in \u001b[0;36m<module>\u001b[0;34m\u001b[0m\n\u001b[1;32m     19\u001b[0m \u001b[0mprint\u001b[0m\u001b[0;34m(\u001b[0m\u001b[0mf\u001b[0m\u001b[0;34m.\u001b[0m\u001b[0mwrite\u001b[0m\u001b[0;34m(\u001b[0m\u001b[0;34m\"Hello World\"\u001b[0m\u001b[0;34m)\u001b[0m\u001b[0;34m)\u001b[0m\u001b[0;34m\u001b[0m\u001b[0;34m\u001b[0m\u001b[0m\n\u001b[1;32m     20\u001b[0m \u001b[0mprint\u001b[0m\u001b[0;34m(\u001b[0m\u001b[0mf\u001b[0m\u001b[0;34m.\u001b[0m\u001b[0mtell\u001b[0m\u001b[0;34m(\u001b[0m\u001b[0;34m)\u001b[0m\u001b[0;34m)\u001b[0m\u001b[0;34m\u001b[0m\u001b[0;34m\u001b[0m\u001b[0m\n\u001b[0;32m---> 21\u001b[0;31m \u001b[0mprint\u001b[0m\u001b[0;34m(\u001b[0m\u001b[0mf\u001b[0m\u001b[0;34m.\u001b[0m\u001b[0mread\u001b[0m\u001b[0;34m(\u001b[0m\u001b[0;34m)\u001b[0m\u001b[0;34m)\u001b[0m\u001b[0;34m\u001b[0m\u001b[0;34m\u001b[0m\u001b[0m\n\u001b[0m\u001b[1;32m     22\u001b[0m \u001b[0mf\u001b[0m\u001b[0;34m.\u001b[0m\u001b[0mclose\u001b[0m\u001b[0;34m(\u001b[0m\u001b[0;34m)\u001b[0m\u001b[0;34m\u001b[0m\u001b[0;34m\u001b[0m\u001b[0m\n",
      "\u001b[0;31mUnsupportedOperation\u001b[0m: not readable"
     ]
    }
   ],
   "source": [
    "# Write mode - (w)\n",
    "\n",
    "# If you open a file in write mode and if file exists, then it will open the file and \n",
    "#places the cursor at the beginning of the file after deleting the content of the file\n",
    "# If you open a file in write mode and if file does not exists, then it will create the file with the same name\n",
    "# and placed the cursor at the beginning of the file\n",
    "#only writing is allowed. reading from file is an unsupported operation\n",
    "\n",
    "# Read and write mode (w+) \n",
    "\n",
    "# If you open a file in write mode and if file exists, then it will open the file and \n",
    "#places the cursor at the beginning of the file after deleting the content of the file\n",
    "# If you open a file in write mode and if file does not exists, then it will create the file with the same name\n",
    "# and placed the cursor at the beginning of the file\n",
    "# writing and reading are both supported operations\n",
    "\n",
    "f=open(\"/Users/sravi1/Downloads/sample2.txt\",\"w\")\n",
    "print(f.tell())\n",
    "print(f.write(\"Hello World\"))\n",
    "print(f.tell())\n",
    "print(f.read()) # reading not allowed on write only mode\n",
    "f.close()"
   ]
  },
  {
   "cell_type": "code",
   "execution_count": 40,
   "metadata": {},
   "outputs": [
    {
     "name": "stdout",
     "output_type": "stream",
     "text": [
      "0\n",
      "11\n",
      "11\n",
      "0\n",
      "Hello World\n"
     ]
    }
   ],
   "source": [
    "f=open(\"/Users/sravi1/Downloads/sample2.txt\",\"w+\") \n",
    "# everytime you execute this file, the content of the file gets deleted and the cursor is placed at the beginning to write into the file\n",
    "# in r+ mode, the content is not deleted. Only the cursor is placed at the beginning\n",
    "print(f.tell())\n",
    "print(f.write(\"Hello World\"))\n",
    "print(f.tell())\n",
    "print(f.seek(0)) #if you want to read the file, you should seek it to 0\n",
    "print(f.read()) \n",
    "f.close()"
   ]
  },
  {
   "cell_type": "code",
   "execution_count": 64,
   "metadata": {},
   "outputs": [
    {
     "name": "stdout",
     "output_type": "stream",
     "text": [
      "2040\n",
      "0\n",
      "\n",
      "\n",
      " #append - a If you open a file in append mode and if file exists, then it will open the file and places the cursor at the end of the file and it doesn't delete the content. If you open a file in append mode and if file does not exists, then it will create the file with the same name and placed the cursor at the beginning of the file only writing is allowed. reading from file is an unsupported operation\n",
      "\n",
      " #append - a If you open a file in append mode and if file exists, then it will open the file and places the cursor at the end of the file and it doesn't delete the content. If you open a file in append mode and if file does not exists, then it will create the file with the same name and placed the cursor at the beginning of the file only writing is allowed. reading from file is an unsupported operation\n",
      "\n",
      " #append - a If you open a file in append mode and if file exists, then it will open the file and places the cursor at the end of the file and it doesn't delete the content. If you open a file in append mode and if file does not exists, then it will create the file with the same name and placed the cursor at the beginning of the file only writing is allowed. reading from file is an unsupported operation\n",
      "\n",
      " #append - a If you open a file in append mode and if file exists, then it will open the file and places the cursor at the end of the file and it doesn't delete the content. If you open a file in append mode and if file does not exists, then it will create the file with the same name and placed the cursor at the beginning of the file only writing is allowed. reading from file is an unsupported operation\n",
      "\n",
      " #append - a If you open a file in append mode and if file exists, then it will open the file and places the cursor at the end of the file and it doesn't delete the content. If you open a file in append mode and if file does not exists, then it will create the file with the same name and placed the cursor at the beginning of the file only writing is allowed. reading from file is an unsupported operation\n"
     ]
    }
   ],
   "source": [
    "#append - a\n",
    "#append and read - a+\n",
    "\n",
    "# In append mode, cursor will be placed at the end of the file\n",
    "# In read and write mode, the cursor was placed at the beginning of the file\n",
    "\n",
    "\n",
    "#append - a\n",
    "# If you open a file in append mode and if file exists, then it will open the file and \n",
    "# places the cursor at the end of the file and it doesn't delete the content\n",
    "# If you open a file in append mode and if file does not exists, then it will create the file with the same name\n",
    "# and placed the cursor at the beginning of the file\n",
    "# only writing is allowed. reading from file is an unsupported operation\n",
    "\n",
    "# append and read mode (a+) \n",
    "\n",
    "# If you open a file in append mode and if file exists, then it will open the file and \n",
    "# places the cursor at the end of the file and it doesn't delete the content\n",
    "# If you open a file in append mode and if file does not exists, then it will create the file with the same name\n",
    "# and placed the cursor at the beginning of the file\n",
    "# writing and reading are both supported operations\n",
    "\n",
    "f6 = open(\"/Users/sravi1/Downloads/sample3.txt\",\"a+\")\n",
    "print(f6.tell())\n",
    "#f6.write(\"\"\"\\n\\n #append - a If you open a file in append mode and if file exists, then it will open the file and places the cursor at the end of the file and it doesn't delete the content. If you open a file in append mode and if file does not exists, then it will create the file with the same name and placed the cursor at the beginning of the file only writing is allowed. reading from file is an unsupported operation\"\"\")\n",
    "print(f6.seek(0))\n",
    "print(f6.read())\n",
    "f6.close()"
   ]
  },
  {
   "cell_type": "code",
   "execution_count": 61,
   "metadata": {},
   "outputs": [
    {
     "name": "stdout",
     "output_type": "stream",
     "text": [
      "0\n",
      "408\n"
     ]
    }
   ],
   "source": [
    "f3 = open(\"/Users/sravi1/Downloads/sample3.txt\",\"r+\")\n",
    "print(f3.tell())\n",
    "f3.write(\"\"\"\\n\\n #append - a If you open a file in append mode and if file exists, then it will open the file and places the cursor at the end of the file and it doesn't delete the content. If you open a file in append mode and if file does not exists, then it will create the file with the same name and placed the cursor at the beginning of the file only writing is allowed. reading from file is an unsupported operation\"\"\")\n",
    "print(f3.tell())\n",
    "f3.close()"
   ]
  },
  {
   "cell_type": "code",
   "execution_count": null,
   "metadata": {},
   "outputs": [],
   "source": [
    "#Binary file\n",
    "\n",
    "# reading - rb\n",
    "# writing - wb\n",
    "# appending - ab\n",
    "# reading and writing - rb+\n",
    "# writing and reading - wb+\n",
    "# appending and reading - ab+\n",
    "\n",
    "# Binary files are images, pdf, audio, video files etc..."
   ]
  },
  {
   "cell_type": "code",
   "execution_count": null,
   "metadata": {},
   "outputs": [],
   "source": [
    "# Methods to read and write data\n",
    "\n",
    "# 4 methods to read data:\n",
    "# read() - reads the whole content of the file and returns string object\n",
    "# read(num of char) - reads the specified number of characters in the file rand returns string object\n",
    "# readline() - reads one line at a time and returns string object\n",
    "# readlines()- reads all lines from the file and returns list of strings where every string will be one line"
   ]
  },
  {
   "cell_type": "code",
   "execution_count": 66,
   "metadata": {},
   "outputs": [
    {
     "name": "stdout",
     "output_type": "stream",
     "text": [
      "\n",
      "\n",
      " #append - a If you open a file in append mode and if file exists, then it will open the file and places the cursor at the end of the file and it doesn't delete the content. If you open a file in append mode and if file does not exists, then it will create the file with the same name and placed the cursor at the beginning of the file only writing is allowed. reading from file is an unsupported operation\n",
      "\n",
      " #append - a If you open a file in append mode and if file exists, then it will open the file and places the cursor at the end of the file and it doesn't delete the content. If you open a file in append mode and if file does not exists, then it will create the file with the same name and placed the cursor at the beginning of the file only writing is allowed. reading from file is an unsupported operation\n",
      "\n",
      " #append - a If you open a file in append mode and if file exists, then it will open the file and places the cursor at the end of the file and it doesn't delete the content. If you open a file in append mode and if file does not exists, then it will create the file with the same name and placed the cursor at the beginning of the file only writing is allowed. reading from file is an unsupported operation\n",
      "\n",
      " #append - a If you open a file in append mode and if file exists, then it will open the file and places the cursor at the end of the file and it doesn't delete the content. If you open a file in append mode and if file does not exists, then it will create the file with the same name and placed the cursor at the beginning of the file only writing is allowed. reading from file is an unsupported operation\n",
      "\n",
      " #append - a If you open a file in append mode and if file exists, then it will open the file and places the cursor at the end of the file and it doesn't delete the content. If you open a file in append mode and if file does not exists, then it will create the file with the same name and placed the cursor at the beginning of the file only writing is allowed. reading from file is an unsupported operation\n",
      "\n",
      "<class 'str'>\n"
     ]
    }
   ],
   "source": [
    "f = open(\"/Users/sravi1/Downloads/sample3.txt\",\"r\")\n",
    "out_data = f.read()\n",
    "print(out_data)\n",
    "print()\n",
    "print(type(out_data))\n",
    "f.close()"
   ]
  },
  {
   "cell_type": "code",
   "execution_count": 67,
   "metadata": {},
   "outputs": [
    {
     "name": "stdout",
     "output_type": "stream",
     "text": [
      "\n",
      "\n",
      " #append - a If you open a file in append mode and if file exists, then it will open the file and \n",
      "\n",
      "<class 'str'>\n"
     ]
    }
   ],
   "source": [
    "f = open(\"/Users/sravi1/Downloads/sample3.txt\",\"r\")\n",
    "out_data = f.read(100)\n",
    "print(out_data)\n",
    "print()\n",
    "print(type(out_data))\n",
    "f.close()"
   ]
  },
  {
   "cell_type": "code",
   "execution_count": 68,
   "metadata": {},
   "outputs": [
    {
     "name": "stdout",
     "output_type": "stream",
     "text": [
      "\n",
      "\n",
      "\n",
      "<class 'str'>\n"
     ]
    }
   ],
   "source": [
    "f = open(\"/Users/sravi1/Downloads/sample3.txt\",\"r\")\n",
    "out_data = f.readline()\n",
    "print(out_data)\n",
    "print()\n",
    "print(type(out_data))\n",
    "f.close()"
   ]
  },
  {
   "cell_type": "code",
   "execution_count": 69,
   "metadata": {},
   "outputs": [
    {
     "name": "stdout",
     "output_type": "stream",
     "text": [
      "['\\n', '\\n', \" #append - a If you open a file in append mode and if file exists, then it will open the file and places the cursor at the end of the file and it doesn't delete the content. If you open a file in append mode and if file does not exists, then it will create the file with the same name and placed the cursor at the beginning of the file only writing is allowed. reading from file is an unsupported operation\\n\", '\\n', \" #append - a If you open a file in append mode and if file exists, then it will open the file and places the cursor at the end of the file and it doesn't delete the content. If you open a file in append mode and if file does not exists, then it will create the file with the same name and placed the cursor at the beginning of the file only writing is allowed. reading from file is an unsupported operation\\n\", '\\n', \" #append - a If you open a file in append mode and if file exists, then it will open the file and places the cursor at the end of the file and it doesn't delete the content. If you open a file in append mode and if file does not exists, then it will create the file with the same name and placed the cursor at the beginning of the file only writing is allowed. reading from file is an unsupported operation\\n\", '\\n', \" #append - a If you open a file in append mode and if file exists, then it will open the file and places the cursor at the end of the file and it doesn't delete the content. If you open a file in append mode and if file does not exists, then it will create the file with the same name and placed the cursor at the beginning of the file only writing is allowed. reading from file is an unsupported operation\\n\", '\\n', \" #append - a If you open a file in append mode and if file exists, then it will open the file and places the cursor at the end of the file and it doesn't delete the content. If you open a file in append mode and if file does not exists, then it will create the file with the same name and placed the cursor at the beginning of the file only writing is allowed. reading from file is an unsupported operation\"]\n",
      "\n",
      "<class 'list'>\n"
     ]
    }
   ],
   "source": [
    "f = open(\"/Users/sravi1/Downloads/sample3.txt\",\"r\")\n",
    "out_data = f.readlines()\n",
    "print(out_data)\n",
    "print()\n",
    "print(type(out_data))\n",
    "f.close()"
   ]
  },
  {
   "cell_type": "code",
   "execution_count": 75,
   "metadata": {},
   "outputs": [
    {
     "name": "stdout",
     "output_type": "stream",
     "text": [
      "This is a burlary\n",
      "I am a detectiveI am here to solve the case\n",
      "0\n",
      "I am a detectiveI am here to solve the case\n"
     ]
    }
   ],
   "source": [
    "#methods to write the data\n",
    "#write('str') - takes string as input and writes into file\n",
    "#writelines(list[str]) - takes list of strings as input and writes into file\n",
    "\n",
    "my_lst = [\"This is a burlary\\n\", \"I am a detective\", \"I am here to solve the case\"]\n",
    "f = open(\"/Users/sravi1/Downloads/sample3.txt\", \"w+\")\n",
    "f.writelines(my_lst)\n",
    "f.seek(0)\n",
    "print(f.read())\n",
    "print(f.seek(0))\n",
    "f.write(\"Hello, I am string\")\n",
    "print(f.read())\n",
    "f.close()"
   ]
  },
  {
   "cell_type": "code",
   "execution_count": 81,
   "metadata": {},
   "outputs": [],
   "source": [
    "#Creates a copy of an image (binary) file\n",
    "\n",
    "with open(\"/Users/sravi1/Downloads/python.png\",\"rb\") as f:\n",
    "    with open(\"/Users/sravi1/Downloads/newpython.png\",\"wb\") as f1:\n",
    "        d_read = f.read()\n",
    "        f1.write(d_read)"
   ]
  },
  {
   "cell_type": "code",
   "execution_count": 97,
   "metadata": {},
   "outputs": [
    {
     "name": "stdout",
     "output_type": "stream",
     "text": [
      "Line count is 4\n",
      "Word count is 15\n",
      "Chat count is 23\n"
     ]
    }
   ],
   "source": [
    "with open(\"/Users/sravi1/Downloads/sample2.txt\",\"r\") as f:\n",
    "    w_count = 0 #word count is set to 0\n",
    "    c_count = 0 #character count is set to 0\n",
    "    l_count = 0 #line count is set t o 0\n",
    "#     l_count = len(f.readlines())\n",
    "    for line in f.readlines():\n",
    "        l_count+=1\n",
    "#         print(line)\n",
    "        for word in line.split():\n",
    "#             print(word)\n",
    "            w_count+=1\n",
    "        for char in word:\n",
    "            c_count+=1\n",
    "    print(\"Line count is\", l_count)\n",
    "    print(\"Word count is\", w_count)\n",
    "    print(\"Chat count is\", c_count)"
   ]
  },
  {
   "cell_type": "code",
   "execution_count": null,
   "metadata": {},
   "outputs": [],
   "source": [
    "#To embed an image in notebook\n",
    "# ![Image](Icon-pictures.png \"icon\")"
   ]
  },
  {
   "cell_type": "markdown",
   "metadata": {},
   "source": [
    "# ![Image](python.JPG \"icon\")"
   ]
  },
  {
   "cell_type": "markdown",
   "metadata": {},
   "source": [
    "# Regular Expression"
   ]
  },
  {
   "cell_type": "code",
   "execution_count": null,
   "metadata": {},
   "outputs": [],
   "source": [
    "# Regular Expression (Regex)looks for a pattern in a given string\n",
    "# Combination of special symbols an characaters to find and extract information out of a given string data\n",
    "# matches the pattern character by character\n",
    "\n",
    "# Import re module\n",
    "\n",
    "# search - looks for the patterns in the whole string and finds the first occurrence. Returns match object if pattern is matched, else returns None \n",
    "# match - looks for the pattern only in the beginning of the string, returns match object if pattern is matched, else returns None\n",
    "# findall - looks for all the occurrence of the pattern in given strng and returns a list of all matches, if not found then returns an empty list\n",
    "# split - splits the string based on given pattern and returns the splitted string as a list, if no match found, retuns an empty list\n",
    "# sub - replaces the given pattern with new string"
   ]
  },
  {
   "cell_type": "code",
   "execution_count": 112,
   "metadata": {},
   "outputs": [
    {
     "name": "stdout",
     "output_type": "stream",
     "text": [
      "['A', 'ASCII', 'DEBUG', 'DOTALL', 'I', 'IGNORECASE', 'L', 'LOCALE', 'M', 'MULTILINE', 'Match', 'Pattern', 'RegexFlag', 'S', 'Scanner', 'T', 'TEMPLATE', 'U', 'UNICODE', 'VERBOSE', 'X', '_MAXCACHE', '__all__', '__builtins__', '__cached__', '__doc__', '__file__', '__loader__', '__name__', '__package__', '__spec__', '__version__', '_cache', '_compile', '_compile_repl', '_expand', '_locale', '_pickle', '_special_chars_map', '_subx', 'compile', 'copyreg', 'enum', 'error', 'escape', 'findall', 'finditer', 'fullmatch', 'functools', 'match', 'purge', 'search', 'split', 'sre_compile', 'sre_parse', 'sub', 'subn', 'template']\n"
     ]
    }
   ],
   "source": [
    "import re\n",
    "print(dir(re))"
   ]
  },
  {
   "cell_type": "code",
   "execution_count": 106,
   "metadata": {},
   "outputs": [
    {
     "name": "stdout",
     "output_type": "stream",
     "text": [
      "True\n",
      "4\n"
     ]
    }
   ],
   "source": [
    "my_str = 'cat mat bat rat fat'\n",
    "#look for an occurrence which starts from m and has two characters after it.\n",
    "print('mat' in my_str) # regular string functions\n",
    "print(my_str.find('mat')) # regular string functions"
   ]
  },
  {
   "cell_type": "code",
   "execution_count": 115,
   "metadata": {},
   "outputs": [
    {
     "name": "stdout",
     "output_type": "stream",
     "text": [
      "<re.Match object; span=(0, 3), match='cat'>\n",
      "<re.Match object; span=(0, 3), match='cat'>\n"
     ]
    }
   ],
   "source": [
    "import re\n",
    "my_str = 'cat mat bat rat fat'\n",
    "reg = 'c\\w\\w'  #indicates string starts with m and \\w indicates any alphanumeric character\n",
    "print(re.match(reg,my_str)) # didn't return anything because there is no match in the beginnning\n",
    "print(re.search(reg,my_str)) # returns match object"
   ]
  },
  {
   "cell_type": "code",
   "execution_count": 116,
   "metadata": {},
   "outputs": [
    {
     "name": "stdout",
     "output_type": "stream",
     "text": [
      "None\n",
      "<re.Match object; span=(4, 7), match='mat'>\n"
     ]
    }
   ],
   "source": [
    "import re\n",
    "my_str = 'cat mat bat rat fat'\n",
    "reg = 'm\\w\\w'  #indicates string starts with m and \\w indicates any alphanumeric character\n",
    "print(re.match(reg,my_str)) # didn't return anything because there is no match in the beginnning\n",
    "print(re.search(reg,my_str)) # returns match object"
   ]
  },
  {
   "cell_type": "code",
   "execution_count": 124,
   "metadata": {},
   "outputs": [
    {
     "name": "stdout",
     "output_type": "stream",
     "text": [
      "None\n",
      "<re.Match object; span=(4, 7), match='mat'>\n",
      "['mat', 'mak', 'man', 'mas', 'mal', 'man', 'man', 'mad']\n",
      "['cat ', ' bat rat fat ', 'e ', ' ', 'k ', 'l ', 'hattan ', '', 'e']\n",
      "cat ABC bat rat fat ABCe ABC ABCk ABCl ABChattan ABCABCe\n"
     ]
    }
   ],
   "source": [
    "#findall method\n",
    "\n",
    "my_str = 'cat mat bat rat fat make man mask mall manhattan manmade'\n",
    "reg = 'm\\w\\w'  #indicates string starts with m and \\w indicates any alphanumeric character\n",
    "print(re.match(reg,my_str)) # didn't return anything because there is no match in the beginnning\n",
    "print(re.search(reg,my_str)) # returns match object with first match\n",
    "print(re.findall(reg,my_str)) # returns a list object of all matches\n",
    "print(re.split(reg,my_str)) # returns a list object of all matches\n",
    "print(re.sub(reg,\"ABC\",my_str)) # returns a list object of all matches"
   ]
  },
  {
   "cell_type": "code",
   "execution_count": null,
   "metadata": {},
   "outputs": [],
   "source": [
    "# <r.Match object; span=(4, 7), match='mat'>\n",
    "span - says that from which index to which index match is found\n",
    "match - matched value"
   ]
  },
  {
   "cell_type": "code",
   "execution_count": null,
   "metadata": {},
   "outputs": [],
   "source": [
    "11. Sequence characters in regular expression:-\n",
    "    1. \\d - any digit from 0 to 9\n",
    "    2. \\D - any non-digit\n",
    "    3. \\s - white space e.g.:- \\t,\\n,\\r,\\v,\\f\n",
    "    4. \\S - non white space character\n",
    "    5. \\w - any alphanumeric character e.g.:- (A to Z, a to z, 0 to 9, _)\n",
    "    6. \\W - any non alphanumeric character\n",
    "    7. \\b - matches a whole word\n",
    "    8. \\A - matches only at the start of the string\n",
    "    9. \\Z - matches only at the end of the string"
   ]
  },
  {
   "cell_type": "code",
   "execution_count": null,
   "metadata": {},
   "outputs": [],
   "source": [
    "12. Characters represents more than one character to be matched in the string is called Quantifiers.\n",
    "    1. + - represents 1 or more repetitions of the preceding regex exp\n",
    "    2. * - 0 or more repetitions of the preceding regex exp\n",
    "    3. ? - 0 or 1 repetitions of the preceding regex exp\n",
    "    4. {m} - exactly m occurences\n",
    "    5. {m,n} - from m to n. m defaults to 0 n to infinity. Always goes for higher bound i.e n and then m"
   ]
  },
  {
   "cell_type": "code",
   "execution_count": 125,
   "metadata": {},
   "outputs": [
    {
     "name": "stdout",
     "output_type": "stream",
     "text": [
      "None\n",
      "<re.Match object; span=(4, 7), match='mat'>\n",
      "['mat', 'make', 'man', 'mask', 'mall', 'manhattan', 'manmade']\n",
      "['cat ', ' bat rat fat ', ' ', ' ', ' ', ' ', ' ', '']\n"
     ]
    }
   ],
   "source": [
    "my_str = 'cat mat bat rat fat make man mask mall manhattan manmade'\n",
    "reg = 'm\\w\\w+'  # + indicates one or more chararacter. After m, one alphanumeric and one or more of alphanumeric character\n",
    "print(re.match(reg,my_str)) # didn't return anything because there is no match in the beginnning\n",
    "print(re.search(reg,my_str)) # returns match object with first match\n",
    "print(re.findall(reg,my_str)) # returns a list object of all matches\n",
    "print(re.split(reg,my_str)) # returns a list object of all matches"
   ]
  },
  {
   "cell_type": "code",
   "execution_count": 130,
   "metadata": {},
   "outputs": [
    {
     "name": "stdout",
     "output_type": "stream",
     "text": [
      "None\n",
      "<re.Match object; span=(4, 7), match='mat'>\n",
      "['mat', 'make', 'man', 'mask', 'mall', 'manhattan', 'manmade', 'ma']\n",
      "['cat ', ' bat rat fat ', ' ', ' ', ' ', ' ', ' ', ' ', '']\n"
     ]
    }
   ],
   "source": [
    "my_str = 'cat mat bat rat fat make man mask mall manhattan manmade ma'\n",
    "reg = 'm\\w\\w*'  # * indicates zero or more chararacter\n",
    "print(re.match(reg,my_str)) # didn't return anything because there is no match in the beginnning\n",
    "print(re.search(reg,my_str)) # returns match object with first match\n",
    "print(re.findall(reg,my_str)) # returns a list object of all matches\n",
    "print(re.split(reg,my_str)) # returns a list object of all matches"
   ]
  },
  {
   "cell_type": "code",
   "execution_count": 132,
   "metadata": {},
   "outputs": [
    {
     "name": "stdout",
     "output_type": "stream",
     "text": [
      "None\n",
      "<re.Match object; span=(4, 6), match='ma'>\n",
      "['ma', 'ma', 'ma', 'ma', 'ma', 'ma', 'ma', 'ma', 'm']\n",
      "['cat ', 't bat rat fat ', 'ke ', 'n ', 'sk ', 'll ', 'nhattan ', 'n', 'de ', '']\n"
     ]
    }
   ],
   "source": [
    "my_str = 'cat mat bat rat fat make man mask mall manhattan manmade m'\n",
    "reg = 'm\\w?'  # ? indicates zero or 1 chararacter\n",
    "print(re.match(reg,my_str)) # didn't return anything because there is no match in the beginnning\n",
    "print(re.search(reg,my_str)) # returns match object with first match\n",
    "print(re.findall(reg,my_str)) # returns a list object of all matches\n",
    "print(re.split(reg,my_str)) # returns a list object of all matches"
   ]
  },
  {
   "cell_type": "code",
   "execution_count": 137,
   "metadata": {},
   "outputs": [
    {
     "name": "stdout",
     "output_type": "stream",
     "text": [
      "None\n",
      "<re.Match object; span=(39, 47), match='manhatta'>\n",
      "['manhatta']\n",
      "['cat mat bat rat fat make man mask mall ', 'n manmade m']\n"
     ]
    }
   ],
   "source": [
    "my_str = 'cat mat bat rat fat make man mask mall manhattan manmade m'\n",
    "reg = 'm\\w{7}'  # {m} - exactly m occurences\n",
    "print(re.match(reg,my_str)) # didn't return anything because there is no match in the beginnning\n",
    "print(re.search(reg,my_str)) # returns match object with first match\n",
    "print(re.findall(reg,my_str)) # returns a list object of all matches\n",
    "print(re.split(reg,my_str)) # returns a list object of all matches"
   ]
  },
  {
   "cell_type": "code",
   "execution_count": 138,
   "metadata": {},
   "outputs": [
    {
     "name": "stdout",
     "output_type": "stream",
     "text": [
      "None\n",
      "<re.Match object; span=(4, 7), match='mat'>\n",
      "['mat', 'make', 'man', 'mask', 'mall', 'manhatt', 'manmade']\n",
      "['cat ', ' bat rat fat ', ' ', ' ', ' ', ' ', 'an ', ' m']\n"
     ]
    }
   ],
   "source": [
    "my_str = 'cat mat bat rat fat make man mask mall manhattan manmade m'\n",
    "reg = 'm\\w{2,6}'  # {m} - exactly m occurences. minimum 2 and maximum 6\n",
    "print(re.match(reg,my_str)) # didn't return anything because there is no match in the beginnning\n",
    "print(re.search(reg,my_str)) # returns match object with first match\n",
    "print(re.findall(reg,my_str)) # returns a list object of all matches\n",
    "print(re.split(reg,my_str)) # returns a list object of all matches"
   ]
  },
  {
   "cell_type": "code",
   "execution_count": 135,
   "metadata": {},
   "outputs": [
    {
     "name": "stdout",
     "output_type": "stream",
     "text": [
      "None\n",
      "<re.Match object; span=(4, 5), match='m'>\n",
      "['m', 'm', 'm', 'm', 'm', 'm', 'm', 'm', 'm']\n",
      "['cat ', 'at bat rat fat ', 'ake ', 'an ', 'ask ', 'all ', 'anhattan ', 'an', 'ade ', '']\n"
     ]
    }
   ],
   "source": [
    "my_str = 'cat mat bat rat fat make man mask mall manhattan manmade m'\n",
    "reg = 'm\\w*?'  # ? after another qualifier takes the minimum of the qualifier. * indicate 0 or 1. so *? takes minimum of the two and hence it takes 0\n",
    "print(re.match(reg,my_str)) # didn't return anything because there is no match in the beginnning\n",
    "print(re.search(reg,my_str)) # returns match object with first match\n",
    "print(re.findall(reg,my_str)) # returns a list object of all matches\n",
    "print(re.split(reg,my_str)) # returns a list object of all matches"
   ]
  },
  {
   "cell_type": "code",
   "execution_count": null,
   "metadata": {},
   "outputs": [],
   "source": [
    "Special Characters in regex:-\n",
    "    1. \\ - Escape special character\n",
    "    2. . - matches any character except new line\n",
    "    3. ^ - matches begining of the string\n",
    "    4. $ - matches ending of a string\n",
    "    5. [...] - Denotes set of possible charcaters. e.g. [6p-t]matches any characters from 6,p,q,r,s or t.\n",
    "    6. [^...] - Matches every characters except the ones inside brackets. e.g [^6p-t]matches every characters\n",
    "    except 6,p,q,r,s or t.\n",
    "    7. (...) - Matches the regular expression inside the parenthesis and the result can be captured.\n",
    "    8. R|S - Matches the regex either R or S."
   ]
  },
  {
   "cell_type": "code",
   "execution_count": 140,
   "metadata": {},
   "outputs": [
    {
     "name": "stdout",
     "output_type": "stream",
     "text": [
      "<re.Match object; span=(3, 4), match='\\\\'>\n"
     ]
    }
   ],
   "source": [
    "print(re.search('\\\\\\\\', 'abc\\def'))"
   ]
  },
  {
   "cell_type": "code",
   "execution_count": null,
   "metadata": {},
   "outputs": [],
   "source": []
  }
 ],
 "metadata": {
  "kernelspec": {
   "display_name": "Python 3",
   "language": "python",
   "name": "python3"
  },
  "language_info": {
   "codemirror_mode": {
    "name": "ipython",
    "version": 3
   },
   "file_extension": ".py",
   "mimetype": "text/x-python",
   "name": "python",
   "nbconvert_exporter": "python",
   "pygments_lexer": "ipython3",
   "version": "3.7.1"
  }
 },
 "nbformat": 4,
 "nbformat_minor": 2
}
