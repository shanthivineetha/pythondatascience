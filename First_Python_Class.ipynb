{
 "cells": [
  {
   "cell_type": "markdown",
   "metadata": {},
   "source": [
    "# Learnbay First Class Notes"
   ]
  },
  {
   "cell_type": "code",
   "execution_count": 2,
   "metadata": {},
   "outputs": [
    {
     "name": "stdout",
     "output_type": "stream",
     "text": [
      "10\n"
     ]
    }
   ],
   "source": [
    "print(10)"
   ]
  },
  {
   "cell_type": "code",
   "execution_count": 4,
   "metadata": {},
   "outputs": [
    {
     "data": {
      "text/plain": [
       "2.0"
      ]
     },
     "execution_count": 4,
     "metadata": {},
     "output_type": "execute_result"
    }
   ],
   "source": [
    "import math\n",
    "math.sqrt(4)"
   ]
  },
  {
   "cell_type": "code",
   "execution_count": 7,
   "metadata": {},
   "outputs": [
    {
     "data": {
      "text/plain": [
       "2000"
      ]
     },
     "execution_count": 7,
     "metadata": {},
     "output_type": "execute_result"
    }
   ],
   "source": [
    "a=10\n",
    "b=200\n",
    "a*b"
   ]
  },
  {
   "cell_type": "code",
   "execution_count": null,
   "metadata": {},
   "outputs": [],
   "source": [
    "# # This is a comment \n",
    "# Shortcut for comment- command + /\n",
    "# Shortcut for running a cell - control + enter\n",
    "# Shortcut to add a new cell - shift + enter\n",
    "# 2nd Shortcut to add a new cell below - esc and then B\n",
    "# Shortcut to add a new cell below - esc and then A\n",
    "# Shift + M to merge multiple cells\n",
    "# Esc will take you into command mode where you can navigate around your notebook with arrow keys.\n",
    "# While in command mode:\n",
    "# A to insert a new cell above the current cell, B to insert a new cell below.\n",
    "# MARKDOWN: M to change the current cell to Markdown and then control enter, Y to change it back to code \n",
    "# D + D (press the key twice) to delete the current cell"
   ]
  },
  {
   "cell_type": "markdown",
   "metadata": {},
   "source": [
    "Markdown"
   ]
  },
  {
   "cell_type": "markdown",
   "metadata": {},
   "source": [
    "#Introduction"
   ]
  },
  {
   "cell_type": "markdown",
   "metadata": {},
   "source": [
    "#Markdown\n",
    "Introduction"
   ]
  },
  {
   "cell_type": "code",
   "execution_count": 8,
   "metadata": {},
   "outputs": [
    {
     "name": "stdout",
     "output_type": "stream",
     "text": [
      "The Zen of Python, by Tim Peters\n",
      "\n",
      "Beautiful is better than ugly.\n",
      "Explicit is better than implicit.\n",
      "Simple is better than complex.\n",
      "Complex is better than complicated.\n",
      "Flat is better than nested.\n",
      "Sparse is better than dense.\n",
      "Readability counts.\n",
      "Special cases aren't special enough to break the rules.\n",
      "Although practicality beats purity.\n",
      "Errors should never pass silently.\n",
      "Unless explicitly silenced.\n",
      "In the face of ambiguity, refuse the temptation to guess.\n",
      "There should be one-- and preferably only one --obvious way to do it.\n",
      "Although that way may not be obvious at first unless you're Dutch.\n",
      "Now is better than never.\n",
      "Although never is often better than *right* now.\n",
      "If the implementation is hard to explain, it's a bad idea.\n",
      "If the implementation is easy to explain, it may be a good idea.\n",
      "Namespaces are one honking great idea -- let's do more of those!\n"
     ]
    }
   ],
   "source": [
    "import this"
   ]
  },
  {
   "cell_type": "code",
   "execution_count": null,
   "metadata": {},
   "outputs": [],
   "source": [
    "# To download ipynb notebook as .py file go to file and click \"Download As\"\n",
    "# To excute .py from command prompt -> go to terminal and type python <filename>\n",
    "# Anaconda is built specifically to handle big data"
   ]
  },
  {
   "cell_type": "code",
   "execution_count": null,
   "metadata": {},
   "outputs": [],
   "source": [
    "# Introduction of OS & Programming Language\n",
    "# OS - Operating System - To manage resources - Memory(RAM/ROM), I/O devices, CPU\n",
    "# Programming language is required to get your task done\n",
    "# Python is a programming language\n",
    "# - Low Level PL (Machine Language, Binary Language, Assembly Language)\n",
    "# - High level PL (C, C++, C#, Java, Python, Ruby, Perl, PHP)\n",
    "\n",
    "#Language more closer to the system (Low Level)\n",
    "#Language more closer to the user (High Level)\n",
    "# C is more like a mid-level coz you can do memory management, security, portability etc\n",
    "\n",
    "#Translator - Compiler and Interpreter\n",
    "#Compiled Language - Which needs compilation as an explicit step - C, C++, Java - takes the whole code at once and translates to other forms \n",
    "# Interpreter - does not need compliation as an explicit step - Python, Javascript, Perl - It translates the code instruction by instruction\n",
    "\n",
    "#Interpreted Language is slower than Compiled Language\n",
    "\n",
    "# The primary difference between a scripting language and a programming language is in their execution\n",
    "# – programming languages use a compiler to convert the high-level programming languages into machine language, \n",
    "# on the other hand, scripting languages use an interpreter.\n",
    "\n",
    "# Python can be treated as both Interpreted and Compiled Language"
   ]
  },
  {
   "cell_type": "code",
   "execution_count": 3,
   "metadata": {},
   "outputs": [
    {
     "name": "stdout",
     "output_type": "stream",
     "text": [
      "60\n"
     ]
    }
   ],
   "source": [
    "#Program to add two nunber\n",
    "#a=10\n",
    "#b=50\n",
    "a,b=10,50\n",
    "print(a+b)"
   ]
  },
  {
   "cell_type": "code",
   "execution_count": 4,
   "metadata": {},
   "outputs": [],
   "source": [
    "# Python Features:-\n",
    "# 1. Python is compiled and interpreted both\n",
    "# 2. Python is dynamically typed PL\n",
    "# 3. Python Extensible and Embedded both\n",
    "# 4. Python is Portable and Platform independent both\n",
    "# How a Python program runs on our system.\n",
    "# Memory management in Python\n",
    "# # Raw memory allocator, PVM, Object specific allocator"
   ]
  },
  {
   "cell_type": "code",
   "execution_count": null,
   "metadata": {},
   "outputs": [],
   "source": [
    "# Source Code is compiled -> Byte Code is generated -> that gets interpreted -> Machine code is generated -> which runs on machine and generates output\n",
    "# This is why Python is both compiled and interpreted"
   ]
  },
  {
   "cell_type": "code",
   "execution_count": 5,
   "metadata": {},
   "outputs": [],
   "source": [
    "#Error Checking\n",
    "# Compile Time Error - Code won't compile and byte code won't be generated\n",
    "# Syntax error, indetantion error\n",
    "\n",
    "# Run Time Error @ Interpretation Stage - Code will compile, byte code will be generated\n",
    "# Will be caught at the interpretation stage\n",
    "# Line by Line or instruction based execution\n",
    "# NameError, ValueError, TypeError\n",
    "# In RunTime error, Python will do partial execution. It executes till the point the error happened"
   ]
  },
  {
   "cell_type": "code",
   "execution_count": null,
   "metadata": {},
   "outputs": [],
   "source": [
    "#Platform Independence\n",
    "# .exe file is platform dependent. Work only on Windows. \n",
    "# Python is platform independent. How is it so?\n",
    "\n",
    "# Any Python code that you write is converted into Python bytecode. \n",
    "# The bytecode is a general computer science language \n",
    "# which is used is some other languages too like Java and refers to a \n",
    "# set of lower-level instructions that are meant to be understood by some “virtual” machine. \n",
    "# The set of instructions are lower-level in the sense that they are not meant to be understood by the user \n",
    "# (in this context, the programmer). The virtual machine is then responsible for converting (“interpreting”)\n",
    "# the bytecode to an even lower-level set of instructions which are meant to be understood by the machine.\n",
    "\n",
    "# The Python bytecode generated for code that you have written is \n",
    "# interpreted by the Python Virtual Machine (PVM). \n",
    "# As long as two platforms have the same version of Python installed on them, \n",
    "# the bytecode generated for a particular program will be the same on those machine. \n",
    "# This bytecode will run on any number of platforms which have the same version of the PVM. \n",
    "# In essence, the Python bytecode and the PVM act as a gateway between the user (the programmer) \n",
    "# and the machine on which the code is written and ran. This makes Python code platform-independent."
   ]
  },
  {
   "cell_type": "code",
   "execution_count": 8,
   "metadata": {},
   "outputs": [
    {
     "name": "stdout",
     "output_type": "stream",
     "text": [
      "60\n",
      "b is greater than c\n"
     ]
    }
   ],
   "source": [
    "#Syntax Error \n",
    "a=10\n",
    "b=50\n",
    "c=a+b\n",
    "print(c)\n",
    "#print c # Syntax error\n",
    "if a>b: \n",
    "    print('a is greater than b') # Indentation is required only if you are executing a block of code\n",
    "else:\n",
    "    print('b is greater than a') #Indentation Error will happen if you don't indent it properly"
   ]
  },
  {
   "cell_type": "code",
   "execution_count": null,
   "metadata": {},
   "outputs": [],
   "source": [
    "# Why does Python require indentation?\n",
    "# Guido van Rossum believes that using indentation for grouping is extremely elegant \n",
    "# and contributes a lot to the clarity of the average Python program. \n",
    "# Most people learn to love this feature after awhile.\n",
    "\n",
    "# Anaconda Notebook stores the file as a .pynb file. \n",
    "# To download as .py file go to File, Download as .py file\n",
    "\n",
    "#Indentation Error "
   ]
  },
  {
   "cell_type": "code",
   "execution_count": null,
   "metadata": {},
   "outputs": [],
   "source": [
    "Python is free and open source"
   ]
  },
  {
   "cell_type": "code",
   "execution_count": null,
   "metadata": {},
   "outputs": [],
   "source": [
    "# Python is portable. If you can move the source code from one platform to another\n",
    "# Low Level Languages are not portable"
   ]
  },
  {
   "cell_type": "code",
   "execution_count": 10,
   "metadata": {},
   "outputs": [
    {
     "data": {
      "text/plain": [
       "2.0"
      ]
     },
     "execution_count": 10,
     "metadata": {},
     "output_type": "execute_result"
    }
   ],
   "source": [
    "# Python is extensible and embedded\n",
    "#      Embedded - If you can embed the code written in python into any other programming language then it is embedded\n",
    "#     Extensible - if you can use the code written in any programming language into python then it is extensible\n",
    "\n",
    "import math #this math moduele is written in C langauge. This is embedded property\n",
    "math.sqrt(4)\n",
    "# when you import math module, you are bringing in the compiled C file and they will be joined at the PVM stage\n",
    "# Math is an implicit module.Gets compiled and ready when you download and install normal python\n",
    "# numby, pandas etc are not installed by default in normal python. But it gets installed in Ananconda version of python"
   ]
  },
  {
   "cell_type": "code",
   "execution_count": null,
   "metadata": {},
   "outputs": [],
   "source": [
    "# Python is a dynamically typed Programming Language\n",
    "\n",
    "# C, C++, Java etc are statically typed PL. In statatically typed language\n",
    "#     Data type needs to be explicity mentioned\n",
    "#     Memory management and data type allocation happens at compile type\n",
    "\n",
    "\n",
    "# In Dynamically typed Language\n",
    "#     Data type needs not be explicity mentioned\n",
    "#     Memory management and data type allocation happens at run type"
   ]
  },
  {
   "cell_type": "code",
   "execution_count": null,
   "metadata": {},
   "outputs": [],
   "source": [
    "# Object specific allocator - int, float, complex, string, None, boolean, list, tuple, set, dictionary\n",
    "\n",
    "# The Python memory manager has object-specific allocators to allocate memory distinctly for specific objects \n",
    "# such as int, string, etc… Below that, the raw memory allocator interacts with the memory manager \n",
    "# of the operating system to ensure that there's space on the private heap."
   ]
  },
  {
   "cell_type": "code",
   "execution_count": 19,
   "metadata": {},
   "outputs": [
    {
     "name": "stdout",
     "output_type": "stream",
     "text": [
      "28\n",
      "32\n",
      "10.24 <class 'float'>\n",
      "3\n",
      "<class 'int'>\n",
      "3.3333333333333335\n",
      "<class 'float'>\n"
     ]
    }
   ],
   "source": [
    "# Memory Management in Python - memory allocation and dellocation happens automatically in python\n",
    "# Garbage collection and Memory allocation is automatically\n",
    "\n",
    "# Python has 3 tools to do this\n",
    "# 1. Raw memory allocation\n",
    "# 2. Object specific allocation\n",
    "# 3. Python Virtual Machine\n",
    "\n",
    "# Raw Memory Allocator - when extra space is required at application level, then PVM sends the request to Raw memory allocator\n",
    "# and then Raw memory allocator requests extra memory allocation from OS. It works as a mediator between PVM and OS\n",
    "\n",
    "import sys # enables program to access system functionalities using python\n",
    "a=10\n",
    "b=5000000000000000000000000000000000000000000000000000000000000000000000000000000000000000000000000000000000000\n",
    "b=50000000000\n",
    "print(sys.getsizeof(a))\n",
    "print(sys.getsizeof(b))\n",
    "type(a)\n",
    "type(b)\n",
    "\n",
    "c=10.24\n",
    "print(c,type(c))\n",
    "\n",
    "print(10//3)\n",
    "print(type(10//3))\n",
    "print(10/3)\n",
    "print(type(10/3))\n",
    "    \n",
    "    \n"
   ]
  },
  {
   "cell_type": "code",
   "execution_count": 20,
   "metadata": {},
   "outputs": [
    {
     "name": "stdout",
     "output_type": "stream",
     "text": [
      "Help on class int in module builtins:\n",
      "\n",
      "class int(object)\n",
      " |  int([x]) -> integer\n",
      " |  int(x, base=10) -> integer\n",
      " |  \n",
      " |  Convert a number or string to an integer, or return 0 if no arguments\n",
      " |  are given.  If x is a number, return x.__int__().  For floating point\n",
      " |  numbers, this truncates towards zero.\n",
      " |  \n",
      " |  If x is not a number or if base is given, then x must be a string,\n",
      " |  bytes, or bytearray instance representing an integer literal in the\n",
      " |  given base.  The literal can be preceded by '+' or '-' and be surrounded\n",
      " |  by whitespace.  The base defaults to 10.  Valid bases are 0 and 2-36.\n",
      " |  Base 0 means to interpret the base from the string as an integer literal.\n",
      " |  >>> int('0b100', base=0)\n",
      " |  4\n",
      " |  \n",
      " |  Methods defined here:\n",
      " |  \n",
      " |  __abs__(self, /)\n",
      " |      abs(self)\n",
      " |  \n",
      " |  __add__(self, value, /)\n",
      " |      Return self+value.\n",
      " |  \n",
      " |  __and__(self, value, /)\n",
      " |      Return self&value.\n",
      " |  \n",
      " |  __bool__(self, /)\n",
      " |      self != 0\n",
      " |  \n",
      " |  __ceil__(...)\n",
      " |      Ceiling of an Integral returns itself.\n",
      " |  \n",
      " |  __divmod__(self, value, /)\n",
      " |      Return divmod(self, value).\n",
      " |  \n",
      " |  __eq__(self, value, /)\n",
      " |      Return self==value.\n",
      " |  \n",
      " |  __float__(self, /)\n",
      " |      float(self)\n",
      " |  \n",
      " |  __floor__(...)\n",
      " |      Flooring an Integral returns itself.\n",
      " |  \n",
      " |  __floordiv__(self, value, /)\n",
      " |      Return self//value.\n",
      " |  \n",
      " |  __format__(self, format_spec, /)\n",
      " |      Default object formatter.\n",
      " |  \n",
      " |  __ge__(self, value, /)\n",
      " |      Return self>=value.\n",
      " |  \n",
      " |  __getattribute__(self, name, /)\n",
      " |      Return getattr(self, name).\n",
      " |  \n",
      " |  __getnewargs__(self, /)\n",
      " |  \n",
      " |  __gt__(self, value, /)\n",
      " |      Return self>value.\n",
      " |  \n",
      " |  __hash__(self, /)\n",
      " |      Return hash(self).\n",
      " |  \n",
      " |  __index__(self, /)\n",
      " |      Return self converted to an integer, if self is suitable for use as an index into a list.\n",
      " |  \n",
      " |  __int__(self, /)\n",
      " |      int(self)\n",
      " |  \n",
      " |  __invert__(self, /)\n",
      " |      ~self\n",
      " |  \n",
      " |  __le__(self, value, /)\n",
      " |      Return self<=value.\n",
      " |  \n",
      " |  __lshift__(self, value, /)\n",
      " |      Return self<<value.\n",
      " |  \n",
      " |  __lt__(self, value, /)\n",
      " |      Return self<value.\n",
      " |  \n",
      " |  __mod__(self, value, /)\n",
      " |      Return self%value.\n",
      " |  \n",
      " |  __mul__(self, value, /)\n",
      " |      Return self*value.\n",
      " |  \n",
      " |  __ne__(self, value, /)\n",
      " |      Return self!=value.\n",
      " |  \n",
      " |  __neg__(self, /)\n",
      " |      -self\n",
      " |  \n",
      " |  __or__(self, value, /)\n",
      " |      Return self|value.\n",
      " |  \n",
      " |  __pos__(self, /)\n",
      " |      +self\n",
      " |  \n",
      " |  __pow__(self, value, mod=None, /)\n",
      " |      Return pow(self, value, mod).\n",
      " |  \n",
      " |  __radd__(self, value, /)\n",
      " |      Return value+self.\n",
      " |  \n",
      " |  __rand__(self, value, /)\n",
      " |      Return value&self.\n",
      " |  \n",
      " |  __rdivmod__(self, value, /)\n",
      " |      Return divmod(value, self).\n",
      " |  \n",
      " |  __repr__(self, /)\n",
      " |      Return repr(self).\n",
      " |  \n",
      " |  __rfloordiv__(self, value, /)\n",
      " |      Return value//self.\n",
      " |  \n",
      " |  __rlshift__(self, value, /)\n",
      " |      Return value<<self.\n",
      " |  \n",
      " |  __rmod__(self, value, /)\n",
      " |      Return value%self.\n",
      " |  \n",
      " |  __rmul__(self, value, /)\n",
      " |      Return value*self.\n",
      " |  \n",
      " |  __ror__(self, value, /)\n",
      " |      Return value|self.\n",
      " |  \n",
      " |  __round__(...)\n",
      " |      Rounding an Integral returns itself.\n",
      " |      Rounding with an ndigits argument also returns an integer.\n",
      " |  \n",
      " |  __rpow__(self, value, mod=None, /)\n",
      " |      Return pow(value, self, mod).\n",
      " |  \n",
      " |  __rrshift__(self, value, /)\n",
      " |      Return value>>self.\n",
      " |  \n",
      " |  __rshift__(self, value, /)\n",
      " |      Return self>>value.\n",
      " |  \n",
      " |  __rsub__(self, value, /)\n",
      " |      Return value-self.\n",
      " |  \n",
      " |  __rtruediv__(self, value, /)\n",
      " |      Return value/self.\n",
      " |  \n",
      " |  __rxor__(self, value, /)\n",
      " |      Return value^self.\n",
      " |  \n",
      " |  __sizeof__(self, /)\n",
      " |      Returns size in memory, in bytes.\n",
      " |  \n",
      " |  __str__(self, /)\n",
      " |      Return str(self).\n",
      " |  \n",
      " |  __sub__(self, value, /)\n",
      " |      Return self-value.\n",
      " |  \n",
      " |  __truediv__(self, value, /)\n",
      " |      Return self/value.\n",
      " |  \n",
      " |  __trunc__(...)\n",
      " |      Truncating an Integral returns itself.\n",
      " |  \n",
      " |  __xor__(self, value, /)\n",
      " |      Return self^value.\n",
      " |  \n",
      " |  bit_length(self, /)\n",
      " |      Number of bits necessary to represent self in binary.\n",
      " |      \n",
      " |      >>> bin(37)\n",
      " |      '0b100101'\n",
      " |      >>> (37).bit_length()\n",
      " |      6\n",
      " |  \n",
      " |  conjugate(...)\n",
      " |      Returns self, the complex conjugate of any int.\n",
      " |  \n",
      " |  to_bytes(self, /, length, byteorder, *, signed=False)\n",
      " |      Return an array of bytes representing an integer.\n",
      " |      \n",
      " |      length\n",
      " |        Length of bytes object to use.  An OverflowError is raised if the\n",
      " |        integer is not representable with the given number of bytes.\n",
      " |      byteorder\n",
      " |        The byte order used to represent the integer.  If byteorder is 'big',\n",
      " |        the most significant byte is at the beginning of the byte array.  If\n",
      " |        byteorder is 'little', the most significant byte is at the end of the\n",
      " |        byte array.  To request the native byte order of the host system, use\n",
      " |        `sys.byteorder' as the byte order value.\n",
      " |      signed\n",
      " |        Determines whether two's complement is used to represent the integer.\n",
      " |        If signed is False and a negative integer is given, an OverflowError\n",
      " |        is raised.\n",
      " |  \n",
      " |  ----------------------------------------------------------------------\n",
      " |  Class methods defined here:\n",
      " |  \n",
      " |  from_bytes(bytes, byteorder, *, signed=False) from builtins.type\n",
      " |      Return the integer represented by the given array of bytes.\n",
      " |      \n",
      " |      bytes\n",
      " |        Holds the array of bytes to convert.  The argument must either\n",
      " |        support the buffer protocol or be an iterable object producing bytes.\n",
      " |        Bytes and bytearray are examples of built-in objects that support the\n",
      " |        buffer protocol.\n",
      " |      byteorder\n",
      " |        The byte order used to represent the integer.  If byteorder is 'big',\n",
      " |        the most significant byte is at the beginning of the byte array.  If\n",
      " |        byteorder is 'little', the most significant byte is at the end of the\n",
      " |        byte array.  To request the native byte order of the host system, use\n",
      " |        `sys.byteorder' as the byte order value.\n",
      " |      signed\n",
      " |        Indicates whether two's complement is used to represent the integer.\n",
      " |  \n",
      " |  ----------------------------------------------------------------------\n",
      " |  Static methods defined here:\n",
      " |  \n",
      " |  __new__(*args, **kwargs) from builtins.type\n",
      " |      Create and return a new object.  See help(type) for accurate signature.\n",
      " |  \n",
      " |  ----------------------------------------------------------------------\n",
      " |  Data descriptors defined here:\n",
      " |  \n",
      " |  denominator\n",
      " |      the denominator of a rational number in lowest terms\n",
      " |  \n",
      " |  imag\n",
      " |      the imaginary part of a complex number\n",
      " |  \n",
      " |  numerator\n",
      " |      the numerator of a rational number in lowest terms\n",
      " |  \n",
      " |  real\n",
      " |      the real part of a complex number\n",
      "\n"
     ]
    }
   ],
   "source": [
    "help(int)"
   ]
  },
  {
   "cell_type": "code",
   "execution_count": null,
   "metadata": {},
   "outputs": [],
   "source": [
    "# PVM has control over the Heap Area\n",
    "# Heap Area is an area in the memory and all objects will be in the heap area\n",
    "# As a use you don't have any control over head area. It is completely managed by PVM"
   ]
  },
  {
   "cell_type": "code",
   "execution_count": null,
   "metadata": {},
   "outputs": [],
   "source": [
    "# Components of a Python Program\n",
    "#     Literals\n",
    "#     Identifiers\n",
    "#     Variables\n",
    "#     Consonants\n",
    "#     Reserved Words\n",
    "#     Expressions\n",
    "#     Statements\n",
    "#     Block/Suite and Indentation\n",
    "#     Comments\n",
    "#     Escape Sequence"
   ]
  },
  {
   "cell_type": "markdown",
   "metadata": {},
   "source": [
    "# Literal"
   ]
  },
  {
   "cell_type": "code",
   "execution_count": 48,
   "metadata": {},
   "outputs": [
    {
     "name": "stdout",
     "output_type": "stream",
     "text": [
      "PYTHON1\n",
      "PYTHON2\n",
      "PYTHON3\n",
      "PYTHON4\n",
      "Medium is not like any other platform on the internet. Our sole purpose is to help you find compelling ideas, knowledge, and perspectives. We don’t serve ads—we serve you, the curious reader who loves to learn new things. Medium is home to thousands of independent voices, and we combine humans and technology to find the best reading for you—and filter out the rest.\n",
      "Medium is not like any other platform on the internet. Our sole purpose is to help you find compelling ideas, knowledge, and perspectives. We don’t serve ads—we serve you, the curious reader who loves to learn new things. Medium is home to thousands of independent voices, and we combine humans and technology to find the best reading for you—and filter out the rest.\n",
      "Medium is not like any other platform on the internet.\n",
      "Our sole purpose is to help you find compelling ideas, knowledge, and perspectives.\n",
      "We don’t serve ads—we serve you, the curious reader who loves to learn new things. \n",
      "Medium is home to thousands of independent voices, and we combine humans and technology to \n",
      "find the best reading for you—and filter out the rest.\n",
      "This is Python class\n",
      "This is Shanthi's Python Class\n",
      "This is \"Python\" Class\n",
      "\n",
      "This is my sample function documentation\n",
      "    \n",
      "['__annotations__', '__call__', '__class__', '__closure__', '__code__', '__defaults__', '__delattr__', '__dict__', '__dir__', '__doc__', '__eq__', '__format__', '__ge__', '__get__', '__getattribute__', '__globals__', '__gt__', '__hash__', '__init__', '__init_subclass__', '__kwdefaults__', '__le__', '__lt__', '__module__', '__name__', '__ne__', '__new__', '__qualname__', '__reduce__', '__reduce_ex__', '__repr__', '__setattr__', '__sizeof__', '__str__', '__subclasshook__']\n"
     ]
    }
   ],
   "source": [
    "# Any variable in Python is a Literal. For example: below 10, 10.2, 10+20j etc are literals\n",
    "a=10 #int literal\n",
    "b=10.2 #float literal\n",
    "c=10+20j #complex literal\n",
    "d= 'Python' # String literal\n",
    "f= 0b10101 #Binary\n",
    "g=True #Boolean\n",
    "h=None #None\n",
    "#i=2AF316 #Hexadecimal\n",
    "j=175 #octal\n",
    "\n",
    "a='PYTHON1'\n",
    "b=\"PYTHON2\"\n",
    "c='''PYTHON3'''\n",
    "d=\"\"\"PYTHON4\"\"\"\n",
    "print(a)\n",
    "print(b)\n",
    "print(c)\n",
    "print(d)\n",
    "\n",
    "# Single and Double quotation are used to represent single line string\n",
    "# Triple line quotation are used to represent multiple line string\n",
    "s1 = \"This is python class\"\n",
    "s2=\"\"\"Medium is not like any other platform on the internet. Our sole purpose is to help you find compelling ideas, knowledge, and perspectives. We don’t serve ads—we serve you, the curious reader who loves to learn new things. Medium is home to thousands of independent voices, and we combine humans and technology to find the best reading for you—and filter out the rest.\"\"\"\n",
    "print(s2)\n",
    "s3 = \"Medium is not like any other platform on the internet. Our sole purpose is to help you find compelling ideas, knowledge, and perspectives. We don’t serve ads—we serve you, the curious reader who loves to learn new things. Medium is home to thousands of independent voices, and we combine humans and technology to find the best reading for you—and filter out the rest.\"\n",
    "print(s3)\n",
    "s4=\"\"\"Medium is not like any other platform on the internet.\n",
    "Our sole purpose is to help you find compelling ideas, knowledge, and perspectives.\n",
    "We don’t serve ads—we serve you, the curious reader who loves to learn new things. \n",
    "Medium is home to thousands of independent voices, and we combine humans and technology to \n",
    "find the best reading for you—and filter out the rest.\"\"\"\n",
    "print(s4)\n",
    "\n",
    "s5='This is Python \\\n",
    "class'\n",
    "print(s5)\n",
    "\n",
    "s6='This is Shanthi\\'s Python Class'\n",
    "print(s6)\n",
    "\n",
    "s7 = \"This is \\\"Python\\\" Class\"\n",
    "print(s7)\n",
    "\n",
    "# Triple quotation \"\"\"...\"\"\" is used to serve as documentation inside a standard function. Example below\n",
    "\n",
    "def my_func():\n",
    "    \"\"\"\n",
    "This is my sample function documentation\n",
    "    \"\"\"\n",
    "    pass\n",
    "print(my_func.__doc__)\n",
    "print(dir(my_func))\n",
    "\n",
    "#Any name starting and end with double underscore, these are special method names used by Python. \n",
    "# As far as one’s concerned, this is just a convention, \n",
    "# a way for the Python system to use names that won’t conflict with user-defined names. \n",
    "# You then typically override these methods and define the desired behaviour for when Python calls them. \n",
    "# For example, you often override the __init__ method when writing a class.\n",
    "\n",
    "\n"
   ]
  },
  {
   "cell_type": "code",
   "execution_count": 47,
   "metadata": {},
   "outputs": [
    {
     "name": "stdout",
     "output_type": "stream",
     "text": [
      "['__abs__', '__add__', '__and__', '__bool__', '__ceil__', '__class__', '__delattr__', '__dir__', '__divmod__', '__doc__', '__eq__', '__float__', '__floor__', '__floordiv__', '__format__', '__ge__', '__getattribute__', '__getnewargs__', '__gt__', '__hash__', '__index__', '__init__', '__init_subclass__', '__int__', '__invert__', '__le__', '__lshift__', '__lt__', '__mod__', '__mul__', '__ne__', '__neg__', '__new__', '__or__', '__pos__', '__pow__', '__radd__', '__rand__', '__rdivmod__', '__reduce__', '__reduce_ex__', '__repr__', '__rfloordiv__', '__rlshift__', '__rmod__', '__rmul__', '__ror__', '__round__', '__rpow__', '__rrshift__', '__rshift__', '__rsub__', '__rtruediv__', '__rxor__', '__setattr__', '__sizeof__', '__str__', '__sub__', '__subclasshook__', '__truediv__', '__trunc__', '__xor__', 'bit_length', 'conjugate', 'denominator', 'from_bytes', 'imag', 'numerator', 'real', 'to_bytes']\n"
     ]
    }
   ],
   "source": [
    "print(dir(int)) \n",
    "# dir() is a powerful inbuilt function in Python3, which returns list of the attributes and methods of any object (say functions , modules, strings, lists, dictionaries etc.)"
   ]
  },
  {
   "cell_type": "code",
   "execution_count": null,
   "metadata": {},
   "outputs": [],
   "source": [
    "a='Python'\n",
    "a.split() #shift+tab gives small documentation. It is an anaconda feature"
   ]
  },
  {
   "cell_type": "markdown",
   "metadata": {},
   "source": [
    "# Identifier"
   ]
  },
  {
   "cell_type": "code",
   "execution_count": 56,
   "metadata": {},
   "outputs": [
    {
     "name": "stdout",
     "output_type": "stream",
     "text": [
      "['False', 'None', 'True', 'and', 'as', 'assert', 'async', 'await', 'break', 'class', 'continue', 'def', 'del', 'elif', 'else', 'except', 'finally', 'for', 'from', 'global', 'if', 'import', 'in', 'is', 'lambda', 'nonlocal', 'not', 'or', 'pass', 'raise', 'return', 'try', 'while', 'with', 'yield']\n"
     ]
    }
   ],
   "source": [
    "#Any name used in a Python program is an identifier. \n",
    "#Name given to variable, constant, function, class, object etc.\n",
    "\n",
    "#Variable\n",
    "m=10 # here 10 is literal, a is a variable which is a name and is an identifier\n",
    "\n",
    "#Constant - MAX_VAL is identifier\n",
    "MAX_VAL = 100\n",
    "\n",
    "#function - add is identifier\n",
    "def add(a,b):\n",
    "    return(a+b)\n",
    "\n",
    "# class - MyClass\n",
    "class MyClass:\n",
    "    def __init__(self, a, b):\n",
    "        self.a = a\n",
    "        self.b = b\n",
    "\n",
    "        \n",
    "#Object - obj\n",
    "obj=MyClass(10,20)\n",
    "    \n",
    "\n",
    "\n",
    "\n",
    "# # Set of rules to define an identifier\n",
    "#     1. Allowed Characters - AtoZ, atoz, 0to9,_\n",
    "#     2. Special characters not allowed. Should not start with number\n",
    "#     3. Do not use reserved words\n",
    "#     4. Do not use too lengthy identifier. No error will be generated. It's just not best practice\n",
    "#     5. _abc - Private - you can't use it outisde the module\n",
    "#        __abc - strongly private - you can't use it outside the class in the same module\n",
    "#        __abc__ - language defined special identifier - They are used for a specific purpose internally\n",
    "#        Eg: __add__, __doc__, __name__\n",
    "\n",
    "#What is a \"Reserved Word\"?\n",
    "import keyword\n",
    "print(keyword.kwlist)"
   ]
  },
  {
   "cell_type": "code",
   "execution_count": 53,
   "metadata": {},
   "outputs": [
    {
     "name": "stdout",
     "output_type": "stream",
     "text": [
      "Help on class int in module builtins:\n",
      "\n",
      "class int(object)\n",
      " |  int([x]) -> integer\n",
      " |  int(x, base=10) -> integer\n",
      " |  \n",
      " |  Convert a number or string to an integer, or return 0 if no arguments\n",
      " |  are given.  If x is a number, return x.__int__().  For floating point\n",
      " |  numbers, this truncates towards zero.\n",
      " |  \n",
      " |  If x is not a number or if base is given, then x must be a string,\n",
      " |  bytes, or bytearray instance representing an integer literal in the\n",
      " |  given base.  The literal can be preceded by '+' or '-' and be surrounded\n",
      " |  by whitespace.  The base defaults to 10.  Valid bases are 0 and 2-36.\n",
      " |  Base 0 means to interpret the base from the string as an integer literal.\n",
      " |  >>> int('0b100', base=0)\n",
      " |  4\n",
      " |  \n",
      " |  Methods defined here:\n",
      " |  \n",
      " |  __abs__(self, /)\n",
      " |      abs(self)\n",
      " |  \n",
      " |  __add__(self, value, /)\n",
      " |      Return self+value.\n",
      " |  \n",
      " |  __and__(self, value, /)\n",
      " |      Return self&value.\n",
      " |  \n",
      " |  __bool__(self, /)\n",
      " |      self != 0\n",
      " |  \n",
      " |  __ceil__(...)\n",
      " |      Ceiling of an Integral returns itself.\n",
      " |  \n",
      " |  __divmod__(self, value, /)\n",
      " |      Return divmod(self, value).\n",
      " |  \n",
      " |  __eq__(self, value, /)\n",
      " |      Return self==value.\n",
      " |  \n",
      " |  __float__(self, /)\n",
      " |      float(self)\n",
      " |  \n",
      " |  __floor__(...)\n",
      " |      Flooring an Integral returns itself.\n",
      " |  \n",
      " |  __floordiv__(self, value, /)\n",
      " |      Return self//value.\n",
      " |  \n",
      " |  __format__(self, format_spec, /)\n",
      " |      Default object formatter.\n",
      " |  \n",
      " |  __ge__(self, value, /)\n",
      " |      Return self>=value.\n",
      " |  \n",
      " |  __getattribute__(self, name, /)\n",
      " |      Return getattr(self, name).\n",
      " |  \n",
      " |  __getnewargs__(self, /)\n",
      " |  \n",
      " |  __gt__(self, value, /)\n",
      " |      Return self>value.\n",
      " |  \n",
      " |  __hash__(self, /)\n",
      " |      Return hash(self).\n",
      " |  \n",
      " |  __index__(self, /)\n",
      " |      Return self converted to an integer, if self is suitable for use as an index into a list.\n",
      " |  \n",
      " |  __int__(self, /)\n",
      " |      int(self)\n",
      " |  \n",
      " |  __invert__(self, /)\n",
      " |      ~self\n",
      " |  \n",
      " |  __le__(self, value, /)\n",
      " |      Return self<=value.\n",
      " |  \n",
      " |  __lshift__(self, value, /)\n",
      " |      Return self<<value.\n",
      " |  \n",
      " |  __lt__(self, value, /)\n",
      " |      Return self<value.\n",
      " |  \n",
      " |  __mod__(self, value, /)\n",
      " |      Return self%value.\n",
      " |  \n",
      " |  __mul__(self, value, /)\n",
      " |      Return self*value.\n",
      " |  \n",
      " |  __ne__(self, value, /)\n",
      " |      Return self!=value.\n",
      " |  \n",
      " |  __neg__(self, /)\n",
      " |      -self\n",
      " |  \n",
      " |  __or__(self, value, /)\n",
      " |      Return self|value.\n",
      " |  \n",
      " |  __pos__(self, /)\n",
      " |      +self\n",
      " |  \n",
      " |  __pow__(self, value, mod=None, /)\n",
      " |      Return pow(self, value, mod).\n",
      " |  \n",
      " |  __radd__(self, value, /)\n",
      " |      Return value+self.\n",
      " |  \n",
      " |  __rand__(self, value, /)\n",
      " |      Return value&self.\n",
      " |  \n",
      " |  __rdivmod__(self, value, /)\n",
      " |      Return divmod(value, self).\n",
      " |  \n",
      " |  __repr__(self, /)\n",
      " |      Return repr(self).\n",
      " |  \n",
      " |  __rfloordiv__(self, value, /)\n",
      " |      Return value//self.\n",
      " |  \n",
      " |  __rlshift__(self, value, /)\n",
      " |      Return value<<self.\n",
      " |  \n",
      " |  __rmod__(self, value, /)\n",
      " |      Return value%self.\n",
      " |  \n",
      " |  __rmul__(self, value, /)\n",
      " |      Return value*self.\n",
      " |  \n",
      " |  __ror__(self, value, /)\n",
      " |      Return value|self.\n",
      " |  \n",
      " |  __round__(...)\n",
      " |      Rounding an Integral returns itself.\n",
      " |      Rounding with an ndigits argument also returns an integer.\n",
      " |  \n",
      " |  __rpow__(self, value, mod=None, /)\n",
      " |      Return pow(value, self, mod).\n",
      " |  \n",
      " |  __rrshift__(self, value, /)\n",
      " |      Return value>>self.\n",
      " |  \n",
      " |  __rshift__(self, value, /)\n",
      " |      Return self>>value.\n",
      " |  \n",
      " |  __rsub__(self, value, /)\n",
      " |      Return value-self.\n",
      " |  \n",
      " |  __rtruediv__(self, value, /)\n",
      " |      Return value/self.\n",
      " |  \n",
      " |  __rxor__(self, value, /)\n",
      " |      Return value^self.\n",
      " |  \n",
      " |  __sizeof__(self, /)\n",
      " |      Returns size in memory, in bytes.\n",
      " |  \n",
      " |  __str__(self, /)\n",
      " |      Return str(self).\n",
      " |  \n",
      " |  __sub__(self, value, /)\n",
      " |      Return self-value.\n",
      " |  \n",
      " |  __truediv__(self, value, /)\n",
      " |      Return self/value.\n",
      " |  \n",
      " |  __trunc__(...)\n",
      " |      Truncating an Integral returns itself.\n",
      " |  \n",
      " |  __xor__(self, value, /)\n",
      " |      Return self^value.\n",
      " |  \n",
      " |  bit_length(self, /)\n",
      " |      Number of bits necessary to represent self in binary.\n",
      " |      \n",
      " |      >>> bin(37)\n",
      " |      '0b100101'\n",
      " |      >>> (37).bit_length()\n",
      " |      6\n",
      " |  \n",
      " |  conjugate(...)\n",
      " |      Returns self, the complex conjugate of any int.\n",
      " |  \n",
      " |  to_bytes(self, /, length, byteorder, *, signed=False)\n",
      " |      Return an array of bytes representing an integer.\n",
      " |      \n",
      " |      length\n",
      " |        Length of bytes object to use.  An OverflowError is raised if the\n",
      " |        integer is not representable with the given number of bytes.\n",
      " |      byteorder\n",
      " |        The byte order used to represent the integer.  If byteorder is 'big',\n",
      " |        the most significant byte is at the beginning of the byte array.  If\n",
      " |        byteorder is 'little', the most significant byte is at the end of the\n",
      " |        byte array.  To request the native byte order of the host system, use\n",
      " |        `sys.byteorder' as the byte order value.\n",
      " |      signed\n",
      " |        Determines whether two's complement is used to represent the integer.\n",
      " |        If signed is False and a negative integer is given, an OverflowError\n",
      " |        is raised.\n",
      " |  \n",
      " |  ----------------------------------------------------------------------\n",
      " |  Class methods defined here:\n",
      " |  \n",
      " |  from_bytes(bytes, byteorder, *, signed=False) from builtins.type\n",
      " |      Return the integer represented by the given array of bytes.\n",
      " |      \n",
      " |      bytes\n",
      " |        Holds the array of bytes to convert.  The argument must either\n",
      " |        support the buffer protocol or be an iterable object producing bytes.\n",
      " |        Bytes and bytearray are examples of built-in objects that support the\n",
      " |        buffer protocol.\n",
      " |      byteorder\n",
      " |        The byte order used to represent the integer.  If byteorder is 'big',\n",
      " |        the most significant byte is at the beginning of the byte array.  If\n",
      " |        byteorder is 'little', the most significant byte is at the end of the\n",
      " |        byte array.  To request the native byte order of the host system, use\n",
      " |        `sys.byteorder' as the byte order value.\n",
      " |      signed\n",
      " |        Indicates whether two's complement is used to represent the integer.\n",
      " |  \n",
      " |  ----------------------------------------------------------------------\n",
      " |  Static methods defined here:\n",
      " |  \n",
      " |  __new__(*args, **kwargs) from builtins.type\n",
      " |      Create and return a new object.  See help(type) for accurate signature.\n",
      " |  \n",
      " |  ----------------------------------------------------------------------\n",
      " |  Data descriptors defined here:\n",
      " |  \n",
      " |  denominator\n",
      " |      the denominator of a rational number in lowest terms\n",
      " |  \n",
      " |  imag\n",
      " |      the imaginary part of a complex number\n",
      " |  \n",
      " |  numerator\n",
      " |      the numerator of a rational number in lowest terms\n",
      " |  \n",
      " |  real\n",
      " |      the real part of a complex number\n",
      "\n",
      "None\n"
     ]
    },
    {
     "ename": "NameError",
     "evalue": "name '__getattribute' is not defined",
     "output_type": "error",
     "traceback": [
      "\u001b[0;31m---------------------------------------------------------------------------\u001b[0m",
      "\u001b[0;31mNameError\u001b[0m                                 Traceback (most recent call last)",
      "\u001b[0;32m<ipython-input-53-830bfbf4116d>\u001b[0m in \u001b[0;36m<module>\u001b[0;34m\u001b[0m\n\u001b[1;32m     10\u001b[0m \u001b[0mprint\u001b[0m\u001b[0;34m(\u001b[0m\u001b[0mhelp\u001b[0m\u001b[0;34m(\u001b[0m\u001b[0mint\u001b[0m\u001b[0;34m)\u001b[0m\u001b[0;34m)\u001b[0m\u001b[0;34m\u001b[0m\u001b[0;34m\u001b[0m\u001b[0m\n\u001b[1;32m     11\u001b[0m \u001b[0;34m\u001b[0m\u001b[0m\n\u001b[0;32m---> 12\u001b[0;31m \u001b[0m__getattribute\u001b[0m\u001b[0;34m(\u001b[0m\u001b[0ma\u001b[0m\u001b[0;34m)\u001b[0m\u001b[0;34m\u001b[0m\u001b[0;34m\u001b[0m\u001b[0m\n\u001b[0m",
      "\u001b[0;31mNameError\u001b[0m: name '__getattribute' is not defined"
     ]
    }
   ],
   "source": [
    "# #Object Oriented Programming Concepts (Basics)\n",
    "# Classes and Object\n",
    "# Class is a blueprint and object is physical existence of the blueprint\n",
    "\n",
    "#In Python everything is an object\n",
    "#If everything is an object. For every object there is a class defined. If you defined a=10, somewhere\n",
    "# an intege class is defined and their methods are designed. If you want to see definition of int class\n",
    "# just type print(help(int))\n",
    "a=10\n",
    "print(help(int))\n",
    "\n"
   ]
  },
  {
   "cell_type": "code",
   "execution_count": 63,
   "metadata": {},
   "outputs": [
    {
     "name": "stdout",
     "output_type": "stream",
     "text": [
      "1\n",
      "20\n"
     ]
    }
   ],
   "source": [
    "# #What is a \"Reserved Word\"?\n",
    "# import keyword\n",
    "# print(keyword.kwlist)\n",
    "\n",
    "# ['False', 'None', 'True', 'and', 'as', 'assert', 'async', 'await', 'break', 'class', 'continue', \n",
    "#  'def', 'del', 'elif', 'else', 'except', 'finally', 'for', 'from', 'global', 'if', 'import', \n",
    "#  'in', 'is', 'lambda', 'nonlocal', 'not', 'or', 'pass', 'raise', 'return', 'try', 'while', 'with', 'yield']\n",
    "\n",
    "# Reserved Words\n",
    "# 1. Reserved Literals - False, None, True (THEY CAN EXIST BY THEMSELVES)\n",
    "# 2. Keywords - and', 'as', 'assert', 'async', 'await', 'break', 'class', 'continue', \n",
    "# #  'def', 'del', 'elif', 'else', 'except', 'finally', 'for', 'from', 'global', 'if', 'import', \n",
    "# #  'in', 'is', 'lambda', 'nonlocal', 'not', 'or', 'pass', 'raise', 'return', 'try', 'while', 'with', 'yield'\n",
    "\n",
    "#Example below\n",
    "\n",
    "print(False+True-False) \n",
    "\n",
    "# print(and) won't work as \"and\" is a keyword that needs to associate with something for it to work\n",
    "\n",
    "print(10 and 20)"
   ]
  },
  {
   "cell_type": "code",
   "execution_count": null,
   "metadata": {},
   "outputs": [],
   "source": [
    "#Variable and Constants are subsets of Identifiers. \n",
    "#They follow same rules are identifiers.\n",
    "# Constants have few exceptions. They need to be in uppercase. That is best coding practice\n",
    "num = 100 # Variable\n",
    "AGE = 50 #Constant\n",
    "\n",
    "#Any datatype can be called a constant num, string, list, dictionary etc."
   ]
  },
  {
   "cell_type": "code",
   "execution_count": null,
   "metadata": {},
   "outputs": [],
   "source": [
    "#Expression - Anything that can be evaluated is an expression. Literal is the simplest form of an expression\n",
    "\n",
    "#Statements - Combination of identifiers, constant, function call, object creation, class definition\n",
    "\n",
    "#Blocks and Indentation"
   ]
  },
  {
   "cell_type": "code",
   "execution_count": 27,
   "metadata": {},
   "outputs": [
    {
     "name": "stdout",
     "output_type": "stream",
     "text": [
      "Enter 1st Value: 8734\n",
      "Enter 2nd Value: 349\n",
      "a is greater than b\n",
      "difference is {8734}\n"
     ]
    }
   ],
   "source": [
    "a=int(input('Enter 1st Value: '))\n",
    "b=int(input('Enter 2nd Value: '))\n",
    "if (a>b):\n",
    "      print(\"a is greater than b\")\n",
    "      print(\"difference is \" + str(a-b))\n",
    "else:\n",
    "      print(\"b is greater than a\")\n",
    "      print(\"difference is \" + str(b-a))\n",
    "    \n",
    "    \n",
    "    #if, elif, else, for, while, with, def, class, try, except, finally, raise\n",
    "    # whenever u use these keywords, it should be followed by expression that should be evaulated as true/false\n",
    "    # and then followed by colon. Then it should have a block of statements"
   ]
  },
  {
   "cell_type": "code",
   "execution_count": 1,
   "metadata": {},
   "outputs": [
    {
     "name": "stdout",
     "output_type": "stream",
     "text": [
      "Enter 1st Value: 232\n",
      "<class 'str'>\n"
     ]
    }
   ],
   "source": [
    "# input function takes value from user and returns it in string format\n",
    "a=input('Enter 1st Value: ')\n",
    "print(type(a))"
   ]
  },
  {
   "cell_type": "code",
   "execution_count": null,
   "metadata": {},
   "outputs": [],
   "source": [
    "a=input('Enter 1st Value: ')\n",
    "print(type(a))\n",
    "b=input('Enter 2nd Value: ')\n",
    "print(type(a))\n",
    "print(a+b) # it concatenates"
   ]
  },
  {
   "cell_type": "code",
   "execution_count": null,
   "metadata": {},
   "outputs": [],
   "source": [
    "#Escape Sequences\n",
    "# \\, \\\\, \\n, \\t, \\v, \\', \\\""
   ]
  },
  {
   "cell_type": "markdown",
   "metadata": {},
   "source": [
    "# Datatypes"
   ]
  },
  {
   "cell_type": "code",
   "execution_count": null,
   "metadata": {},
   "outputs": [],
   "source": [
    "#Total 14 datatypes\n",
    "#Fundamental Datatypes - int, float, complex, str, None, boolean\n",
    "#Derived Datatypes - list, tuple, set, frozenset, dictionary, bytes, bytearray, range"
   ]
  },
  {
   "cell_type": "code",
   "execution_count": null,
   "metadata": {},
   "outputs": [],
   "source": [
    "#Classification of datatypes based on mutability\n",
    "    #Immuatable - All fundamental datatype, Tuple, frozenset, bytes, range\n",
    "    #Mutable - list, set, dictionary, bytearray\n",
    "#Mutable datatype - modifiable. when u modify changes should accept to the same object\n",
    "#More detailed: id before and after change should remain the same"
   ]
  },
  {
   "cell_type": "code",
   "execution_count": 7,
   "metadata": {},
   "outputs": [
    {
     "name": "stdout",
     "output_type": "stream",
     "text": [
      "[10, 10.2, 1020j, 'Python', [10, 20, 30]]\n",
      "4462755144\n",
      "[10, 10.2, 1020j, 'Python', [10, 20, 30], 11111]\n",
      "4462755144\n"
     ]
    }
   ],
   "source": [
    "#List\n",
    "lst=[10, 10.2, 10_20j,'Python', [10,20,30]]\n",
    "print(lst)\n",
    "print(id(lst))\n",
    "#id gives the memory address or memory location of the object\n",
    "lst.append(11111)  #append is a method. only applicable of list. adds an element at the end of the list\n",
    "print(lst)\n",
    "print(id(lst))"
   ]
  },
  {
   "cell_type": "code",
   "execution_count": 9,
   "metadata": {},
   "outputs": [
    {
     "name": "stdout",
     "output_type": "stream",
     "text": [
      "['__add__', '__class__', '__contains__', '__delattr__', '__dir__', '__doc__', '__eq__', '__format__', '__ge__', '__getattribute__', '__getitem__', '__getnewargs__', '__gt__', '__hash__', '__init__', '__init_subclass__', '__iter__', '__le__', '__len__', '__lt__', '__mod__', '__mul__', '__ne__', '__new__', '__reduce__', '__reduce_ex__', '__repr__', '__rmod__', '__rmul__', '__setattr__', '__sizeof__', '__str__', '__subclasshook__', 'capitalize', 'casefold', 'center', 'count', 'encode', 'endswith', 'expandtabs', 'find', 'format', 'format_map', 'index', 'isalnum', 'isalpha', 'isascii', 'isdecimal', 'isdigit', 'isidentifier', 'islower', 'isnumeric', 'isprintable', 'isspace', 'istitle', 'isupper', 'join', 'ljust', 'lower', 'lstrip', 'maketrans', 'partition', 'replace', 'rfind', 'rindex', 'rjust', 'rpartition', 'rsplit', 'rstrip', 'split', 'splitlines', 'startswith', 'strip', 'swapcase', 'title', 'translate', 'upper', 'zfill']\n"
     ]
    }
   ],
   "source": [
    "#String is immutable\n",
    "\n",
    "s1 = 'This is python class'\n",
    "print(dir(str))\n",
    "\n",
    "# str doesn't have append method. But concatenation operator can be used"
   ]
  },
  {
   "cell_type": "code",
   "execution_count": 10,
   "metadata": {},
   "outputs": [
    {
     "name": "stdout",
     "output_type": "stream",
     "text": [
      "This is python classat Learnbay\n"
     ]
    }
   ],
   "source": [
    "s2 = ' at Learnbay'\n",
    "print(s1+s2)"
   ]
  },
  {
   "cell_type": "code",
   "execution_count": 11,
   "metadata": {},
   "outputs": [
    {
     "name": "stdout",
     "output_type": "stream",
     "text": [
      "4462906296\n",
      "4462754928\n"
     ]
    }
   ],
   "source": [
    "print(id(s1))\n",
    "print(id(s2))"
   ]
  },
  {
   "cell_type": "code",
   "execution_count": 14,
   "metadata": {},
   "outputs": [
    {
     "name": "stdout",
     "output_type": "stream",
     "text": [
      "tHIS IS PYTHON CLASS\n"
     ]
    }
   ],
   "source": [
    "s3 = s1.swapcase()\n",
    "print(s3)"
   ]
  },
  {
   "cell_type": "code",
   "execution_count": 16,
   "metadata": {},
   "outputs": [
    {
     "name": "stdout",
     "output_type": "stream",
     "text": [
      "tHIS IS PYTHON CLASS\n",
      "Before modification  tHIS IS PYTHON CLASS 4462944952\n",
      "After modification  This is python class 4462945096\n"
     ]
    }
   ],
   "source": [
    "print(s1)\n",
    "print('Before modification ', s1, id(s1))\n",
    "s1=s1.swapcase() #Since String is immutable object this will create a new object and point the name s1 to this new object\n",
    "#the old object will not be modified and if the reference count is 0 it will be garbade collected\n",
    "print('After modification ', s1, id(s1))"
   ]
  },
  {
   "cell_type": "code",
   "execution_count": 18,
   "metadata": {},
   "outputs": [
    {
     "name": "stdout",
     "output_type": "stream",
     "text": [
      "[10, 10.2, 1020j, 'Python', [10, 20, 30]]\n",
      "4462753800\n",
      "[10, 10.2, 1020j, 'Python', [10, 20, 30], 11111]\n",
      "4462753800\n",
      "None\n"
     ]
    }
   ],
   "source": [
    "#List\n",
    "lst=[10, 10.2, 10_20j,'Python', [10,20,30]]\n",
    "print(lst)\n",
    "print(id(lst))\n",
    "#id gives the memory address or memory location of the object\n",
    "lst.append(11111)  #append is a method. only applicable of list. adds an element at the end of the list\n",
    "print(lst)\n",
    "print(id(lst))\n",
    "lst=lst.append(10) #append method returns None. \n",
    "#So if you assign this expression to a variable and print that variable it will print None\n",
    "print(lst)"
   ]
  },
  {
   "cell_type": "code",
   "execution_count": null,
   "metadata": {},
   "outputs": [],
   "source": [
    "# swapcase(s1) # Function call\n",
    "# s1.swapcase() # Method call"
   ]
  },
  {
   "cell_type": "markdown",
   "metadata": {},
   "source": [
    "# Integer"
   ]
  },
  {
   "cell_type": "code",
   "execution_count": 23,
   "metadata": {},
   "outputs": [
    {
     "name": "stdout",
     "output_type": "stream",
     "text": [
      "To check the datatype of a  <class 'int'>\n"
     ]
    }
   ],
   "source": [
    "#Any real number without a decimal point\n",
    "a=10\n",
    "print('To check the datatype of a ',type(a))\n",
    "\n",
    "#Integer can be represented in multiple formats\n",
    "#Binary - Allowed 0s & 1s. Prefix required is 0b\n",
    "# To convert any value to binary use bin(x). X can be decimal hexadecimal, octal etc\n",
    "#Octal - Allowed 0 to 7. Prefix required is 0o or oO\n",
    "# To convert any value to binary use oct(x). X can be decimal hexadecimal, octal etc\n",
    "#Binary - Allowed 0-9,a-f or A-F. Prefix required ins 0x or oX\n",
    "# To convert any value to binary use hex(x). X can be decimal hexadecimal, octal etc\n",
    "#Decimal - Allowed 0-9. No prefix\n",
    "# To convert any value to decimal we have int(x)"
   ]
  },
  {
   "cell_type": "code",
   "execution_count": 22,
   "metadata": {},
   "outputs": [
    {
     "name": "stdout",
     "output_type": "stream",
     "text": [
      "['__breakpointhook__', '__displayhook__', '__doc__', '__excepthook__', '__interactivehook__', '__loader__', '__name__', '__package__', '__spec__', '__stderr__', '__stdin__', '__stdout__', '_clear_type_cache', '_current_frames', '_debugmallocstats', '_framework', '_getframe', '_git', '_home', '_xoptions', 'abiflags', 'api_version', 'argv', 'base_exec_prefix', 'base_prefix', 'breakpointhook', 'builtin_module_names', 'byteorder', 'call_tracing', 'callstats', 'copyright', 'displayhook', 'dont_write_bytecode', 'exc_info', 'excepthook', 'exec_prefix', 'executable', 'exit', 'flags', 'float_info', 'float_repr_style', 'get_asyncgen_hooks', 'get_coroutine_origin_tracking_depth', 'get_coroutine_wrapper', 'getallocatedblocks', 'getcheckinterval', 'getdefaultencoding', 'getdlopenflags', 'getfilesystemencodeerrors', 'getfilesystemencoding', 'getprofile', 'getrecursionlimit', 'getrefcount', 'getsizeof', 'getswitchinterval', 'gettrace', 'hash_info', 'hexversion', 'implementation', 'int_info', 'intern', 'is_finalizing', 'last_traceback', 'last_type', 'last_value', 'maxsize', 'maxunicode', 'meta_path', 'modules', 'path', 'path_hooks', 'path_importer_cache', 'platform', 'prefix', 'ps1', 'ps2', 'ps3', 'set_asyncgen_hooks', 'set_coroutine_origin_tracking_depth', 'set_coroutine_wrapper', 'setcheckinterval', 'setdlopenflags', 'setprofile', 'setrecursionlimit', 'setswitchinterval', 'settrace', 'stderr', 'stdin', 'stdout', 'thread_info', 'version', 'version_info', 'warnoptions']\n"
     ]
    }
   ],
   "source": [
    "import sys\n",
    "print(dir(sys))"
   ]
  },
  {
   "cell_type": "code",
   "execution_count": 29,
   "metadata": {},
   "outputs": [
    {
     "name": "stdout",
     "output_type": "stream",
     "text": [
      "The binary equivalent of 989743894 is 0b111010111111100100101100010110\n",
      "The octal equivalent of 989743894 is 0o7277445426\n",
      "The hexadecimal equivalent of 989743894 is 0x3afe4b16\n",
      "the decimal equivalent of 0b111010111111100100101100010110 is  989743894\n",
      "the decimal equivalent of 0b111010111111100100101100010110 is  989743894\n"
     ]
    }
   ],
   "source": [
    "num=989743894\n",
    "#to get binary equivalent use bin(x)\n",
    "#print(bin(num))\n",
    "bin_num = bin(num)\n",
    "print(f'The binary equivalent of {num} is {bin_num}')\n",
    "#to get octal equivalent use oct(x)\n",
    "oct_num = oct(num)\n",
    "print(f'The octal equivalent of {num} is {oct_num}')\n",
    "#to get hexadecimal equivalent use oct(x)\n",
    "hex_num = hex(num)\n",
    "print(f'The hexadecimal equivalent of {num} is {hex_num}')\n",
    "\n",
    "\n",
    "my_bin_num = 0b111010111111100100101100010110\n",
    "print('the decimal equivalent of 0b111010111111100100101100010110 is ',my_bin_num)\n",
    "print('the decimal equivalent of 0b111010111111100100101100010110 is ',int(my_bin_num))\n",
    "\n",
    "#only integer values can be represented in binary, octal, hexadecimal\n"
   ]
  },
  {
   "cell_type": "markdown",
   "metadata": {},
   "source": [
    "# FLOAT"
   ]
  },
  {
   "cell_type": "code",
   "execution_count": null,
   "metadata": {},
   "outputs": [],
   "source": [
    "#Any number with a decimal point is float\n",
    "# cannot be represented in binary, octal, hexadecimal\n",
    "# In python, there is no concept of double"
   ]
  },
  {
   "cell_type": "markdown",
   "metadata": {},
   "source": [
    "# Complex"
   ]
  },
  {
   "cell_type": "code",
   "execution_count": 31,
   "metadata": {},
   "outputs": [
    {
     "name": "stdout",
     "output_type": "stream",
     "text": [
      "Real part is  10.0\n",
      "Imaginary part is  20.0\n",
      "Help on complex object:\n",
      "\n",
      "class complex(object)\n",
      " |  complex(real=0, imag=0)\n",
      " |  \n",
      " |  Create a complex number from a real part and an optional imaginary part.\n",
      " |  \n",
      " |  This is equivalent to (real + imag*1j) where imag defaults to 0.\n",
      " |  \n",
      " |  Methods defined here:\n",
      " |  \n",
      " |  __abs__(self, /)\n",
      " |      abs(self)\n",
      " |  \n",
      " |  __add__(self, value, /)\n",
      " |      Return self+value.\n",
      " |  \n",
      " |  __bool__(self, /)\n",
      " |      self != 0\n",
      " |  \n",
      " |  __divmod__(self, value, /)\n",
      " |      Return divmod(self, value).\n",
      " |  \n",
      " |  __eq__(self, value, /)\n",
      " |      Return self==value.\n",
      " |  \n",
      " |  __float__(self, /)\n",
      " |      float(self)\n",
      " |  \n",
      " |  __floordiv__(self, value, /)\n",
      " |      Return self//value.\n",
      " |  \n",
      " |  __format__(...)\n",
      " |      complex.__format__() -> str\n",
      " |      \n",
      " |      Convert to a string according to format_spec.\n",
      " |  \n",
      " |  __ge__(self, value, /)\n",
      " |      Return self>=value.\n",
      " |  \n",
      " |  __getattribute__(self, name, /)\n",
      " |      Return getattr(self, name).\n",
      " |  \n",
      " |  __getnewargs__(...)\n",
      " |  \n",
      " |  __gt__(self, value, /)\n",
      " |      Return self>value.\n",
      " |  \n",
      " |  __hash__(self, /)\n",
      " |      Return hash(self).\n",
      " |  \n",
      " |  __int__(self, /)\n",
      " |      int(self)\n",
      " |  \n",
      " |  __le__(self, value, /)\n",
      " |      Return self<=value.\n",
      " |  \n",
      " |  __lt__(self, value, /)\n",
      " |      Return self<value.\n",
      " |  \n",
      " |  __mod__(self, value, /)\n",
      " |      Return self%value.\n",
      " |  \n",
      " |  __mul__(self, value, /)\n",
      " |      Return self*value.\n",
      " |  \n",
      " |  __ne__(self, value, /)\n",
      " |      Return self!=value.\n",
      " |  \n",
      " |  __neg__(self, /)\n",
      " |      -self\n",
      " |  \n",
      " |  __pos__(self, /)\n",
      " |      +self\n",
      " |  \n",
      " |  __pow__(self, value, mod=None, /)\n",
      " |      Return pow(self, value, mod).\n",
      " |  \n",
      " |  __radd__(self, value, /)\n",
      " |      Return value+self.\n",
      " |  \n",
      " |  __rdivmod__(self, value, /)\n",
      " |      Return divmod(value, self).\n",
      " |  \n",
      " |  __repr__(self, /)\n",
      " |      Return repr(self).\n",
      " |  \n",
      " |  __rfloordiv__(self, value, /)\n",
      " |      Return value//self.\n",
      " |  \n",
      " |  __rmod__(self, value, /)\n",
      " |      Return value%self.\n",
      " |  \n",
      " |  __rmul__(self, value, /)\n",
      " |      Return value*self.\n",
      " |  \n",
      " |  __rpow__(self, value, mod=None, /)\n",
      " |      Return pow(value, self, mod).\n",
      " |  \n",
      " |  __rsub__(self, value, /)\n",
      " |      Return value-self.\n",
      " |  \n",
      " |  __rtruediv__(self, value, /)\n",
      " |      Return value/self.\n",
      " |  \n",
      " |  __str__(self, /)\n",
      " |      Return str(self).\n",
      " |  \n",
      " |  __sub__(self, value, /)\n",
      " |      Return self-value.\n",
      " |  \n",
      " |  __truediv__(self, value, /)\n",
      " |      Return self/value.\n",
      " |  \n",
      " |  conjugate(...)\n",
      " |      complex.conjugate() -> complex\n",
      " |      \n",
      " |      Return the complex conjugate of its argument. (3-4j).conjugate() == 3+4j.\n",
      " |  \n",
      " |  ----------------------------------------------------------------------\n",
      " |  Static methods defined here:\n",
      " |  \n",
      " |  __new__(*args, **kwargs) from builtins.type\n",
      " |      Create and return a new object.  See help(type) for accurate signature.\n",
      " |  \n",
      " |  ----------------------------------------------------------------------\n",
      " |  Data descriptors defined here:\n",
      " |  \n",
      " |  imag\n",
      " |      the imaginary part of a complex number\n",
      " |  \n",
      " |  real\n",
      " |      the real part of a complex number\n",
      "\n"
     ]
    }
   ],
   "source": [
    "#Any number written in a+bj format. j is an imaginary number. j is square root of -1\n",
    "# a is the real part and b is the imaginary part\n",
    "com_num = 10+20j\n",
    "print('Real part is ', com_num.real)\n",
    "print('Imaginary part is ', com_num.imag)\n",
    "#if you return .real and .imag returns float value. real and imag can be seen as attributes of the object class complex\n",
    "\n",
    "help(com_num)"
   ]
  },
  {
   "cell_type": "code",
   "execution_count": null,
   "metadata": {},
   "outputs": [],
   "source": [
    "#To typecast any number to integer we have int() function\n",
    "#To typecast any number to float we have float() function\n",
    "#To typecast any number to complex we have complex() function"
   ]
  },
  {
   "cell_type": "markdown",
   "metadata": {},
   "source": [
    "# Boolean"
   ]
  },
  {
   "cell_type": "code",
   "execution_count": 37,
   "metadata": {},
   "outputs": [
    {
     "name": "stdout",
     "output_type": "stream",
     "text": [
      "False\n",
      "True\n",
      "False\n",
      "True\n",
      "True\n",
      "False\n"
     ]
    }
   ],
   "source": [
    "#Boolean datatype - True,False\n",
    "#bool function - checks if a vluae is true or false\n",
    "print(bool(0))\n",
    "print(bool(0.1))\n",
    "print(bool(\"\"))\n",
    "print(bool(\" \"))\n",
    "print(bool(-10))\n",
    "print(bool([]))"
   ]
  },
  {
   "cell_type": "code",
   "execution_count": 39,
   "metadata": {},
   "outputs": [
    {
     "name": "stdout",
     "output_type": "stream",
     "text": [
      "The \"if\" statement\n",
      "******************\n",
      "\n",
      "The \"if\" statement is used for conditional execution:\n",
      "\n",
      "   if_stmt ::= \"if\" expression \":\" suite\n",
      "               (\"elif\" expression \":\" suite)*\n",
      "               [\"else\" \":\" suite]\n",
      "\n",
      "It selects exactly one of the suites by evaluating the expressions one\n",
      "by one until one is found to be true (see section Boolean operations\n",
      "for the definition of true and false); then that suite is executed\n",
      "(and no other part of the \"if\" statement is executed or evaluated).\n",
      "If all expressions are false, the suite of the \"else\" clause, if\n",
      "present, is executed.\n",
      "\n",
      "Related help topics: TRUTHVALUE\n",
      "\n",
      "None\n"
     ]
    }
   ],
   "source": [
    "print(help('if'))"
   ]
  },
  {
   "cell_type": "code",
   "execution_count": 40,
   "metadata": {},
   "outputs": [
    {
     "name": "stdout",
     "output_type": "stream",
     "text": [
      "Enter number a: 3874\n",
      "Enter number b: 9834\n",
      "-5960\n"
     ]
    }
   ],
   "source": [
    "a = int(input('Enter number a: '))\n",
    "b = int(input('Enter number b: '))\n",
    "if True: #Executes always as True always evaluates to True\n",
    "    print(a-b)"
   ]
  },
  {
   "cell_type": "code",
   "execution_count": 42,
   "metadata": {},
   "outputs": [
    {
     "name": "stdout",
     "output_type": "stream",
     "text": [
      "[False False False False False False  True]\n"
     ]
    }
   ],
   "source": [
    "import numpy as np\n",
    "arr1 = np.array([2, 3, 5, 5.5, 0, -10, 238])\n",
    "print(arr1>10)"
   ]
  },
  {
   "cell_type": "code",
   "execution_count": 45,
   "metadata": {},
   "outputs": [
    {
     "name": "stdout",
     "output_type": "stream",
     "text": [
      "None\n",
      "[None, None, None, None, None, None, None, None, None, None]\n",
      "[None, None, 10, None, 11, None, 100, None, None, None]\n"
     ]
    }
   ],
   "source": [
    "t=None\n",
    "print(t)\n",
    "lstt = [None]*10\n",
    "print(lstt)\n",
    "lstt[2],lstt[4],lstt[6]=10,11,100\n",
    "print(lstt)"
   ]
  },
  {
   "cell_type": "code",
   "execution_count": 48,
   "metadata": {},
   "outputs": [
    {
     "name": "stdout",
     "output_type": "stream",
     "text": [
      "121\n"
     ]
    }
   ],
   "source": [
    "total = 0\n",
    "for i in lstt:\n",
    "    if i==None:\n",
    "        continue\n",
    "    else:\n",
    "        total = total+i\n",
    "print(total)"
   ]
  },
  {
   "cell_type": "markdown",
   "metadata": {},
   "source": [
    "# Slicing"
   ]
  },
  {
   "cell_type": "code",
   "execution_count": 53,
   "metadata": {},
   "outputs": [
    {
     "name": "stdout",
     "output_type": "stream",
     "text": [
      "Slicing the whole string:  This is Python class\n",
      "Slicing the whole string:  This is Python class\n",
      "Slicing the whole string:  This is Python clas\n",
      "Slicing the whole string:  Python\n"
     ]
    }
   ],
   "source": [
    "# Python slicing is about obtaining a sub-string from the given string by slicing it respectively from start to end.\n",
    "\n",
    "# Syntax:\n",
    "# slice(stop)\n",
    "# slice(start, stop, step)\n",
    "# Parameters:\n",
    "# start: Starting index where the slicing of object starts.\n",
    "# stop: Ending index where the slicing of object stops. (Default value len(s))\n",
    "# step: It is an optional argument that determines the increment between each index for slicing.\n",
    "# All 3 arguments are optional\n",
    "\n",
    "# Return Type: Returns a sliced object containing elements in the given range only\n",
    "\n",
    "# Step value can be any whole number\n",
    "# (+1,-1) Every characater\n",
    "# (+2,-2) Every 2nd character\n",
    "# (+3,-3) Every 3rd character\n",
    "\n",
    "s = 'This is Python class'\n",
    "print('Slicing the whole string: ',s[::])\n",
    "print('Slicing the whole string: ',s[0:len(s):1])\n",
    "print('Slicing the whole string: ',s[0:len(s)-1:1])\n",
    "\n",
    "# Slicing Python word from S\n",
    "print('Slicing the whole string: ',s[8:14:1]) #stop - index of where u want to stop + 1\n",
    "\n",
    "#Slicing can be used on arrays as well\n",
    "#Slicing can be done on sequences (ordered collection of objects) only\n",
    "\n",
    "#Slicing can be done in reverse mode as well\n"
   ]
  },
  {
   "cell_type": "code",
   "execution_count": 73,
   "metadata": {},
   "outputs": [
    {
     "name": "stdout",
     "output_type": "stream",
     "text": [
      "This is Python class\n",
      "Slicing string in reverse order1:  ssalc nohtyP si sihT\n",
      "Slicing string in reverse order2:  ssalc nohtyP si sih\n",
      "Slicing string in reverse order3:  ssalc nohtyP si sih\n",
      "Slicing string in reverse order4:  ssalc nohtyP si sihT\n",
      "Slicing string in reverse order5:  ssalc nohtyP si sihT\n",
      "Slicing every 2nd character:  Ti sPto ls\n",
      "Slicing every 2nd character reverse:  sacnhy ish\n",
      "Slicing string Double Reverse:  class\n",
      "Slicing string Double Reverse:  class\n"
     ]
    }
   ],
   "source": [
    "# To get whole string in reverse order\n",
    "# Len function works on string and mapping to give the number of elements in the string\n",
    "\n",
    "print(s)\n",
    "print('Slicing string in reverse order1: ', s[::-1])\n",
    "print('Slicing string in reverse order2: ', s[-1:0:-1])\n",
    "print('Slicing string in reverse order3: ', s[len(s):0:-1])\n",
    "print('Slicing string in reverse order4: ', s[len(s)::-1])\n",
    "print('Slicing string in reverse order5: ', s[-1:-len(s)-1:-1])\n",
    "\n",
    "\n",
    "print('Slicing every 2nd character: ', s[::2])\n",
    "print('Slicing every 2nd character reverse: ', s[::-2])\n",
    "\n",
    "#Double Reverse\n",
    "print('Slicing string Double Reverse: ', s[-1:-6:-1][::-1])\n",
    "\n",
    "print('Slicing string Double Reverse: ', s[-5::1])"
   ]
  },
  {
   "cell_type": "code",
   "execution_count": 77,
   "metadata": {},
   "outputs": [
    {
     "name": "stdout",
     "output_type": "stream",
     "text": [
      "class\n"
     ]
    }
   ],
   "source": [
    "# Other string manipulation methods\n",
    "# Index and Find\n",
    "#Index example below\n",
    "print(s[s.index('class')::])"
   ]
  },
  {
   "cell_type": "code",
   "execution_count": 80,
   "metadata": {},
   "outputs": [
    {
     "name": "stdout",
     "output_type": "stream",
     "text": [
      "is is Python class\n",
      "is Python class\n"
     ]
    }
   ],
   "source": [
    "print(s[s.index('is')::])\n",
    "print(s[s.index('is',5)::])"
   ]
  },
  {
   "cell_type": "code",
   "execution_count": null,
   "metadata": {},
   "outputs": [],
   "source": [
    "# #Basic operation on string\n",
    "# # Concatenation, Repetition, Membership operation, Identity operation\n",
    "# Concatentation - Combining two strings\n",
    "# Repition - Repeating 1 string multiple times\n",
    "# Membership - to check if a character or group of characters are available in the sequence (two operators - IN and NOT IN)\n",
    "# Identity - checks the objects are sharing the same ID or not (two operators - IS and NOT IS)"
   ]
  },
  {
   "cell_type": "code",
   "execution_count": 86,
   "metadata": {},
   "outputs": [
    {
     "name": "stdout",
     "output_type": "stream",
     "text": [
      "This is Python class\n",
      "This is Python class at Learnbay\n",
      "This is Python class at Learnbay for Shanthi \n",
      "This is Python class at Learnbay for Shanthi 2020\n"
     ]
    }
   ],
   "source": [
    "print(s)\n",
    "s1 = ' at Learnbay'\n",
    "print(s+s1)\n",
    "s2 = ' for Shanthi '\n",
    "print(s+s1+s2) # For Concatenation all operands should be of string datatype\n",
    "#Concatenation return a modified string stored in a new location and does not modify original string\n",
    "s3 = 2020\n",
    "print(s+s1+s2+str(s3))"
   ]
  },
  {
   "cell_type": "code",
   "execution_count": 87,
   "metadata": {},
   "outputs": [
    {
     "name": "stdout",
     "output_type": "stream",
     "text": [
      " for Shanthi  for Shanthi  for Shanthi \n"
     ]
    }
   ],
   "source": [
    "#Repetition - \n",
    "print(s2*3) # one operand is string and other operand must be integrer\n",
    "#Repition returns a modified string stored in a new location and does not modify original string"
   ]
  },
  {
   "cell_type": "code",
   "execution_count": 92,
   "metadata": {},
   "outputs": [
    {
     "name": "stdout",
     "output_type": "stream",
     "text": [
      "True\n",
      "True\n",
      "False\n",
      "True\n",
      "True True\n",
      "False\n",
      "4\n"
     ]
    }
   ],
   "source": [
    "#Membership - always return boolean value\n",
    "print(\"T\" in s)\n",
    "print(\"This\" in s)\n",
    "print(\"this\" in s)\n",
    "print(\"P\" in s)\n",
    "print(\"P\" in s, \"Python\" in s)\n",
    "print(\"s\" in s[8:14]) # check if character s is in word Python\n",
    "print(s.count(\"s\"))"
   ]
  },
  {
   "cell_type": "markdown",
   "metadata": {},
   "source": [
    "# Derived Datatype"
   ]
  },
  {
   "cell_type": "code",
   "execution_count": 93,
   "metadata": {},
   "outputs": [],
   "source": [
    "# Derived Datatypes - List, Tuple, Set, Frozenset, bytes, Bytearray, range"
   ]
  },
  {
   "cell_type": "code",
   "execution_count": 94,
   "metadata": {},
   "outputs": [],
   "source": [
    "# Derived Datatypes - List, Tuple, Set, Frozenset, bytes, Bytearray, range"
   ]
  },
  {
   "cell_type": "code",
   "execution_count": 102,
   "metadata": {},
   "outputs": [
    {
     "name": "stdout",
     "output_type": "stream",
     "text": [
      "[10, 10.2, (10+20j), 'Python', None, True, [1, 2, 3], (10, 20, 30), {200, 100, 300}, {1: 100, 2: 200, 3: 300}]\n",
      "<class 'list'>\n"
     ]
    }
   ],
   "source": [
    "##LIST##\n",
    "\n",
    "#List is a seq. Properties of a List\n",
    "    #List is an ordered collection of elements\n",
    "    #It supports +ve and -ve indexing\n",
    "    #It supports slicing\n",
    "    #Can have duplicate elements\n",
    "    #collection of heterogeneous elements\n",
    "    #Is mutable\n",
    "    #If a tuple is in the list, it can't be modified although the list can be modified\n",
    "    #elements should be kept inside square brackets separated by commas\n",
    "    \n",
    "lst = [10, 10.2, 10+20j, 'Python', None, True, [1,2,3], (10,20,30), {100,200,300}, {1:100,2:200,3:300}]\n",
    "# for list, square bracket is mandatory\n",
    "print(lst)\n",
    "print(type(lst))"
   ]
  },
  {
   "cell_type": "code",
   "execution_count": 104,
   "metadata": {},
   "outputs": [
    {
     "name": "stdout",
     "output_type": "stream",
     "text": [
      "[10 10.2 (10+20j) 'Python' None True list([1, 2, 3]) (10, 20, 30)\n",
      " {200, 100, 300} {1: 100, 2: 200, 3: 300}]\n",
      "<class 'numpy.ndarray'>\n",
      "[10 10.2 (10+20j) 'Python' None True list([1, 2, 3]) (10, 20, 30)\n",
      " {200, 100, 300} {1: 100, 2: 200, 3: 300}] object\n",
      "[10 20 30] int64\n",
      "[10. 20. 30. 40.] float64\n"
     ]
    }
   ],
   "source": [
    "#Comparing to array. Array is a homogeneous collection of data. List is hetergenenous - supports int, float, complex, object\n",
    "import numpy as np\n",
    "arr1 = np.array(lst)\n",
    "print(arr1)\n",
    "print(type(arr1))\n",
    "print(arr1,arr1.dtype)\n",
    "#converts everything in list to object datatype\n",
    "\n",
    "arr2 = np.array([10,20,30])\n",
    "print(arr2, arr2.dtype)\n",
    "\n",
    "arr3 = np.array([10,20,30,40.0])\n",
    "print(arr3, arr3.dtype)"
   ]
  },
  {
   "cell_type": "code",
   "execution_count": null,
   "metadata": {},
   "outputs": [],
   "source": [
    "#When is Array used versus list?\n",
    "#Arrays can store data very compactly and are more efficient for storing large amounts of data. \n",
    "# Arrays are great for numerical operations; lists cannot directly handle math operations. \n",
    "# For example, you can divide each element of an array by the same number with just one line of code."
   ]
  },
  {
   "cell_type": "code",
   "execution_count": 106,
   "metadata": {
    "scrolled": true
   },
   "outputs": [
    {
     "name": "stdout",
     "output_type": "stream",
     "text": [
      "4424881552\n",
      "4424881552\n",
      "4424881552\n",
      "4424881552\n",
      "4424881392\n",
      "4424881552\n"
     ]
    }
   ],
   "source": [
    "#Object Reusability - you can reuse the objects in python and python supports interning\n",
    "#Interning is caching values or data.\n",
    "#if an object is already existing in memory, reuse that object instead of recreating it\n",
    "#Object reusability is followed by Int (-5 to 256), string (A-Z and a-z and 0-9), None, Boolean (True and False)\n",
    "#Object Reusability not followed by Float, Complex and by Derived Datatypes\n",
    "\n",
    "a=10\n",
    "b=10\n",
    "c=10\n",
    "print(id(a))\n",
    "print(id(b))\n",
    "print(id(c))\n",
    "\n",
    "#The object is getting reused\n",
    "\n",
    "b=5\n",
    "print(id(a))\n",
    "print(id(b))\n",
    "print(id(c))"
   ]
  },
  {
   "cell_type": "code",
   "execution_count": 107,
   "metadata": {},
   "outputs": [
    {
     "name": "stdout",
     "output_type": "stream",
     "text": [
      "4482195856\n",
      "4482195824\n"
     ]
    }
   ],
   "source": [
    "a=260\n",
    "b=260\n",
    "print(id(a))\n",
    "print(id(b))\n",
    "#since a and b is greater than 256 object reusability concept"
   ]
  },
  {
   "cell_type": "code",
   "execution_count": 108,
   "metadata": {},
   "outputs": [
    {
     "name": "stdout",
     "output_type": "stream",
     "text": [
      "4480571672\n",
      "4480571696\n"
     ]
    }
   ],
   "source": [
    "a=10.2\n",
    "b=10.2\n",
    "print(id(a))\n",
    "print(id(b))"
   ]
  },
  {
   "cell_type": "code",
   "execution_count": 109,
   "metadata": {},
   "outputs": [
    {
     "name": "stdout",
     "output_type": "stream",
     "text": [
      "4427360944\n",
      "4427360944\n"
     ]
    }
   ],
   "source": [
    "a='Python'\n",
    "b='Python'\n",
    "print(id(a))\n",
    "print(id(b))\n",
    "#id is same"
   ]
  },
  {
   "cell_type": "code",
   "execution_count": null,
   "metadata": {},
   "outputs": [],
   "source": [
    "a='Python#'\n",
    "b='Python#'\n",
    "print(id(a))\n",
    "print(id(b))\n",
    "#id different due to special characters"
   ]
  },
  {
   "cell_type": "code",
   "execution_count": 112,
   "metadata": {},
   "outputs": [
    {
     "name": "stdout",
     "output_type": "stream",
     "text": [
      "4482122112\n",
      "4482122280\n",
      "False\n",
      "4482123512\n",
      "4482122448\n",
      "True\n",
      "True\n"
     ]
    }
   ],
   "source": [
    "# # Why does python treat only some range of values for object resusability?\n",
    "# # It is because of \"interning\"\n",
    "# Because Python uses this range of values for it own use extensively. \n",
    "# So rather than creating new objects it will reuse the existing objects\n",
    "\n",
    "# \"is\" operator = checks if the id of operands are same , == (double equal to) checks if the content of the operands are the same\n",
    "\n",
    "a='Python#'\n",
    "b='Python#'\n",
    "print(id(a))\n",
    "print(id(b))\n",
    "print(a is b)\n",
    "\n",
    "\n",
    "a='Python#'\n",
    "b='Python#'\n",
    "print(id(a))\n",
    "print(id(b))\n",
    "print(a[0] is b[0]) # element level it will use object reusability\n",
    "print(a[-1] is b[-1]) # element level it will use object reusability"
   ]
  },
  {
   "cell_type": "code",
   "execution_count": 115,
   "metadata": {},
   "outputs": [
    {
     "name": "stdout",
     "output_type": "stream",
     "text": [
      "True\n"
     ]
    }
   ],
   "source": [
    "a=\"Python13\"\n",
    "b='Python16'\n",
    "print(a[-2] is b[-2]) #True coz 1 and 1 are same"
   ]
  },
  {
   "cell_type": "markdown",
   "metadata": {},
   "source": [
    "# Shallow Copy and Deep Copy"
   ]
  },
  {
   "cell_type": "code",
   "execution_count": 116,
   "metadata": {},
   "outputs": [
    {
     "name": "stdout",
     "output_type": "stream",
     "text": [
      "{1: 100, 2: 200, 3: 300}\n"
     ]
    }
   ],
   "source": [
    "####SETTING STAGE FOR SHALLOW COPY AND DEEP COPY###\n",
    "\n",
    "lst = [10, 10.2, 10+20j, 'Python', None, True, [1,2,3], (10,20,30), {100,200,300}, {1:100,2:200,3:300}]\n",
    "\n",
    "print(lst[-1])"
   ]
  },
  {
   "cell_type": "code",
   "execution_count": 128,
   "metadata": {},
   "outputs": [
    {
     "name": "stdout",
     "output_type": "stream",
     "text": [
      "10\n",
      "10\n",
      "{1: 100, 2: 200, 3: 300}\n",
      "{1: 100, 2: 200, 3: 300}\n",
      "['Python', None, True]\n",
      "['Python', None, True]\n",
      "False\n"
     ]
    }
   ],
   "source": [
    "#Accessing 1st element\n",
    "print(lst[0])\n",
    "print(lst[-len(lst)])\n",
    "\n",
    "#Accessing Last element\n",
    "print(lst[-1])\n",
    "print(lst[len(lst)-1])\n",
    "\n",
    "#Accessing multiple elements in list\n",
    "print(lst[3:6:1])\n",
    "print(lst[3:6])\n",
    "#Slicing creates a new object and the list does not change\n",
    "\n",
    "print(id(lst) is id(lst[::])) #slicing creates a new object. \n",
    "#even though you don't do any slicing but use the slicing concept, it will still create new ID"
   ]
  },
  {
   "cell_type": "code",
   "execution_count": 130,
   "metadata": {},
   "outputs": [
    {
     "name": "stdout",
     "output_type": "stream",
     "text": [
      "6\n",
      "2\n"
     ]
    }
   ],
   "source": [
    "Gender = [1,0,1,1,1,0,1,1]\n",
    "print(sum(Gender)) # of females\n",
    "print(len(Gender)-sum(Gender)) # of males"
   ]
  },
  {
   "cell_type": "code",
   "execution_count": 131,
   "metadata": {},
   "outputs": [
    {
     "name": "stdout",
     "output_type": "stream",
     "text": [
      "['__add__', '__class__', '__contains__', '__delattr__', '__dir__', '__doc__', '__eq__', '__format__', '__ge__', '__getattribute__', '__getitem__', '__getnewargs__', '__gt__', '__hash__', '__init__', '__init_subclass__', '__iter__', '__le__', '__len__', '__lt__', '__mod__', '__mul__', '__ne__', '__new__', '__reduce__', '__reduce_ex__', '__repr__', '__rmod__', '__rmul__', '__setattr__', '__sizeof__', '__str__', '__subclasshook__', 'capitalize', 'casefold', 'center', 'count', 'encode', 'endswith', 'expandtabs', 'find', 'format', 'format_map', 'index', 'isalnum', 'isalpha', 'isascii', 'isdecimal', 'isdigit', 'isidentifier', 'islower', 'isnumeric', 'isprintable', 'isspace', 'istitle', 'isupper', 'join', 'ljust', 'lower', 'lstrip', 'maketrans', 'partition', 'replace', 'rfind', 'rindex', 'rjust', 'rpartition', 'rsplit', 'rstrip', 'split', 'splitlines', 'startswith', 'strip', 'swapcase', 'title', 'translate', 'upper', 'zfill']\n",
      "['__add__', '__class__', '__contains__', '__delattr__', '__delitem__', '__dir__', '__doc__', '__eq__', '__format__', '__ge__', '__getattribute__', '__getitem__', '__gt__', '__hash__', '__iadd__', '__imul__', '__init__', '__init_subclass__', '__iter__', '__le__', '__len__', '__lt__', '__mul__', '__ne__', '__new__', '__reduce__', '__reduce_ex__', '__repr__', '__reversed__', '__rmul__', '__setattr__', '__setitem__', '__sizeof__', '__str__', '__subclasshook__', 'append', 'clear', 'copy', 'count', 'extend', 'index', 'insert', 'pop', 'remove', 'reverse', 'sort']\n"
     ]
    }
   ],
   "source": [
    "#Slicing concepts for strin works with list as well\n",
    "#List is Mutable object\n",
    "#String is immutable\n",
    "\n",
    "print(dir(str)) #swapcase method\n",
    "print(dir(list)) #append method\n"
   ]
  },
  {
   "cell_type": "code",
   "execution_count": 132,
   "metadata": {},
   "outputs": [
    {
     "name": "stdout",
     "output_type": "stream",
     "text": [
      "[10, 10.2, (10+20j), 'Python', None, True, [1, 2, 3], (10, 20, 30), {200, 100, 300}, {1: 100, 2: 200, 3: 300}]\n"
     ]
    }
   ],
   "source": [
    "s='This is Python'\n",
    "print(lst)"
   ]
  },
  {
   "cell_type": "code",
   "execution_count": 136,
   "metadata": {},
   "outputs": [
    {
     "name": "stdout",
     "output_type": "stream",
     "text": [
      "This is Python\n",
      "tHIS IS pYTHON\n",
      "False\n",
      "4482193968\n",
      "4495359408\n"
     ]
    }
   ],
   "source": [
    "print(s)\n",
    "print(s.swapcase())\n",
    "print(s is s.swapcase())\n",
    "\n",
    "print(id(s))\n",
    "s=s.swapcase()\n",
    "print(id(s))"
   ]
  },
  {
   "cell_type": "code",
   "execution_count": 137,
   "metadata": {},
   "outputs": [
    {
     "name": "stdout",
     "output_type": "stream",
     "text": [
      "tHIS IS pYTHON\n"
     ]
    },
    {
     "ename": "TypeError",
     "evalue": "'str' object does not support item assignment",
     "output_type": "error",
     "traceback": [
      "\u001b[0;31m---------------------------------------------------------------------------\u001b[0m",
      "\u001b[0;31mTypeError\u001b[0m                                 Traceback (most recent call last)",
      "\u001b[0;32m<ipython-input-137-e859950426c6>\u001b[0m in \u001b[0;36m<module>\u001b[0;34m\u001b[0m\n\u001b[1;32m      1\u001b[0m \u001b[0;31m#Immutable object does not support item assignment\u001b[0m\u001b[0;34m\u001b[0m\u001b[0;34m\u001b[0m\u001b[0;34m\u001b[0m\u001b[0m\n\u001b[1;32m      2\u001b[0m \u001b[0mprint\u001b[0m\u001b[0;34m(\u001b[0m\u001b[0ms\u001b[0m\u001b[0;34m)\u001b[0m\u001b[0;34m\u001b[0m\u001b[0;34m\u001b[0m\u001b[0m\n\u001b[0;32m----> 3\u001b[0;31m \u001b[0ms\u001b[0m\u001b[0;34m[\u001b[0m\u001b[0;36m0\u001b[0m\u001b[0;34m]\u001b[0m\u001b[0;34m=\u001b[0m\u001b[0;34m't'\u001b[0m\u001b[0;34m\u001b[0m\u001b[0;34m\u001b[0m\u001b[0m\n\u001b[0m\u001b[1;32m      4\u001b[0m \u001b[0mprint\u001b[0m\u001b[0;34m(\u001b[0m\u001b[0ms\u001b[0m\u001b[0;34m)\u001b[0m\u001b[0;34m\u001b[0m\u001b[0;34m\u001b[0m\u001b[0m\n",
      "\u001b[0;31mTypeError\u001b[0m: 'str' object does not support item assignment"
     ]
    }
   ],
   "source": [
    "#Immutable object does not support item assignment\n",
    "print(s)\n",
    "s[0]='t' # error\n",
    "print(s)"
   ]
  },
  {
   "cell_type": "code",
   "execution_count": 138,
   "metadata": {},
   "outputs": [
    {
     "name": "stdout",
     "output_type": "stream",
     "text": [
      "[10, 10.2, (10+20j), 'Python', None, True, [1, 2, 3], (10, 20, 30), {200, 100, 300}, {1: 100, 2: 200, 3: 300}]\n"
     ]
    }
   ],
   "source": [
    "print(lst)"
   ]
  },
  {
   "cell_type": "code",
   "execution_count": 141,
   "metadata": {},
   "outputs": [
    {
     "name": "stdout",
     "output_type": "stream",
     "text": [
      "[2, 34, 5, 3, 45, 7] 4482192648\n",
      "None\n",
      "[2, 34, 5, 3, 45, 7, 1111] 4482192648\n"
     ]
    }
   ],
   "source": [
    "lst = [2,34,5,3,45,7]\n",
    "print(lst, id(lst))\n",
    "print(lst.append(1111)) #list of mutable. Existing object gets modified\n",
    "print(lst, id(lst))"
   ]
  },
  {
   "cell_type": "code",
   "execution_count": 142,
   "metadata": {},
   "outputs": [
    {
     "name": "stdout",
     "output_type": "stream",
     "text": [
      "['Python', 34, 5, 3, 45, 7, 1111] 4482192648\n"
     ]
    }
   ],
   "source": [
    "#Mutable object supports item assigment\n",
    "lst[0] = 'Python'\n",
    "print(lst, id(lst))\n",
    "\n",
    "# Mutable objects: list, dict, set, byte array\n",
    "# Immutable objects: int, float, complex, string, tuple, frozen set [note: immutable version of set], bytes"
   ]
  },
  {
   "cell_type": "code",
   "execution_count": 143,
   "metadata": {},
   "outputs": [
    {
     "name": "stdout",
     "output_type": "stream",
     "text": [
      "True\n"
     ]
    }
   ],
   "source": [
    "#Aliasing - Giving a different name to an existing object\n",
    "a=10\n",
    "b=a\n",
    "print(a is b)"
   ]
  },
  {
   "cell_type": "code",
   "execution_count": 144,
   "metadata": {},
   "outputs": [
    {
     "name": "stdout",
     "output_type": "stream",
     "text": [
      "True\n"
     ]
    }
   ],
   "source": [
    "lst=[10,20,30]\n",
    "lst1=lst\n",
    "print(lst is lst1) # This is aliasing"
   ]
  },
  {
   "cell_type": "code",
   "execution_count": 146,
   "metadata": {},
   "outputs": [
    {
     "name": "stdout",
     "output_type": "stream",
     "text": [
      "True\n",
      "False\n"
     ]
    }
   ],
   "source": [
    "lst2 = lst\n",
    "print(lst2 is lst) # No slicing. So no new object is created\n",
    "#Shallow Copy - is created using copy() or slicing\n",
    "lst2 = lst[::]\n",
    "print(lst2 is lst) #Different becuase slicing creates new object\n"
   ]
  },
  {
   "cell_type": "code",
   "execution_count": 7,
   "metadata": {},
   "outputs": [
    {
     "name": "stdout",
     "output_type": "stream",
     "text": [
      "[0, 1, 2, 3, 4]\n",
      "[10, 1, 2, 3, 4]\n",
      "[0, 1, 2, 3, 4]\n",
      "[11, 1, 2, 3, 4]\n",
      "[0, 1, 2, 3, 4]\n",
      "[12, 1, 2, 3, 4]\n",
      "[0, 1, 2, 3, 4]\n",
      "[13, 1, 2, 3, 4]\n",
      "[[-10, 2, 3, 4], [5, 6, 7, 8, 9]]\n",
      "[[-10, 2, 3, 4], [5, 6, 7, 8, 9]]\n",
      "[[1, 2, 3, 4], [5, 6, 7, 8, 9]]\n",
      "[[-10, 2, 3, 4], [5, 6, 7, 8, 9]]\n"
     ]
    }
   ],
   "source": [
    "#Shallow copy: creates a copy one level deep. If there are nested child objects only references of child objects are created\n",
    "#Deep copy: create a full independent copy\n",
    "\n",
    "#Great Video explaining Shallow and Deep Copy\n",
    "# https://www.youtube.com/watch?v=RQ6Ur_T0G3Y\n",
    "\n",
    "#There are 3 ways to create a shallow copy\n",
    "#1. Through copy function\n",
    "import copy\n",
    "org=[0,1,2,3,4]\n",
    "cpy=copy.copy(org) #Through copy function. one way\n",
    "cpy[0]=10\n",
    "print(org)\n",
    "print(cpy)\n",
    "#2. Through copy function (Another way)\n",
    "import copy\n",
    "org=[0,1,2,3,4]\n",
    "cpy=org.copy() # Throgh copy function. another way\n",
    "cpy[0]=11\n",
    "print(org)\n",
    "print(cpy)\n",
    "#3\n",
    "import copy\n",
    "org=[0,1,2,3,4]\n",
    "cpy=list(org) # List function\n",
    "cpy[0]=12\n",
    "print(org)\n",
    "print(cpy)\n",
    "#4\n",
    "import copy\n",
    "org=[0,1,2,3,4]\n",
    "cpy=org[::] # Slicing function\n",
    "cpy[0]=13\n",
    "print(org)\n",
    "print(cpy)\n",
    "\n",
    "\n",
    "#Let's say you have nested lists\n",
    "org = [[1,2,3,4],[5,6,7,8,9]]\n",
    "cpy=org[::] # Slicing function\n",
    "cpy[0][0] = -10\n",
    "print(org)\n",
    "print(cpy) #Notice in nested loops, both version changes since only the reference of sublists are stored\n",
    "\n",
    "#Deep Copy\n",
    "import copy\n",
    "org=[[1,2,3,4],[5,6,7,8,9]]\n",
    "cpy=copy.deepcopy(org) #Through copy function. one way\n",
    "cpy[0][0] = -10\n",
    "print(org)\n",
    "print(cpy)"
   ]
  },
  {
   "cell_type": "code",
   "execution_count": 151,
   "metadata": {},
   "outputs": [
    {
     "name": "stdout",
     "output_type": "stream",
     "text": [
      "[10, 20, 30]\n",
      "[10, 20, 30]\n",
      "True\n",
      "True\n",
      "[10, 20, 30, 1111]\n",
      "[10, 20, 30, 1111]\n"
     ]
    }
   ],
   "source": [
    "print(lst)\n",
    "lst2 = lst\n",
    "print(lst2)\n",
    "print(lst is lst2)\n",
    "lst2.append(1111) #without shallow copy, when u modift lst2, lst automatically changes\n",
    "print(lst is lst2)\n",
    "print(lst)\n",
    "print(lst2)"
   ]
  },
  {
   "cell_type": "code",
   "execution_count": 153,
   "metadata": {},
   "outputs": [
    {
     "name": "stdout",
     "output_type": "stream",
     "text": [
      "False\n",
      "[10, 20, 30, 40, [1, 2, 3, 1000]]\n",
      "[10, 20, 30, 1111]\n"
     ]
    }
   ],
   "source": [
    "lst = [10,20,30,40,[1,2,3]]\n",
    "lst2 = lst[::]\n",
    "print(lst is lst2)\n",
    "lst[-1].append(1000)\n",
    "print(lst)\n",
    "print(lst1)"
   ]
  },
  {
   "cell_type": "code",
   "execution_count": 19,
   "metadata": {},
   "outputs": [
    {
     "name": "stdout",
     "output_type": "stream",
     "text": [
      "lst 3 is:  [10, 20, 30, 40, [1, 2, 3, 4]]\n",
      "lst 6 is:  [10, 20, 30, 40, [1, 2, 3, 4]]\n"
     ]
    }
   ],
   "source": [
    "from copy import deepcopy\n",
    "lst3 = [10,20,30, 40,[1,2,3,4]]\n",
    "print(\"lst 3 is: \", lst3)\n",
    "lst6 = deepcopy(lst3)\n",
    "print(\"lst 6 is: \", lst6)"
   ]
  },
  {
   "cell_type": "code",
   "execution_count": 20,
   "metadata": {},
   "outputs": [
    {
     "name": "stdout",
     "output_type": "stream",
     "text": [
      "4516819656 4515419336\n",
      "[1, 2, 3, 4] [1, 2, 3, 4]\n",
      "4516691336 4515533384\n"
     ]
    }
   ],
   "source": [
    "print(id(lst3), id(lst6))\n",
    "print(lst3[-1],lst6[-1])\n",
    "print(id(lst3[-1]),id(lst6[-1]))"
   ]
  },
  {
   "cell_type": "code",
   "execution_count": 21,
   "metadata": {},
   "outputs": [
    {
     "name": "stdout",
     "output_type": "stream",
     "text": [
      "[10, 20, 30, 40, [1, 2, 3, 4]] \n",
      " [10, 20, 30, 40, [1, 2, 3, 4, 100]]\n"
     ]
    }
   ],
   "source": [
    "lst6[-1].append(100)\n",
    "print(lst3, '\\n', lst6)"
   ]
  },
  {
   "cell_type": "code",
   "execution_count": 23,
   "metadata": {},
   "outputs": [],
   "source": [
    "lst7 = [1,[2,[3]]]"
   ]
  },
  {
   "cell_type": "code",
   "execution_count": 31,
   "metadata": {},
   "outputs": [
    {
     "name": "stdout",
     "output_type": "stream",
     "text": [
      "1\n",
      "2 [3]\n",
      "3 [3]\n"
     ]
    }
   ],
   "source": [
    "print(lst7[0])\n",
    "print(lst7[1][0], lst7[1][1])\n",
    "print(lst7[1][1][0],lst7[-1][-1])"
   ]
  },
  {
   "cell_type": "code",
   "execution_count": 4,
   "metadata": {},
   "outputs": [
    {
     "name": "stdout",
     "output_type": "stream",
     "text": [
      "False\n",
      "True\n",
      "False\n",
      "False\n"
     ]
    }
   ],
   "source": [
    "from copy import deepcopy\n",
    "lst = [10,[20,[30]]]\n",
    "lst1 = deepcopy(lst) # To create shallow copy\n",
    "print(lst is lst1)\n",
    "print(lst[0] is lst1[0]) #since it is pointing to the number 10 - object reusability\n",
    "print(lst[-1] is lst1[-1])\n",
    "print(lst[1][1] is lst1[1][1])"
   ]
  },
  {
   "cell_type": "markdown",
   "metadata": {},
   "source": [
    "# TUPLE"
   ]
  },
  {
   "cell_type": "code",
   "execution_count": 8,
   "metadata": {},
   "outputs": [
    {
     "name": "stdout",
     "output_type": "stream",
     "text": [
      "(10, 20, 30) <class 'tuple'>\n",
      "(10, 20, 30) <class 'tuple'>\n",
      "(10,) <class 'tuple'>\n",
      "(10,) <class 'tuple'>\n",
      "10 <class 'int'>\n"
     ]
    }
   ],
   "source": [
    "# Tuples:\n",
    "# Tuple is similar to list but is an immutable object\n",
    "# Tuple follows all the properties of a list\n",
    "# It is an ordered collection of elements\n",
    "# It supports +ve and -ve indexing\n",
    "# It supports slicing\n",
    "# It can have duplicate elements\n",
    "# It is a collection of heterogeneous elements\n",
    "# Tuple is IMMUTABLE\n",
    "# Parentheses are used to define a tuple but they are not mandatory, they are optional\n",
    "\n",
    "tpl = (10,20,30)\n",
    "print(tpl,type(tpl))\n",
    "\n",
    "tpl1 = 10,20,30 # No parantheses also works for tuple\n",
    "# this format creates a problem if you want to create a tuple with only one element\n",
    "print(tpl1,type(tpl1))\n",
    "\n",
    "tpl2 = 10, #for single element include ','\n",
    "print(tpl2,type(tpl2))\n",
    "\n",
    "tpl3 = (10,) #for single element include ','\n",
    "print(tpl3,type(tpl3))\n",
    "\n",
    "tpl4 = (10) #for single element of you don't include ',' it will take it as an integer\n",
    "print(tpl4,type(tpl4)) "
   ]
  },
  {
   "cell_type": "code",
   "execution_count": 9,
   "metadata": {},
   "outputs": [
    {
     "name": "stdout",
     "output_type": "stream",
     "text": [
      "['__add__', '__class__', '__contains__', '__delattr__', '__dir__', '__doc__', '__eq__', '__format__', '__ge__', '__getattribute__', '__getitem__', '__getnewargs__', '__gt__', '__hash__', '__init__', '__init_subclass__', '__iter__', '__le__', '__len__', '__lt__', '__mod__', '__mul__', '__ne__', '__new__', '__reduce__', '__reduce_ex__', '__repr__', '__rmod__', '__rmul__', '__setattr__', '__sizeof__', '__str__', '__subclasshook__', 'capitalize', 'casefold', 'center', 'count', 'encode', 'endswith', 'expandtabs', 'find', 'format', 'format_map', 'index', 'isalnum', 'isalpha', 'isascii', 'isdecimal', 'isdigit', 'isidentifier', 'islower', 'isnumeric', 'isprintable', 'isspace', 'istitle', 'isupper', 'join', 'ljust', 'lower', 'lstrip', 'maketrans', 'partition', 'replace', 'rfind', 'rindex', 'rjust', 'rpartition', 'rsplit', 'rstrip', 'split', 'splitlines', 'startswith', 'strip', 'swapcase', 'title', 'translate', 'upper', 'zfill']\n",
      "\n",
      "\n",
      "['__add__', '__class__', '__contains__', '__delattr__', '__dir__', '__doc__', '__eq__', '__format__', '__ge__', '__getattribute__', '__getitem__', '__getnewargs__', '__gt__', '__hash__', '__init__', '__init_subclass__', '__iter__', '__le__', '__len__', '__lt__', '__mul__', '__ne__', '__new__', '__reduce__', '__reduce_ex__', '__repr__', '__rmul__', '__setattr__', '__sizeof__', '__str__', '__subclasshook__', 'count', 'index']\n"
     ]
    }
   ],
   "source": [
    "print(dir(str))\n",
    "print('\\n')\n",
    "print(dir(tpl))"
   ]
  },
  {
   "cell_type": "code",
   "execution_count": 11,
   "metadata": {},
   "outputs": [
    {
     "name": "stdout",
     "output_type": "stream",
     "text": [
      "True\n",
      "4466437560\n",
      "4466437560\n"
     ]
    }
   ],
   "source": [
    "#If you have to make any changes to the tuple, you have to convert to list, modify and then convert back to tuple\n",
    "tpl = (1,2,3,(10,20,30))\n",
    "tpl1 = tpl\n",
    "print(tpl1 is tpl)\n",
    "tpl2 = tpl[::]\n",
    "print(id(tpl2))\n",
    "print(id(tpl))"
   ]
  },
  {
   "cell_type": "code",
   "execution_count": 14,
   "metadata": {},
   "outputs": [
    {
     "name": "stdout",
     "output_type": "stream",
     "text": [
      "True\n",
      "False\n",
      "False\n"
     ]
    }
   ],
   "source": [
    "tpl1 = 10,20,30\n",
    "tpl2 = tpl1 # this is making a copy. Since tuple is immutable it will get same id\n",
    "tpl3 = 10,20,30 # this is an assignment operator. Similar to a= 1000 and b = 1000, python will create a separate \n",
    "#memory location for each assignment. \n",
    "print(tpl1 is tpl2)\n",
    "print(tpl3 is tpl1)\n",
    "\n",
    "\n",
    "#tuple is faster to access compared to list\n",
    "\n",
    "a=1000\n",
    "b=1000\n",
    "print(a is b)"
   ]
  },
  {
   "cell_type": "markdown",
   "metadata": {},
   "source": [
    "# Set and Frozen Set"
   ]
  },
  {
   "cell_type": "code",
   "execution_count": 16,
   "metadata": {},
   "outputs": [
    {
     "name": "stdout",
     "output_type": "stream",
     "text": [
      "{True, 'Python', 10, 10.2, (40, 50, 60), b'\\n\\x14\\x1e', frozenset({10, 20, 30}), None, 10.2j}\n"
     ]
    }
   ],
   "source": [
    "# # Set is a type of Mapping\n",
    "# # Mapping data structure applies Hash map. It works on Key value pair. And it is not a sequence\n",
    "# # Not a sequence. Hence Indexing and Slicing are not allowed\n",
    "# # Not an ordered collection\n",
    "\n",
    "# Set is a collection of Unique Elements\n",
    "# Sets can have only have immutable datatypes as elements of the set\n",
    "# Set is mutable\n",
    "\n",
    "# To define a set we need to give elements in {} separated by comma\n",
    "\n",
    "s = {10, 10.2, 10.20j, 'Python', None, True, (40,50,60),frozenset([10,20,30]), bytes([10,20,30])}\n",
    "print(s)\n",
    "\n",
    "# Output is different from what we have entered. That's because it is not an ordered collection\n",
    "# Not used a lot. It could be used in mathematical collections\n",
    "\n",
    "#NOTE: I wasn't able to add a 'list' datatype to set. Becuase list is mutable"
   ]
  },
  {
   "cell_type": "code",
   "execution_count": 18,
   "metadata": {},
   "outputs": [
    {
     "name": "stdout",
     "output_type": "stream",
     "text": [
      "[1, 2, 3, 10, 14, 19, 30, 191]\n"
     ]
    }
   ],
   "source": [
    "lst = [10,14,19, 1,2,3,19,30,19,191,19,19]\n",
    "lst1 = list(set(lst))\n",
    "print(lst1)\n",
    "#Shows only unique collection and removes dupes"
   ]
  },
  {
   "cell_type": "code",
   "execution_count": 22,
   "metadata": {},
   "outputs": [
    {
     "name": "stdout",
     "output_type": "stream",
     "text": [
      "[] <class 'list'>\n",
      "() <class 'tuple'>\n",
      "{} <class 'dict'>\n",
      "set() <class 'set'>\n"
     ]
    }
   ],
   "source": [
    "#Creating an empty list\n",
    "lst = []\n",
    "print(lst, type(lst))\n",
    "\n",
    "#Creating an empty tuple\n",
    "tpl = ()\n",
    "print(tpl, type(tpl))\n",
    "\n",
    "#Creating an empty set\n",
    "s={} # if you enclose with empty curly braces, it will create a dictionary \n",
    "#because dictionary also uses curly braces\n",
    "print(s, type(s))\n",
    "\n",
    "#Therefore to create a set, use set function\n",
    "s = set()\n",
    "print(s, type(s))"
   ]
  },
  {
   "cell_type": "code",
   "execution_count": 23,
   "metadata": {},
   "outputs": [
    {
     "name": "stdout",
     "output_type": "stream",
     "text": [
      "['__and__', '__class__', '__contains__', '__delattr__', '__dir__', '__doc__', '__eq__', '__format__', '__ge__', '__getattribute__', '__gt__', '__hash__', '__iand__', '__init__', '__init_subclass__', '__ior__', '__isub__', '__iter__', '__ixor__', '__le__', '__len__', '__lt__', '__ne__', '__new__', '__or__', '__rand__', '__reduce__', '__reduce_ex__', '__repr__', '__ror__', '__rsub__', '__rxor__', '__setattr__', '__sizeof__', '__str__', '__sub__', '__subclasshook__', '__xor__', 'add', 'clear', 'copy', 'difference', 'difference_update', 'discard', 'intersection', 'intersection_update', 'isdisjoint', 'issubset', 'issuperset', 'pop', 'remove', 'symmetric_difference', 'symmetric_difference_update', 'union', 'update']\n"
     ]
    }
   ],
   "source": [
    "#Mutability - Modifying the set\n",
    "\n",
    "print(dir(set))"
   ]
  },
  {
   "cell_type": "code",
   "execution_count": 26,
   "metadata": {},
   "outputs": [
    {
     "name": "stdout",
     "output_type": "stream",
     "text": [
      "{True, 'Python', 10, 10.2, (40, 50, 60), b'\\n\\x14\\x1e', frozenset({10, 20, 30}), None, 10.2j}\n",
      "4465654248\n",
      "{True, 'Python', 10, 10.2, (40, 50, 60), range(0, 10), b'\\n\\x14\\x1e', frozenset({10, 20, 30}), None, 10.2j}\n",
      "4465654248\n",
      "{True, 'Python', 10, 10.2, (40, 50, 60), range(0, 10), b'\\n\\x14\\x1e', frozenset({10, 20, 30}), 10.2j}\n",
      "4465654248\n"
     ]
    }
   ],
   "source": [
    "s = {10, 10.2, 10.20j, 'Python', None, True, (40,50,60),frozenset([10,20,30]), bytes([10,20,30])}\n",
    "print(s)\n",
    "print(id(s))\n",
    "\n",
    "s.add(range(10))  # range has been added\n",
    "#append method is not available for set variables 's'\n",
    "print(s)\n",
    "print(id(s))\n",
    "\n",
    "s.remove(None)\n",
    "print(s)\n",
    "print(id(s))"
   ]
  },
  {
   "cell_type": "code",
   "execution_count": 27,
   "metadata": {},
   "outputs": [
    {
     "name": "stdout",
     "output_type": "stream",
     "text": [
      "frozenset({True, 'Python', 10, 10.2, (40, 50, 60), range(0, 10), b'\\n\\x14\\x1e', frozenset({10, 20, 30}), 10.2j}) <class 'frozenset'>\n"
     ]
    }
   ],
   "source": [
    "#Frozen set is immutable dataset\n",
    "fz = frozenset(s)\n",
    "print(fz, type(fz))"
   ]
  },
  {
   "cell_type": "code",
   "execution_count": 28,
   "metadata": {},
   "outputs": [
    {
     "ename": "AttributeError",
     "evalue": "'frozenset' object has no attribute 'add'",
     "output_type": "error",
     "traceback": [
      "\u001b[0;31m---------------------------------------------------------------------------\u001b[0m",
      "\u001b[0;31mAttributeError\u001b[0m                            Traceback (most recent call last)",
      "\u001b[0;32m<ipython-input-28-9c03f9f45d54>\u001b[0m in \u001b[0;36m<module>\u001b[0;34m\u001b[0m\n\u001b[0;32m----> 1\u001b[0;31m \u001b[0mfz\u001b[0m\u001b[0;34m.\u001b[0m\u001b[0madd\u001b[0m\u001b[0;34m(\u001b[0m\u001b[0;36m100\u001b[0m\u001b[0;34m)\u001b[0m \u001b[0;31m#not allowed to add\u001b[0m\u001b[0;34m\u001b[0m\u001b[0;34m\u001b[0m\u001b[0m\n\u001b[0m\u001b[1;32m      2\u001b[0m \u001b[0mprint\u001b[0m\u001b[0;34m(\u001b[0m\u001b[0mfz\u001b[0m\u001b[0;34m)\u001b[0m\u001b[0;34m\u001b[0m\u001b[0;34m\u001b[0m\u001b[0m\n",
      "\u001b[0;31mAttributeError\u001b[0m: 'frozenset' object has no attribute 'add'"
     ]
    }
   ],
   "source": [
    "fz.add(100) #not allowed to add\n",
    "print(fz)"
   ]
  },
  {
   "cell_type": "markdown",
   "metadata": {},
   "source": [
    "# Dictionary"
   ]
  },
  {
   "cell_type": "code",
   "execution_count": 31,
   "metadata": {},
   "outputs": [
    {
     "name": "stdout",
     "output_type": "stream",
     "text": [
      "{1: False, 10.2: 100.9, (10+20j): 100j, 'a': 'Python', None: True, (10, 20, 30): [10, 20, 30]} <class 'dict'>\n",
      "Python\n",
      "[10, 20, 30]\n"
     ]
    }
   ],
   "source": [
    "# # #Dictionary - a mapping and not a sequence\n",
    "# # not a ordered collection and hence doesn't support indexing and slicing\n",
    "# # It is a collection of key value pair where a key value pair is called an item or element of a dictionary\n",
    "\n",
    "# Keys can be only of immutable type and must be unique\n",
    "# Values can be of any type and can be duplicated\n",
    "# Dictionary itself is mutable\n",
    "# Items should be kept inside {} and must seperated by comma\n",
    "# key value pair should be separated by colon\n",
    "# You can access the value using keys\n",
    "\n",
    "#key: value - item\n",
    "d = {1:100, 10.2:100.9, 10+20j:100j, 'a':'Python', None:True, True:False, (10,20,30):[10,20,30]}\n",
    "print(d,type(d))\n",
    "\n",
    "print(d['a'])\n",
    "\n",
    "print(d[(10,20,30)])\n",
    "\n"
   ]
  },
  {
   "cell_type": "code",
   "execution_count": 33,
   "metadata": {},
   "outputs": [
    {
     "name": "stdout",
     "output_type": "stream",
     "text": [
      "300 500\n"
     ]
    }
   ],
   "source": [
    "#Dictionary won't give you an error if you give duplicate key. If there are multiple values for a single key, \n",
    "#the last valye will be printed\n",
    "\n",
    "d1 = {1:100,1:200,1:300, 2:200,2:400,2:500}\n",
    "print(d1[1], d1[2])"
   ]
  },
  {
   "cell_type": "code",
   "execution_count": 41,
   "metadata": {},
   "outputs": [
    {
     "name": "stdout",
     "output_type": "stream",
     "text": [
      "{'student1': {'Name': 'ABC', 'Roll': 123, 'Marks': 99}, 'student2': {'Name': 'XYZ', 'Roll': 142, 'Marks': 95}} <class 'dict'> \n",
      "\n",
      "{'Name': 'ABC', 'Roll': 123, 'Marks': 99} \n",
      "\n",
      "ABC\n"
     ]
    }
   ],
   "source": [
    "#String and Dictionary are one of the most used datatype\n",
    "#Dictionary has many applications. For example: Student dataset\n",
    "\n",
    "# student 1 -> Name -> ABC\n",
    "#             Roll number -> 123\n",
    "#             Marks -> 90\n",
    "        \n",
    "        \n",
    "# student 1 -> Name -> XYZ\n",
    "#             Roll number -> 142\n",
    "#             Marks -> 95\n",
    "\n",
    "#How do we represent this\n",
    "\n",
    "d = {'student1':{'Name':'ABC', 'Roll':123,'Marks':99}, 'student2':{'Name':'XYZ', 'Roll':142,'Marks':95}}\n",
    "print(d,type(d),'\\n')\n",
    "\n",
    "print(d['student1'],'\\n')\n",
    "print(d['student1']['Name'])"
   ]
  },
  {
   "cell_type": "code",
   "execution_count": 42,
   "metadata": {},
   "outputs": [
    {
     "name": "stdout",
     "output_type": "stream",
     "text": [
      "{'student1': {'Name': 'ABC', 'Roll': 123, 'Marks': 99}, 'student2': {'Name': 'XYZ', 'Roll': 142, 'Marks': 95}}\n",
      "{'student1': {'Name': 'ABC', 'Roll': 123, 'Marks': 50}, 'student2': {'Name': 'XYZ', 'Roll': 142, 'Marks': 95}}\n"
     ]
    }
   ],
   "source": [
    "# to modify a dictionary\n",
    "print(d)\n",
    "d['student1']['Marks'] = 50\n",
    "print(d)\n",
    "#check answer before and after modification"
   ]
  },
  {
   "cell_type": "code",
   "execution_count": null,
   "metadata": {},
   "outputs": [],
   "source": [
    "lst = [10,20,30]\n",
    "lst.append()\n",
    "#shift + tab  to get documentation"
   ]
  },
  {
   "cell_type": "markdown",
   "metadata": {},
   "source": [
    "# Byte, Byte Array and Range"
   ]
  },
  {
   "cell_type": "code",
   "execution_count": 47,
   "metadata": {},
   "outputs": [
    {
     "name": "stdout",
     "output_type": "stream",
     "text": [
      "b'\\n\\x14\\x1e'\n",
      "bytearray(b'\\n\\x14\\x1e')\n"
     ]
    },
    {
     "ename": "ValueError",
     "evalue": "byte must be in range(0, 256)",
     "output_type": "error",
     "traceback": [
      "\u001b[0;31m---------------------------------------------------------------------------\u001b[0m",
      "\u001b[0;31mValueError\u001b[0m                                Traceback (most recent call last)",
      "\u001b[0;32m<ipython-input-47-a7ef3b4952ee>\u001b[0m in \u001b[0;36m<module>\u001b[0;34m\u001b[0m\n\u001b[1;32m     13\u001b[0m \u001b[0;31m#b[0] = 20 # Bytes do not support item assignment\u001b[0m\u001b[0;34m\u001b[0m\u001b[0;34m\u001b[0m\u001b[0;34m\u001b[0m\u001b[0m\n\u001b[1;32m     14\u001b[0m \u001b[0mba\u001b[0m\u001b[0;34m[\u001b[0m\u001b[0;36m0\u001b[0m\u001b[0;34m]\u001b[0m \u001b[0;34m=\u001b[0m \u001b[0;36m255\u001b[0m \u001b[0;31m#Byte array allows item assignment but only within 0-256\u001b[0m\u001b[0;34m\u001b[0m\u001b[0;34m\u001b[0m\u001b[0m\n\u001b[0;32m---> 15\u001b[0;31m \u001b[0mba\u001b[0m\u001b[0;34m[\u001b[0m\u001b[0;36m1\u001b[0m\u001b[0;34m]\u001b[0m \u001b[0;34m=\u001b[0m \u001b[0;36m260\u001b[0m\u001b[0;34m\u001b[0m\u001b[0;34m\u001b[0m\u001b[0m\n\u001b[0m",
      "\u001b[0;31mValueError\u001b[0m: byte must be in range(0, 256)"
     ]
    }
   ],
   "source": [
    "# Byte abd Byte Array are datatypes used internally to store digital content\n",
    "# eg: Video, image, pdfs.\n",
    "# They are a sequence and they store content in Hexadecimal format\n",
    "# Bytes is immuatable and bytearray is mutable\n",
    "# Only 0-256 are allowed\n",
    "\n",
    "lst = [10,20,30]\n",
    "b=bytes(lst)\n",
    "print(b)\n",
    "ba = bytearray(lst)\n",
    "print(ba)\n",
    "\n",
    "#b[0] = 20 # Bytes do not support item assignment\n",
    "ba[0] = 255 #Byte array allows item assignment but only within 0-256\n",
    "ba[1] = 260\n",
    "\n",
    "#Bytes and Bytearray not used a lot"
   ]
  },
  {
   "cell_type": "code",
   "execution_count": 50,
   "metadata": {},
   "outputs": [
    {
     "name": "stdout",
     "output_type": "stream",
     "text": [
      "[0, 1, 2, 3, 4, 5, 6, 7, 8, 9]\n",
      "\n",
      "\n",
      "[12, 14, 16, 18, 20, 22, 24, 26, 28, 30]\n"
     ]
    }
   ],
   "source": [
    "# range - used to generate a sequence of numbers based on some pattern\n",
    "# syntax: range(start, stop, step) \n",
    "#     start and step are optional\n",
    "# Default value of start is 0\n",
    "# Default value of step is 1\n",
    "# range(stop) is also a perfectly valid syntax\n",
    "# range is a generator and automaticalli generates numbers for variables\n",
    "\n",
    "print(list(range(10))) # here only stop is indicated\n",
    "print('\\n')\n",
    "print(list(range(12,31,2)))\n"
   ]
  },
  {
   "cell_type": "code",
   "execution_count": null,
   "metadata": {},
   "outputs": [],
   "source": []
  },
  {
   "cell_type": "code",
   "execution_count": null,
   "metadata": {},
   "outputs": [],
   "source": []
  },
  {
   "cell_type": "code",
   "execution_count": null,
   "metadata": {},
   "outputs": [],
   "source": []
  },
  {
   "cell_type": "markdown",
   "metadata": {},
   "source": [
    "# Operators"
   ]
  },
  {
   "cell_type": "code",
   "execution_count": null,
   "metadata": {},
   "outputs": [],
   "source": [
    "#Arithmetic operator\n",
    "#Comparison operator\n",
    "#Logical operator\n",
    "#Equality operator\n",
    "#Assignment operator\n",
    "# Bitwise\n",
    "# Identity\n",
    "# membership"
   ]
  },
  {
   "cell_type": "code",
   "execution_count": null,
   "metadata": {},
   "outputs": [],
   "source": [
    "#Arithmetic\n",
    "# Addition = +\n",
    "# Subtractor = -\n",
    "# Multiplication = *\n",
    "# True / Float Division = /\n",
    "# Floor Division = //\n",
    "# Modulo = %\n",
    "# Exponent = **"
   ]
  },
  {
   "cell_type": "code",
   "execution_count": 67,
   "metadata": {},
   "outputs": [
    {
     "name": "stdout",
     "output_type": "stream",
     "text": [
      "13\n",
      "7\n",
      "30\n",
      "3.3333333333333335\n",
      "3\n",
      "1\n",
      "1000\n"
     ]
    }
   ],
   "source": [
    "a=10\n",
    "b=3\n",
    "print(a+b)\n",
    "print(a-b)\n",
    "print(a*b)\n",
    "print(a/b)\n",
    "print(a//b) # Gives floor value of true division\n",
    "print(a%b) #always gives the remainder\n",
    "print(a**b)\n",
    "#All mathematical operators work on numbers.\n",
    "#On Complex numbers modulo operator won't work"
   ]
  },
  {
   "cell_type": "code",
   "execution_count": 55,
   "metadata": {},
   "outputs": [
    {
     "name": "stdout",
     "output_type": "stream",
     "text": [
      "2\n",
      "3\n",
      "3\n"
     ]
    }
   ],
   "source": [
    "import math\n",
    "\n",
    "#Floor value - nearest minimum value\n",
    "#Ceil value - nearest maximim value\n",
    "\n",
    "print(math.floor(2.8898000))\n",
    "print(math.ceil(2.8898000))\n",
    "print('\\n')\n",
    "print(math.ceil(2.000000001)) #Ceil gives the upper number even if the decimal component is really low"
   ]
  },
  {
   "cell_type": "code",
   "execution_count": 58,
   "metadata": {},
   "outputs": [
    {
     "name": "stdout",
     "output_type": "stream",
     "text": [
      "0.30000000000000004\n",
      "0.4\n"
     ]
    }
   ],
   "source": [
    "print(0.1+0.2)\n",
    "print(0.1+0.3)"
   ]
  },
  {
   "cell_type": "code",
   "execution_count": 66,
   "metadata": {},
   "outputs": [
    {
     "name": "stdout",
     "output_type": "stream",
     "text": [
      "0.300\n",
      "0.3\n",
      "0.30\n",
      "0.24664\n",
      "0.300\n"
     ]
    }
   ],
   "source": [
    "res = 0.1+0.2\n",
    "print(\"{0:.3f}\".format(res)) #using format function you can format result\n",
    "print(\"{0:.1f}\".format(res))\n",
    "print(\"{0:.2f}\".format(res))\n",
    "print(\"{0:.5f}\".format(0.1243+0.122342342))\n",
    "\n",
    "#Another format\n",
    "print(\"%.3f\"%res) #another method"
   ]
  },
  {
   "cell_type": "code",
   "execution_count": null,
   "metadata": {},
   "outputs": [],
   "source": [
    "#All mathematical operators work on numbers.\n",
    "#On Complex numbers modulo operator won't work\n",
    "# Concatenation (+) repeitition (*)\n",
    "# Concatenation works with same datatypes for following\n",
    "#     string+string, list+list, tuple+tuple, byte+byte, bytearray+bytearray\n",
    "#     Can't concatenate string with a list for example\n",
    "#     range+range\n",
    "#Repetition - * (one operand is a number, other is a sequence datatype)"
   ]
  },
  {
   "cell_type": "code",
   "execution_count": 73,
   "metadata": {},
   "outputs": [
    {
     "name": "stdout",
     "output_type": "stream",
     "text": [
      "True\n",
      "True\n",
      "True\n"
     ]
    }
   ],
   "source": [
    "# Comparison operator - used to compare two values.\n",
    "# they won't work with different datatypes (except int and float)\n",
    "# Comparing two complex numbers is not possible\n",
    "# <\n",
    "# >\n",
    "# <=\n",
    "# >=\n",
    "print(10<10.25)\n",
    "#print(10<10+20j) #error\n",
    "#print(10.20j<9+8j) #error\n",
    "print([10,20,30]<[100,9,300])\n",
    "print('Pytho'<'Python')"
   ]
  },
  {
   "cell_type": "code",
   "execution_count": 76,
   "metadata": {},
   "outputs": [
    {
     "name": "stdout",
     "output_type": "stream",
     "text": [
      "True\n",
      "False\n"
     ]
    }
   ],
   "source": [
    "#How does comparison operator work on lists?\n",
    "print([10,20,30]<[100,9,300])\n",
    "print([101,5,30]<[100,9,300])\n",
    "\n",
    "# The comparison uses lexicographical ordering: first the first two items are compared, \n",
    "# and if they differ this determines the outcome of the comparison; \n",
    "# if they are equal, the next two items are compared, and so on, until either sequence is exhausted."
   ]
  },
  {
   "cell_type": "code",
   "execution_count": 78,
   "metadata": {},
   "outputs": [
    {
     "name": "stdout",
     "output_type": "stream",
     "text": [
      "True\n",
      "True\n",
      "True\n",
      "True\n",
      "True\n",
      "True\n",
      "True\n"
     ]
    }
   ],
   "source": [
    "#Sequence objects typically may be compared to other objects with the same sequence type\n",
    "print((1, 2, 3)              < (1, 2, 4))\n",
    "print([1, 2, 3]              < [1, 2, 4])\n",
    "print('ABC' < 'C' < 'Pascal' < 'Python')\n",
    "print((1, 2, 3, 4)           < (1, 2, 4))\n",
    "print((1, 2)                 < (1, 2, -1))\n",
    "print((1, 2, 3)             == (1.0, 2.0, 3.0))\n",
    "print((1, 2, ('aa', 'ab'))   < (1, 2, ('abc', 'a'), 4))"
   ]
  },
  {
   "cell_type": "code",
   "execution_count": 82,
   "metadata": {},
   "outputs": [
    {
     "name": "stdout",
     "output_type": "stream",
     "text": [
      "True\n",
      "80\n",
      "112\n",
      "P\n"
     ]
    }
   ],
   "source": [
    "#Strings are compared based on their ASCII Values\n",
    "print('Python'   <     'python')\n",
    "#here 'ython' is similar. only the first alphabet is different\n",
    "\n",
    "#To get ASCII value use ord() function\n",
    "print(ord('P'))\n",
    "print(ord('p'))  #ordinal value of 'P' is less than 'p'\n",
    "#print('P'<=80) # This won't work as operators won't work with different datatypes\n",
    "print(chr(80))"
   ]
  },
  {
   "cell_type": "code",
   "execution_count": 83,
   "metadata": {},
   "outputs": [
    {
     "name": "stdout",
     "output_type": "stream",
     "text": [
      "False\n",
      "True\n",
      "False\n"
     ]
    }
   ],
   "source": [
    "#Equality operator : == , !=\n",
    "#Equality operator always checks the content of two operands\n",
    "#It works with different datatypes\n",
    "\n",
    "print('Python' == 'python')\n",
    "print(10!=100)\n",
    "print('P'==80)"
   ]
  },
  {
   "cell_type": "code",
   "execution_count": 86,
   "metadata": {},
   "outputs": [
    {
     "name": "stdout",
     "output_type": "stream",
     "text": [
      "12\n"
     ]
    }
   ],
   "source": [
    "#Assignment Operator: = \n",
    "a=10\n",
    "\n",
    "#Compound assignment operator\n",
    "a=a+2\n",
    "print(a)\n",
    "# a=a+2 can also be written as a+=2\n",
    "#Here += is the compound assignment operator\n",
    "#Other examples of compound operator. \n",
    "# +=, -=, *=, /=, //=, %=, **=, &=, |=, ^=, <<=, >>="
   ]
  },
  {
   "cell_type": "code",
   "execution_count": 87,
   "metadata": {},
   "outputs": [
    {
     "name": "stdout",
     "output_type": "stream",
     "text": [
      "True\n",
      "True\n"
     ]
    }
   ],
   "source": [
    "#Identity operators - is, is not - compares ids of the two operands\n",
    "a=10\n",
    "b=10\n",
    "print(a is b)\n",
    "\n",
    "a=1000\n",
    "b=1000\n",
    "print(a is not b)"
   ]
  },
  {
   "cell_type": "code",
   "execution_count": 92,
   "metadata": {},
   "outputs": [
    {
     "name": "stdout",
     "output_type": "stream",
     "text": [
      "True\n",
      "False\n",
      "True\n",
      "True\n",
      "True\n",
      "False\n",
      "True\n",
      "True\n",
      "False\n"
     ]
    }
   ],
   "source": [
    "#Membership operator - in and not in\n",
    "lst = [1,2,3,[10,30,30]]\n",
    "s = 'Python'\n",
    "d={1:100, 2:200, 'a':'Python'}\n",
    "\n",
    "print(1 in lst)\n",
    "print(10 in lst) #10 is not available at element level. It is available at sub element level\n",
    "print(10 in lst[3])\n",
    "print('P' in s)\n",
    "print('yth' in s)\n",
    "print('Pn' in s)\n",
    "\n",
    "# In case of dictionary, it always checks the key and not the value\n",
    "print(1 in d)\n",
    "print('a' in d)\n",
    "print(200 in d)"
   ]
  },
  {
   "cell_type": "code",
   "execution_count": 93,
   "metadata": {},
   "outputs": [
    {
     "name": "stdout",
     "output_type": "stream",
     "text": [
      "True\n"
     ]
    }
   ],
   "source": [
    "s1 = 'This is Python class'\n",
    "print('Pyt' in s1)\n",
    "#Regular expression, index() function shows the index of the matching result"
   ]
  },
  {
   "cell_type": "code",
   "execution_count": 95,
   "metadata": {},
   "outputs": [
    {
     "name": "stdout",
     "output_type": "stream",
     "text": [
      "1\n",
      "2\n",
      "3\n",
      "[10, 20, 30]\n"
     ]
    }
   ],
   "source": [
    "lst = [1,2,3,[10,20,30]]\n",
    "for i in lst:\n",
    "    print(i)"
   ]
  },
  {
   "cell_type": "code",
   "execution_count": 97,
   "metadata": {},
   "outputs": [
    {
     "name": "stdout",
     "output_type": "stream",
     "text": [
      "False\n"
     ]
    }
   ],
   "source": [
    "lst = [1,2,3,[10,20,30]]\n",
    "for i in lst:\n",
    "    if type(i) == int:\n",
    "        continue\n",
    "    else:\n",
    "        print(1 in i)"
   ]
  },
  {
   "cell_type": "code",
   "execution_count": 103,
   "metadata": {},
   "outputs": [
    {
     "name": "stdout",
     "output_type": "stream",
     "text": [
      "20\n",
      "0\n",
      "0\n",
      "0\n",
      "0.0\n"
     ]
    }
   ],
   "source": [
    "#Logical Operators: add, or, not\n",
    "\n",
    "# and Table: \n",
    "# When A and B are not boolean -> return A when A is evaluted to false. Else return B\n",
    "# 'and' gives importance to False value \n",
    "# True and True = True\n",
    "# True and False = False\n",
    "# False and True = False\n",
    "# False and False = False\n",
    "\n",
    "#eg:\n",
    "print(10 and 20)\n",
    "#Here A is not false. It returns B\n",
    "print(10 and 0)\n",
    "print(0 and 20)\n",
    "print(0 and 0.0)\n",
    "print(0.0 and 0)\n"
   ]
  },
  {
   "cell_type": "code",
   "execution_count": 102,
   "metadata": {},
   "outputs": [
    {
     "name": "stdout",
     "output_type": "stream",
     "text": [
      "10\n",
      "20\n",
      "0.0\n",
      "0\n"
     ]
    }
   ],
   "source": [
    "#or Table -> gives importance to True value\n",
    "# When A and B are not boolean. When A is true, return A, else B\n",
    "print(10 or 0)\n",
    "print(0 or 20)\n",
    "print(0 or 0.0)\n",
    "print(0.0 or 0)"
   ]
  },
  {
   "cell_type": "code",
   "execution_count": 105,
   "metadata": {},
   "outputs": [
    {
     "name": "stdout",
     "output_type": "stream",
     "text": [
      "False\n"
     ]
    }
   ],
   "source": [
    "print(10<20 and 10>100) #equivalent to print(True and False)"
   ]
  },
  {
   "cell_type": "code",
   "execution_count": null,
   "metadata": {},
   "outputs": [],
   "source": [
    "print(10<20 and 10>100 or 10==10) #equivalent to print(True and False or True)\n",
    "#if there are multiple operands at the same precendence level, they will be evaluated from R -> L"
   ]
  },
  {
   "cell_type": "code",
   "execution_count": 111,
   "metadata": {},
   "outputs": [
    {
     "name": "stdout",
     "output_type": "stream",
     "text": [
      "34\n",
      "35\n",
      "1\n"
     ]
    }
   ],
   "source": [
    "# Bitwise Operator  &, |, ^, <<, >>, \n",
    "#works only on bits\n",
    "#works only on integer value\n",
    "\n",
    "# Bitwise & table\n",
    "# 1 & 1 = 1\n",
    "# 1 & 0 = 0\n",
    "# 0 & 1 = 0\n",
    "# 0 & 0 = 0\n",
    "\n",
    "# Bitwise | table\n",
    "# 1 | 1 = 1\n",
    "# 1 | 0 = 1\n",
    "# 0 | 1 = 1\n",
    "# 0 | 0 = 0\n",
    "\n",
    "# Bitwise ^ table (XOR table)\n",
    "# 1 ^ 1 = 0\n",
    "# 1 ^ 0 = 1\n",
    "# 0 ^ 1 = 1\n",
    "# 0 ^ 0 = 0\n",
    "\n",
    "print(34&35)\n",
    "print(34|35)\n",
    "print(34^35)\n",
    "#print(bin(34),'\\n', bin(35))\n",
    "#0b100010 \n",
    "#0b100011\n",
    "#--------\n",
    "#& 0b100010 #ending result is equal to 34\n",
    "#| 0b100011 #ending result is equal to 35\n",
    "#^ 0b000001 #ending result is equal to 1"
   ]
  },
  {
   "cell_type": "code",
   "execution_count": 116,
   "metadata": {},
   "outputs": [
    {
     "name": "stdout",
     "output_type": "stream",
     "text": [
      "-11\n",
      "-2\n",
      "-101\n"
     ]
    }
   ],
   "source": [
    "num = 10\n",
    "print(~10) #bitwise negation will give -num+1. here that is -(10+1)\n",
    "print(~True) #-(1+1). Answer will be -2\n",
    "print(~100) #answer will be -101"
   ]
  },
  {
   "cell_type": "code",
   "execution_count": 117,
   "metadata": {},
   "outputs": [
    {
     "name": "stdout",
     "output_type": "stream",
     "text": [
      "40\n",
      "40\n"
     ]
    }
   ],
   "source": [
    "# Bitwise left shift (<<) and right shift (>>)\n",
    "\n",
    "# << left shift\n",
    "# 10-> 00000000000000000000000000001010 (10 is represented like this in 32 bit machine)\n",
    "# now 10<<2 -> 00000000000000000000000000101000\n",
    "print(0b101000)\n",
    "#this will be same as print(10<<2)\n",
    "print(10<<2)"
   ]
  },
  {
   "cell_type": "code",
   "execution_count": 118,
   "metadata": {},
   "outputs": [
    {
     "name": "stdout",
     "output_type": "stream",
     "text": [
      "2\n",
      "2\n"
     ]
    }
   ],
   "source": [
    "# >> left shift\n",
    "# 10-> 00000000000000000000000000001010 (10 is represented like this in 32 bit machine)\n",
    "# now 10>>2 -> 00000000000000000000000000000010\n",
    "print(0b10)\n",
    "#this will be same as print(10<<2)\n",
    "print(10>>2)"
   ]
  },
  {
   "cell_type": "code",
   "execution_count": null,
   "metadata": {},
   "outputs": [],
   "source": []
  }
 ],
 "metadata": {
  "kernelspec": {
   "display_name": "Python 3",
   "language": "python",
   "name": "python3"
  },
  "language_info": {
   "codemirror_mode": {
    "name": "ipython",
    "version": 3
   },
   "file_extension": ".py",
   "mimetype": "text/x-python",
   "name": "python",
   "nbconvert_exporter": "python",
   "pygments_lexer": "ipython3",
   "version": "3.7.1"
  }
 },
 "nbformat": 4,
 "nbformat_minor": 2
}
