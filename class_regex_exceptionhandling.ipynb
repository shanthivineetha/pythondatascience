{
 "cells": [
  {
   "cell_type": "markdown",
   "metadata": {},
   "source": [
    "# Regular Expression and Exception handling"
   ]
  },
  {
   "cell_type": "code",
   "execution_count": null,
   "metadata": {},
   "outputs": [],
   "source": [
    "# Regular expression matches the pattern character by character, regex - re\n",
    "search - looks for the pattern in the whole string and finds the first occurrence, return match object if pattern is matched else returns None\n",
    "match - looks for the pattern only in the begining of the string, return match object if pattern is matched else returns None\n",
    "findall - looks for all the occurrences in the given string of the pattern and returns a list if all the matches, if not found then returns an empty list\n",
    "split - it splits the string based on the given pattern and returns the splited string in list format, return empty list if no match is found\n",
    "sub - It replaces the given pattern withnew string\n",
    "\n"
   ]
  },
  {
   "cell_type": "code",
   "execution_count": null,
   "metadata": {},
   "outputs": [],
   "source": [
    "import re\n",
    "print()"
   ]
  },
  {
   "cell_type": "code",
   "execution_count": 23,
   "metadata": {},
   "outputs": [
    {
     "name": "stdout",
     "output_type": "stream",
     "text": [
      "['mat', 'man', 'm98', 'm9n', 'make', 'manmade', 'manhatt']\n"
     ]
    }
   ],
   "source": [
    "import re\n",
    "my_str = 'cat mat bat rat man m98 m9n make manmade manhattan m9 m' \n",
    "# looking for occurence which is starting from m and having any 2 alphanumeric characters after m\n",
    "# print('mat' in my_str)\n",
    "# print(my_str.find('mat'))\n",
    "reg = 'm\\w{2,6}'\n",
    "# print(re.match(reg, my_str))\n",
    "# print(re.search(reg, my_str))\n",
    "print(re.findall(reg, my_str))\n",
    "# print(re.split(reg, my_str))\n",
    "# print(re.sub(reg, \"987\", my_str))"
   ]
  },
  {
   "cell_type": "code",
   "execution_count": null,
   "metadata": {},
   "outputs": [],
   "source": [
    "# <r.Match object; span=(4, 7), match='mat'>\n",
    "span - says that from which index to which index match is found\n",
    "match - matched value"
   ]
  },
  {
   "cell_type": "code",
   "execution_count": null,
   "metadata": {},
   "outputs": [],
   "source": [
    "11. Sequence characters in regular expression:-\n",
    "    1. \\d - any digit from 0 to 9\n",
    "    2. \\D - any non-digit\n",
    "    3. \\s - white space e.g.:- \\t,\\n,\\r,\\v,\\f\n",
    "    4. \\S - non white space character\n",
    "    5. \\w - any alphanumeric character e.g.:- (A to Z, a to z, 0 to 9, _)\n",
    "    6. \\W - any non alphanumeric character\n",
    "    7. \\b - matches a whole word\n",
    "    8. \\A - matches only at the start of the string\n",
    "    9. \\Z - matches only at the end of the string"
   ]
  },
  {
   "cell_type": "code",
   "execution_count": null,
   "metadata": {},
   "outputs": [],
   "source": [
    "12. Characters represents more than one character to be matched in the string is called Quantifiers.\n",
    "    1. + - represents 1 or more repetitions of the preceding regex exp\n",
    "    2. * - 0 or more repetitions of the preceding regex exp\n",
    "    3. ? - 0 or 1 repetitions of the preceding regex exp\n",
    "    4. {m} - exactly m occurences\n",
    "    5. {m,n} - from m to n. m defaults to 0 n to infinity. Always goes for higher bound i.e n and then m"
   ]
  },
  {
   "cell_type": "code",
   "execution_count": null,
   "metadata": {},
   "outputs": [],
   "source": [
    "Special Characters in regex:-\n",
    "    1. \\ - Escape special character\n",
    "    2. . - matches any character except new line\n",
    "    3. ^ - matches begining of the string\n",
    "    4. $ - matches ending of a string\n",
    "    5. [...] - Denotes set of possible charcaters. e.g. [6p-t]matches any characters from 6,p,q,r,s or t.\n",
    "    6. [^...] - Matches every characters except the ones inside brackets. e.g [^6p-t]matches every characters\n",
    "    except 6,p,q,r,s or t.\n",
    "    7. (...) - Matches the regular expression inside the parenthesis and the result can be captured.\n",
    "    8. R|S - Matches the regex either R or S."
   ]
  },
  {
   "cell_type": "code",
   "execution_count": 34,
   "metadata": {},
   "outputs": [
    {
     "ename": "SyntaxError",
     "evalue": "invalid syntax (<ipython-input-34-41b081c4a916>, line 1)",
     "output_type": "error",
     "traceback": [
      "\u001b[0;36m  File \u001b[0;32m\"<ipython-input-34-41b081c4a916>\"\u001b[0;36m, line \u001b[0;32m1\u001b[0m\n\u001b[0;31m    print(re.search('\\\\\\', 'abc\\def'))\u001b[0m\n\u001b[0m                              ^\u001b[0m\n\u001b[0;31mSyntaxError\u001b[0m\u001b[0;31m:\u001b[0m invalid syntax\n"
     ]
    }
   ],
   "source": [
    "print(re.search('\\\\\\\\', 'abc\\def'))"
   ]
  },
  {
   "cell_type": "code",
   "execution_count": 26,
   "metadata": {},
   "outputs": [
    {
     "data": {
      "text/plain": [
       "'This is \"Python\" and \\'Java\\' class'"
      ]
     },
     "execution_count": 26,
     "metadata": {},
     "output_type": "execute_result"
    }
   ],
   "source": [
    "'''This is \"Python\" and 'Java' class'''"
   ]
  },
  {
   "cell_type": "code",
   "execution_count": 27,
   "metadata": {},
   "outputs": [
    {
     "name": "stdout",
     "output_type": "stream",
     "text": [
      "<re.Match object; span=(0, 7), match='abcxdef'>\n",
      "\n",
      "None\n",
      "\n",
      "None\n"
     ]
    }
   ],
   "source": [
    "print(re.search('abc.def', 'abcxdef'))\n",
    "print()\n",
    "\n",
    "print(re.search('abc.def', 'abcdef'))\n",
    "print()\n",
    "\n",
    "print(re.search('abc.def', 'abc\\ndef'))"
   ]
  },
  {
   "cell_type": "code",
   "execution_count": 30,
   "metadata": {},
   "outputs": [
    {
     "name": "stdout",
     "output_type": "stream",
     "text": [
      "<re.Match object; span=(0, 1), match='#'>\n",
      "None\n"
     ]
    }
   ],
   "source": [
    "print(re.search('.', '#$@9.><?'))\n",
    "print(re.search('\\.', '#$@9.><?'))"
   ]
  },
  {
   "cell_type": "code",
   "execution_count": 35,
   "metadata": {},
   "outputs": [
    {
     "name": "stdout",
     "output_type": "stream",
     "text": [
      "<re.Match object; span=(3, 4), match='9'>\n",
      "<re.Match object; span=(3, 4), match='a'>\n"
     ]
    }
   ],
   "source": [
    "print(re.search('[\\d\\w\\s]', '#$@9><?'))\n",
    "print(re.search('[a-zA-Z0-9_]', '?<.a>|*'))"
   ]
  },
  {
   "cell_type": "code",
   "execution_count": 40,
   "metadata": {},
   "outputs": [
    {
     "name": "stdout",
     "output_type": "stream",
     "text": [
      "<re.Match object; span=(0, 0), match=''>\n"
     ]
    }
   ],
   "source": [
    "print(re.search('[^a-zA-Z0-9_]*', 'a?<.>|*'))"
   ]
  },
  {
   "cell_type": "code",
   "execution_count": null,
   "metadata": {},
   "outputs": [],
   "source": [
    "# Exception handling\n",
    "\n",
    "# Compile time error - Synartx Error, Indentation error\n",
    "# RUn time error - \n"
   ]
  },
  {
   "cell_type": "code",
   "execution_count": 51,
   "metadata": {},
   "outputs": [
    {
     "name": "stdout",
     "output_type": "stream",
     "text": [
      "Enter 1st number: 10\n",
      "Enter 2nd number: 0\n",
      "2nd num can not be 0\n"
     ]
    }
   ],
   "source": [
    "num1 = int(input('Enter 1st number: '))\n",
    "num2 = int(input('Enter 2nd number: '))\n",
    "try:\n",
    "    print(num1/num2)\n",
    "\n",
    "except:\n",
    "    print('2nd num can not be 0')\n",
    "print(num1)\n",
    "print(num2)\n",
    "    "
   ]
  },
  {
   "cell_type": "code",
   "execution_count": 47,
   "metadata": {},
   "outputs": [
    {
     "name": "stdout",
     "output_type": "stream",
     "text": [
      "Enter 1st number: 10\n",
      "Enter 2nd number: 0\n"
     ]
    },
    {
     "ename": "ZeroDivisionError",
     "evalue": "division by zero",
     "output_type": "error",
     "traceback": [
      "\u001b[0;31m---------------------------------------------------------------------------\u001b[0m",
      "\u001b[0;31mZeroDivisionError\u001b[0m                         Traceback (most recent call last)",
      "\u001b[0;32m<ipython-input-47-ef9336f3630d>\u001b[0m in \u001b[0;36m<module>\u001b[0;34m\u001b[0m\n\u001b[1;32m      1\u001b[0m \u001b[0mnum1\u001b[0m \u001b[0;34m=\u001b[0m \u001b[0mint\u001b[0m\u001b[0;34m(\u001b[0m\u001b[0minput\u001b[0m\u001b[0;34m(\u001b[0m\u001b[0;34m'Enter 1st number: '\u001b[0m\u001b[0;34m)\u001b[0m\u001b[0;34m)\u001b[0m\u001b[0;34m\u001b[0m\u001b[0;34m\u001b[0m\u001b[0m\n\u001b[1;32m      2\u001b[0m \u001b[0mnum2\u001b[0m \u001b[0;34m=\u001b[0m \u001b[0mint\u001b[0m\u001b[0;34m(\u001b[0m\u001b[0minput\u001b[0m\u001b[0;34m(\u001b[0m\u001b[0;34m'Enter 2nd number: '\u001b[0m\u001b[0;34m)\u001b[0m\u001b[0;34m)\u001b[0m\u001b[0;34m\u001b[0m\u001b[0;34m\u001b[0m\u001b[0m\n\u001b[0;32m----> 3\u001b[0;31m \u001b[0mprint\u001b[0m\u001b[0;34m(\u001b[0m\u001b[0mnum1\u001b[0m\u001b[0;34m/\u001b[0m\u001b[0mnum2\u001b[0m\u001b[0;34m)\u001b[0m\u001b[0;34m\u001b[0m\u001b[0;34m\u001b[0m\u001b[0m\n\u001b[0m\u001b[1;32m      4\u001b[0m \u001b[0mprint\u001b[0m\u001b[0;34m(\u001b[0m\u001b[0mnum1\u001b[0m\u001b[0;34m)\u001b[0m\u001b[0;34m\u001b[0m\u001b[0;34m\u001b[0m\u001b[0m\n\u001b[1;32m      5\u001b[0m \u001b[0mprint\u001b[0m\u001b[0;34m(\u001b[0m\u001b[0mnum2\u001b[0m\u001b[0;34m)\u001b[0m\u001b[0;34m\u001b[0m\u001b[0;34m\u001b[0m\u001b[0m\n",
      "\u001b[0;31mZeroDivisionError\u001b[0m: division by zero"
     ]
    }
   ],
   "source": [
    "num1 = int(input('Enter 1st number: '))\n",
    "num2 = int(input('Enter 2nd number: '))\n",
    "\n",
    "print(num1/num2)\n",
    "print(num1)\n",
    "print(num2)"
   ]
  },
  {
   "cell_type": "code",
   "execution_count": 53,
   "metadata": {},
   "outputs": [
    {
     "name": "stdout",
     "output_type": "stream",
     "text": [
      "Enter 1st number: A\n",
      "SomeError has occurred\n",
      "10\n",
      "0\n"
     ]
    }
   ],
   "source": [
    "\n",
    "try:\n",
    "    num1 = int(input('Enter 1st number: '))\n",
    "    num2 = int(input('Enter 2nd number: '))\n",
    "    print(num1/num2)\n",
    "except ZeroDivisionError:\n",
    "    print('2nd num can not be 0')\n",
    "except:\n",
    "    print('Some Error has occurred')\n",
    "print(num1)\n",
    "print(num2)"
   ]
  },
  {
   "cell_type": "code",
   "execution_count": 54,
   "metadata": {},
   "outputs": [
    {
     "name": "stdout",
     "output_type": "stream",
     "text": [
      "Some unknown error has happened\n",
      "100\n",
      "9\n"
     ]
    }
   ],
   "source": [
    "a = 100\n",
    "b = '9'\n",
    "try:\n",
    "    print(a/b)\n",
    "\n",
    "except ZeroDivisionError:\n",
    "    print('second operand can not be zero')\n",
    "except OverflowError:\n",
    "    print('Memory is full')\n",
    "except ArithmeticError:\n",
    "    print('Some Arithmetic Error happened')\n",
    "except:\n",
    "    print('Some unknown error has happened')\n",
    "print(a)\n",
    "print(b)"
   ]
  },
  {
   "cell_type": "code",
   "execution_count": 58,
   "metadata": {},
   "outputs": [
    {
     "name": "stdout",
     "output_type": "stream",
     "text": [
      "division by zero\n",
      "100\n",
      "0\n"
     ]
    }
   ],
   "source": [
    "a = 100\n",
    "b = 0\n",
    "try:\n",
    "    print(a/b)\n",
    "except (ZeroDivisionError, OverflowError,ArithmeticError) as e:\n",
    "    print(e)\n",
    "print(a)\n",
    "print(b)"
   ]
  },
  {
   "cell_type": "code",
   "execution_count": null,
   "metadata": {},
   "outputs": [],
   "source": [
    "a = 100\n",
    "b = 20\n",
    "try:\n",
    "    print(a/b)\n",
    "    try:\n",
    "        print(b/a)\n",
    "    except:\n",
    "        print('Not possible')\n",
    "\n",
    "except ZeroDivisionError:\n",
    "    print('Hey! Division by zero is not possible')\n",
    "except:\n",
    "    print('Default Exception occured')\n",
    "finally:\n",
    "    print('deleting a and b')\n",
    "    del a\n",
    "    del b\n",
    "    print('Deleted')"
   ]
  },
  {
   "cell_type": "code",
   "execution_count": 60,
   "metadata": {},
   "outputs": [
    {
     "name": "stdout",
     "output_type": "stream",
     "text": [
      "Enter an amount you want to withdraw: 80000\n"
     ]
    },
    {
     "ename": "large_amount_exception",
     "evalue": "It is quite large amount to withdraw",
     "output_type": "error",
     "traceback": [
      "\u001b[0;31m---------------------------------------------------------------------------\u001b[0m",
      "\u001b[0;31mlarge_amount_exception\u001b[0m                    Traceback (most recent call last)",
      "\u001b[0;32m<ipython-input-60-6a92c9019297>\u001b[0m in \u001b[0;36m<module>\u001b[0;34m\u001b[0m\n\u001b[1;32m      5\u001b[0m \u001b[0mwithdraw_amt\u001b[0m \u001b[0;34m=\u001b[0m \u001b[0mint\u001b[0m\u001b[0;34m(\u001b[0m\u001b[0minput\u001b[0m\u001b[0;34m(\u001b[0m\u001b[0;34m'Enter an amount you want to withdraw: '\u001b[0m\u001b[0;34m)\u001b[0m\u001b[0;34m)\u001b[0m\u001b[0;34m\u001b[0m\u001b[0;34m\u001b[0m\u001b[0m\n\u001b[1;32m      6\u001b[0m \u001b[0;32mif\u001b[0m \u001b[0mwithdraw_amt\u001b[0m\u001b[0;34m>\u001b[0m\u001b[0;36m49999\u001b[0m\u001b[0;34m:\u001b[0m\u001b[0;34m\u001b[0m\u001b[0;34m\u001b[0m\u001b[0m\n\u001b[0;32m----> 7\u001b[0;31m     \u001b[0;32mraise\u001b[0m \u001b[0mlarge_amount_exception\u001b[0m\u001b[0;34m(\u001b[0m\u001b[0;34m'It is quite large amount to withdraw'\u001b[0m\u001b[0;34m)\u001b[0m\u001b[0;34m\u001b[0m\u001b[0;34m\u001b[0m\u001b[0m\n\u001b[0m\u001b[1;32m      8\u001b[0m \u001b[0;32melse\u001b[0m\u001b[0;34m:\u001b[0m\u001b[0;34m\u001b[0m\u001b[0;34m\u001b[0m\u001b[0m\n\u001b[1;32m      9\u001b[0m     \u001b[0mprint\u001b[0m\u001b[0;34m(\u001b[0m\u001b[0;34m'You may withdraw this amount'\u001b[0m\u001b[0;34m)\u001b[0m\u001b[0;34m\u001b[0m\u001b[0;34m\u001b[0m\u001b[0m\n",
      "\u001b[0;31mlarge_amount_exception\u001b[0m: It is quite large amount to withdraw"
     ]
    }
   ],
   "source": [
    "class large_amount_exception(Exception):\n",
    "    def __init__(self, msg):\n",
    "        self.msg = msg\n",
    "\n",
    "withdraw_amt = int(input('Enter an amount you want to withdraw: '))\n",
    "if withdraw_amt>49999:\n",
    "    raise large_amount_exception('It is quite large amount to withdraw')\n",
    "else:\n",
    "    print('You may withdraw this amount')"
   ]
  },
  {
   "cell_type": "code",
   "execution_count": null,
   "metadata": {},
   "outputs": [],
   "source": []
  },
  {
   "cell_type": "code",
   "execution_count": null,
   "metadata": {},
   "outputs": [],
   "source": []
  }
 ],
 "metadata": {
  "kernelspec": {
   "display_name": "Python 3",
   "language": "python",
   "name": "python3"
  },
  "language_info": {
   "codemirror_mode": {
    "name": "ipython",
    "version": 3
   },
   "file_extension": ".py",
   "mimetype": "text/x-python",
   "name": "python",
   "nbconvert_exporter": "python",
   "pygments_lexer": "ipython3",
   "version": "3.7.1"
  }
 },
 "nbformat": 4,
 "nbformat_minor": 2
}
